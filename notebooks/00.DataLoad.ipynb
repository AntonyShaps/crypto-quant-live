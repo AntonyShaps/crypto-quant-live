{
 "cells": [
  {
   "cell_type": "code",
   "execution_count": null,
   "id": "9a7f0b7c",
   "metadata": {},
   "outputs": [
    {
     "name": "stdout",
     "output_type": "stream",
     "text": [
      "---> Found overall tickers: 3085\n",
      "---> Filter to USDT tickers\n",
      "------> Tickers left: 577\n",
      "Download full data for 577 tickers: \n",
      "---> Data will be saved here: /home/anton/repos/crypto-quant-live/data/spot\n",
      "---> Data Frequency: 1s\n",
      "---> Start Date: 20250503\n",
      "---> End Date: 20250503\n"
     ]
    },
    {
     "data": {
      "application/vnd.jupyter.widget-view+json": {
       "model_id": "335706db863848fc859272bd7f715cd1",
       "version_major": 2,
       "version_minor": 0
      },
      "text/plain": [
       "Tickers:   0%|          | 0/577 [00:00<?, ?it/s]"
      ]
     },
     "metadata": {},
     "output_type": "display_data"
    },
    {
     "data": {
      "application/vnd.jupyter.widget-view+json": {
       "model_id": "c3482511a38c4d11aa0f8e337cffe227",
       "version_major": 2,
       "version_minor": 0
      },
      "text/plain": [
       "daily files to download:   0%|          | 0/3 [00:00<?, ?files/s]"
      ]
     },
     "metadata": {},
     "output_type": "display_data"
    },
    {
     "data": {
      "application/vnd.jupyter.widget-view+json": {
       "model_id": "86939c25509d43b4b47ccc6b88d4d627",
       "version_major": 2,
       "version_minor": 0
      },
      "text/plain": [
       "daily files to download:   0%|          | 0/3 [00:00<?, ?files/s]"
      ]
     },
     "metadata": {},
     "output_type": "display_data"
    },
    {
     "data": {
      "application/vnd.jupyter.widget-view+json": {
       "model_id": "9c4e356967424d62bbd38bb3e17a45aa",
       "version_major": 2,
       "version_minor": 0
      },
      "text/plain": [
       "daily files to download:   0%|          | 0/3 [00:00<?, ?files/s]"
      ]
     },
     "metadata": {},
     "output_type": "display_data"
    },
    {
     "data": {
      "application/vnd.jupyter.widget-view+json": {
       "model_id": "1aeceabdd02b428c9ab53677c84d925e",
       "version_major": 2,
       "version_minor": 0
      },
      "text/plain": [
       "daily files to download:   0%|          | 0/3 [00:00<?, ?files/s]"
      ]
     },
     "metadata": {},
     "output_type": "display_data"
    },
    {
     "data": {
      "application/vnd.jupyter.widget-view+json": {
       "model_id": "26f9f04c31a548aeb20272685b1f26ec",
       "version_major": 2,
       "version_minor": 0
      },
      "text/plain": [
       "daily files to download:   0%|          | 0/3 [00:00<?, ?files/s]"
      ]
     },
     "metadata": {},
     "output_type": "display_data"
    },
    {
     "data": {
      "application/vnd.jupyter.widget-view+json": {
       "model_id": "2166964abcb14a0fa2bd7ec7e169cd36",
       "version_major": 2,
       "version_minor": 0
      },
      "text/plain": [
       "daily files to download:   0%|          | 0/3 [00:00<?, ?files/s]"
      ]
     },
     "metadata": {},
     "output_type": "display_data"
    },
    {
     "data": {
      "application/vnd.jupyter.widget-view+json": {
       "model_id": "5551ed00b4ee468885383f41bc3b1ade",
       "version_major": 2,
       "version_minor": 0
      },
      "text/plain": [
       "daily files to download:   0%|          | 0/3 [00:00<?, ?files/s]"
      ]
     },
     "metadata": {},
     "output_type": "display_data"
    },
    {
     "data": {
      "application/vnd.jupyter.widget-view+json": {
       "model_id": "62660f8c06cc48bbb1e31daecf030757",
       "version_major": 2,
       "version_minor": 0
      },
      "text/plain": [
       "daily files to download:   0%|          | 0/3 [00:00<?, ?files/s]"
      ]
     },
     "metadata": {},
     "output_type": "display_data"
    },
    {
     "data": {
      "application/vnd.jupyter.widget-view+json": {
       "model_id": "0d6f11f90ba5437fb92fe206548d9c8d",
       "version_major": 2,
       "version_minor": 0
      },
      "text/plain": [
       "daily files to download:   0%|          | 0/3 [00:00<?, ?files/s]"
      ]
     },
     "metadata": {},
     "output_type": "display_data"
    },
    {
     "data": {
      "application/vnd.jupyter.widget-view+json": {
       "model_id": "5fae9ebf1df840518416572c0d9bbb3a",
       "version_major": 2,
       "version_minor": 0
      },
      "text/plain": [
       "daily files to download:   0%|          | 0/3 [00:00<?, ?files/s]"
      ]
     },
     "metadata": {},
     "output_type": "display_data"
    },
    {
     "data": {
      "application/vnd.jupyter.widget-view+json": {
       "model_id": "b05da79c0980448d8843b4ad342263b9",
       "version_major": 2,
       "version_minor": 0
      },
      "text/plain": [
       "daily files to download:   0%|          | 0/3 [00:00<?, ?files/s]"
      ]
     },
     "metadata": {},
     "output_type": "display_data"
    },
    {
     "data": {
      "application/vnd.jupyter.widget-view+json": {
       "model_id": "d824c4aa3c8a48d48852879b38cc6b94",
       "version_major": 2,
       "version_minor": 0
      },
      "text/plain": [
       "daily files to download:   0%|          | 0/3 [00:00<?, ?files/s]"
      ]
     },
     "metadata": {},
     "output_type": "display_data"
    },
    {
     "data": {
      "application/vnd.jupyter.widget-view+json": {
       "model_id": "12856b0844b8487b934a29a5517a1703",
       "version_major": 2,
       "version_minor": 0
      },
      "text/plain": [
       "daily files to download:   0%|          | 0/3 [00:00<?, ?files/s]"
      ]
     },
     "metadata": {},
     "output_type": "display_data"
    },
    {
     "data": {
      "application/vnd.jupyter.widget-view+json": {
       "model_id": "2b1ebda4658f4025b64a7028bc0c48ba",
       "version_major": 2,
       "version_minor": 0
      },
      "text/plain": [
       "daily files to download:   0%|          | 0/3 [00:00<?, ?files/s]"
      ]
     },
     "metadata": {},
     "output_type": "display_data"
    },
    {
     "data": {
      "application/vnd.jupyter.widget-view+json": {
       "model_id": "7d5f86c56cc0417386ce7a4602eab566",
       "version_major": 2,
       "version_minor": 0
      },
      "text/plain": [
       "daily files to download:   0%|          | 0/3 [00:00<?, ?files/s]"
      ]
     },
     "metadata": {},
     "output_type": "display_data"
    },
    {
     "data": {
      "application/vnd.jupyter.widget-view+json": {
       "model_id": "80666d5859e2445aaa7b88414ca60565",
       "version_major": 2,
       "version_minor": 0
      },
      "text/plain": [
       "daily files to download:   0%|          | 0/3 [00:00<?, ?files/s]"
      ]
     },
     "metadata": {},
     "output_type": "display_data"
    },
    {
     "data": {
      "application/vnd.jupyter.widget-view+json": {
       "model_id": "770e075d0bdf42d08fdfe8bdca1350ff",
       "version_major": 2,
       "version_minor": 0
      },
      "text/plain": [
       "daily files to download:   0%|          | 0/3 [00:00<?, ?files/s]"
      ]
     },
     "metadata": {},
     "output_type": "display_data"
    },
    {
     "data": {
      "application/vnd.jupyter.widget-view+json": {
       "model_id": "5d8465c8a281497e90b814a1cbd5287d",
       "version_major": 2,
       "version_minor": 0
      },
      "text/plain": [
       "daily files to download:   0%|          | 0/3 [00:00<?, ?files/s]"
      ]
     },
     "metadata": {},
     "output_type": "display_data"
    },
    {
     "data": {
      "application/vnd.jupyter.widget-view+json": {
       "model_id": "669a484fb3614610a7639a8bc588a914",
       "version_major": 2,
       "version_minor": 0
      },
      "text/plain": [
       "daily files to download:   0%|          | 0/3 [00:00<?, ?files/s]"
      ]
     },
     "metadata": {},
     "output_type": "display_data"
    },
    {
     "data": {
      "application/vnd.jupyter.widget-view+json": {
       "model_id": "a6926e262160498fa884d9788a7a8250",
       "version_major": 2,
       "version_minor": 0
      },
      "text/plain": [
       "daily files to download:   0%|          | 0/3 [00:00<?, ?files/s]"
      ]
     },
     "metadata": {},
     "output_type": "display_data"
    },
    {
     "data": {
      "application/vnd.jupyter.widget-view+json": {
       "model_id": "b5f1802a1b974b1298fa333509be1bc9",
       "version_major": 2,
       "version_minor": 0
      },
      "text/plain": [
       "daily files to download:   0%|          | 0/3 [00:00<?, ?files/s]"
      ]
     },
     "metadata": {},
     "output_type": "display_data"
    },
    {
     "data": {
      "application/vnd.jupyter.widget-view+json": {
       "model_id": "ec9b4152b8ca4dae8a172a447cbc0954",
       "version_major": 2,
       "version_minor": 0
      },
      "text/plain": [
       "daily files to download:   0%|          | 0/3 [00:00<?, ?files/s]"
      ]
     },
     "metadata": {},
     "output_type": "display_data"
    },
    {
     "data": {
      "application/vnd.jupyter.widget-view+json": {
       "model_id": "d111e12c785644a49a4e197f9f465002",
       "version_major": 2,
       "version_minor": 0
      },
      "text/plain": [
       "daily files to download:   0%|          | 0/3 [00:00<?, ?files/s]"
      ]
     },
     "metadata": {},
     "output_type": "display_data"
    },
    {
     "data": {
      "application/vnd.jupyter.widget-view+json": {
       "model_id": "375abb93e89a4bb5964d93c500742503",
       "version_major": 2,
       "version_minor": 0
      },
      "text/plain": [
       "daily files to download:   0%|          | 0/3 [00:00<?, ?files/s]"
      ]
     },
     "metadata": {},
     "output_type": "display_data"
    },
    {
     "data": {
      "application/vnd.jupyter.widget-view+json": {
       "model_id": "1b7453bf76d247b681f31e92c3aa6f45",
       "version_major": 2,
       "version_minor": 0
      },
      "text/plain": [
       "daily files to download:   0%|          | 0/3 [00:00<?, ?files/s]"
      ]
     },
     "metadata": {},
     "output_type": "display_data"
    },
    {
     "data": {
      "application/vnd.jupyter.widget-view+json": {
       "model_id": "80b7d2add7894c24be72e614d12a0c4f",
       "version_major": 2,
       "version_minor": 0
      },
      "text/plain": [
       "daily files to download:   0%|          | 0/3 [00:00<?, ?files/s]"
      ]
     },
     "metadata": {},
     "output_type": "display_data"
    },
    {
     "data": {
      "application/vnd.jupyter.widget-view+json": {
       "model_id": "899273e766b941cc8a52597a3074ff02",
       "version_major": 2,
       "version_minor": 0
      },
      "text/plain": [
       "daily files to download:   0%|          | 0/3 [00:00<?, ?files/s]"
      ]
     },
     "metadata": {},
     "output_type": "display_data"
    },
    {
     "data": {
      "application/vnd.jupyter.widget-view+json": {
       "model_id": "82615512a18a4383b4b4b6c3dbf284a5",
       "version_major": 2,
       "version_minor": 0
      },
      "text/plain": [
       "daily files to download:   0%|          | 0/3 [00:00<?, ?files/s]"
      ]
     },
     "metadata": {},
     "output_type": "display_data"
    },
    {
     "data": {
      "application/vnd.jupyter.widget-view+json": {
       "model_id": "ae443a2599de42c2905fa95cb9840e62",
       "version_major": 2,
       "version_minor": 0
      },
      "text/plain": [
       "daily files to download:   0%|          | 0/3 [00:00<?, ?files/s]"
      ]
     },
     "metadata": {},
     "output_type": "display_data"
    },
    {
     "data": {
      "application/vnd.jupyter.widget-view+json": {
       "model_id": "9c8d994fef324422ae57d47ee857333a",
       "version_major": 2,
       "version_minor": 0
      },
      "text/plain": [
       "daily files to download:   0%|          | 0/3 [00:00<?, ?files/s]"
      ]
     },
     "metadata": {},
     "output_type": "display_data"
    },
    {
     "data": {
      "application/vnd.jupyter.widget-view+json": {
       "model_id": "baf7417746284f03aae1fa9ade4c57a2",
       "version_major": 2,
       "version_minor": 0
      },
      "text/plain": [
       "daily files to download:   0%|          | 0/3 [00:00<?, ?files/s]"
      ]
     },
     "metadata": {},
     "output_type": "display_data"
    },
    {
     "data": {
      "application/vnd.jupyter.widget-view+json": {
       "model_id": "a90376a3864f43b88d9e720e921e131b",
       "version_major": 2,
       "version_minor": 0
      },
      "text/plain": [
       "daily files to download:   0%|          | 0/3 [00:00<?, ?files/s]"
      ]
     },
     "metadata": {},
     "output_type": "display_data"
    },
    {
     "data": {
      "application/vnd.jupyter.widget-view+json": {
       "model_id": "4c595c6b3f364ae18914ece47d9b6d2f",
       "version_major": 2,
       "version_minor": 0
      },
      "text/plain": [
       "daily files to download:   0%|          | 0/3 [00:00<?, ?files/s]"
      ]
     },
     "metadata": {},
     "output_type": "display_data"
    },
    {
     "data": {
      "application/vnd.jupyter.widget-view+json": {
       "model_id": "a2323288743444eea01a4a68d6b2e8c7",
       "version_major": 2,
       "version_minor": 0
      },
      "text/plain": [
       "daily files to download:   0%|          | 0/3 [00:00<?, ?files/s]"
      ]
     },
     "metadata": {},
     "output_type": "display_data"
    },
    {
     "data": {
      "application/vnd.jupyter.widget-view+json": {
       "model_id": "f5ef25b46ebb40689ffef27f37a100d5",
       "version_major": 2,
       "version_minor": 0
      },
      "text/plain": [
       "daily files to download:   0%|          | 0/3 [00:00<?, ?files/s]"
      ]
     },
     "metadata": {},
     "output_type": "display_data"
    },
    {
     "data": {
      "application/vnd.jupyter.widget-view+json": {
       "model_id": "f97636cb69904b4aa43bbfac4e5c93c4",
       "version_major": 2,
       "version_minor": 0
      },
      "text/plain": [
       "daily files to download:   0%|          | 0/3 [00:00<?, ?files/s]"
      ]
     },
     "metadata": {},
     "output_type": "display_data"
    },
    {
     "data": {
      "application/vnd.jupyter.widget-view+json": {
       "model_id": "fbb2825b30d64698b66076a38dd0bbcf",
       "version_major": 2,
       "version_minor": 0
      },
      "text/plain": [
       "daily files to download:   0%|          | 0/3 [00:00<?, ?files/s]"
      ]
     },
     "metadata": {},
     "output_type": "display_data"
    },
    {
     "data": {
      "application/vnd.jupyter.widget-view+json": {
       "model_id": "b41cbe4d7255454ca1f9d77efe04fca0",
       "version_major": 2,
       "version_minor": 0
      },
      "text/plain": [
       "daily files to download:   0%|          | 0/3 [00:00<?, ?files/s]"
      ]
     },
     "metadata": {},
     "output_type": "display_data"
    },
    {
     "data": {
      "application/vnd.jupyter.widget-view+json": {
       "model_id": "48aaf2c907d04eea8bcecd766f84b22a",
       "version_major": 2,
       "version_minor": 0
      },
      "text/plain": [
       "daily files to download:   0%|          | 0/3 [00:00<?, ?files/s]"
      ]
     },
     "metadata": {},
     "output_type": "display_data"
    },
    {
     "data": {
      "application/vnd.jupyter.widget-view+json": {
       "model_id": "9d4d98ef9b1746b7b09a6c3891b318a5",
       "version_major": 2,
       "version_minor": 0
      },
      "text/plain": [
       "daily files to download:   0%|          | 0/3 [00:00<?, ?files/s]"
      ]
     },
     "metadata": {},
     "output_type": "display_data"
    },
    {
     "data": {
      "application/vnd.jupyter.widget-view+json": {
       "model_id": "d46bb291238746498b6aa4e2ee03c40f",
       "version_major": 2,
       "version_minor": 0
      },
      "text/plain": [
       "daily files to download:   0%|          | 0/3 [00:00<?, ?files/s]"
      ]
     },
     "metadata": {},
     "output_type": "display_data"
    },
    {
     "data": {
      "application/vnd.jupyter.widget-view+json": {
       "model_id": "24a5005d07be4108a4915ae2a9aa6409",
       "version_major": 2,
       "version_minor": 0
      },
      "text/plain": [
       "daily files to download:   0%|          | 0/3 [00:00<?, ?files/s]"
      ]
     },
     "metadata": {},
     "output_type": "display_data"
    },
    {
     "data": {
      "application/vnd.jupyter.widget-view+json": {
       "model_id": "a275aed457b04e358b47095dc1534372",
       "version_major": 2,
       "version_minor": 0
      },
      "text/plain": [
       "daily files to download:   0%|          | 0/3 [00:00<?, ?files/s]"
      ]
     },
     "metadata": {},
     "output_type": "display_data"
    },
    {
     "data": {
      "application/vnd.jupyter.widget-view+json": {
       "model_id": "d992d2097a7d4b5a9b77ea98d7e6c622",
       "version_major": 2,
       "version_minor": 0
      },
      "text/plain": [
       "daily files to download:   0%|          | 0/3 [00:00<?, ?files/s]"
      ]
     },
     "metadata": {},
     "output_type": "display_data"
    },
    {
     "data": {
      "application/vnd.jupyter.widget-view+json": {
       "model_id": "5d286c7de8314ac4a6251f9237582f8c",
       "version_major": 2,
       "version_minor": 0
      },
      "text/plain": [
       "daily files to download:   0%|          | 0/3 [00:00<?, ?files/s]"
      ]
     },
     "metadata": {},
     "output_type": "display_data"
    },
    {
     "data": {
      "application/vnd.jupyter.widget-view+json": {
       "model_id": "bb801f377ca443c88496a8b537aa306e",
       "version_major": 2,
       "version_minor": 0
      },
      "text/plain": [
       "daily files to download:   0%|          | 0/3 [00:00<?, ?files/s]"
      ]
     },
     "metadata": {},
     "output_type": "display_data"
    },
    {
     "data": {
      "application/vnd.jupyter.widget-view+json": {
       "model_id": "11dd73fac18f49d08749bb6bb7eef298",
       "version_major": 2,
       "version_minor": 0
      },
      "text/plain": [
       "daily files to download:   0%|          | 0/3 [00:00<?, ?files/s]"
      ]
     },
     "metadata": {},
     "output_type": "display_data"
    },
    {
     "data": {
      "application/vnd.jupyter.widget-view+json": {
       "model_id": "842d8b08a3f8471ba855491a404707ec",
       "version_major": 2,
       "version_minor": 0
      },
      "text/plain": [
       "daily files to download:   0%|          | 0/3 [00:00<?, ?files/s]"
      ]
     },
     "metadata": {},
     "output_type": "display_data"
    },
    {
     "data": {
      "application/vnd.jupyter.widget-view+json": {
       "model_id": "0324194c706644df9211250c6143bee9",
       "version_major": 2,
       "version_minor": 0
      },
      "text/plain": [
       "daily files to download:   0%|          | 0/3 [00:00<?, ?files/s]"
      ]
     },
     "metadata": {},
     "output_type": "display_data"
    },
    {
     "data": {
      "application/vnd.jupyter.widget-view+json": {
       "model_id": "6acfe851968a4bc5ba007bfb27ab1aab",
       "version_major": 2,
       "version_minor": 0
      },
      "text/plain": [
       "daily files to download:   0%|          | 0/3 [00:00<?, ?files/s]"
      ]
     },
     "metadata": {},
     "output_type": "display_data"
    },
    {
     "data": {
      "application/vnd.jupyter.widget-view+json": {
       "model_id": "9ad114f2f5b24535ab97100aa01464ae",
       "version_major": 2,
       "version_minor": 0
      },
      "text/plain": [
       "daily files to download:   0%|          | 0/3 [00:00<?, ?files/s]"
      ]
     },
     "metadata": {},
     "output_type": "display_data"
    },
    {
     "data": {
      "application/vnd.jupyter.widget-view+json": {
       "model_id": "1a3d5b1d4e79487cbe4642f46e3e95b5",
       "version_major": 2,
       "version_minor": 0
      },
      "text/plain": [
       "daily files to download:   0%|          | 0/3 [00:00<?, ?files/s]"
      ]
     },
     "metadata": {},
     "output_type": "display_data"
    },
    {
     "data": {
      "application/vnd.jupyter.widget-view+json": {
       "model_id": "f1b5f2b5971842d995b6a88ae7778f3a",
       "version_major": 2,
       "version_minor": 0
      },
      "text/plain": [
       "daily files to download:   0%|          | 0/3 [00:00<?, ?files/s]"
      ]
     },
     "metadata": {},
     "output_type": "display_data"
    },
    {
     "data": {
      "application/vnd.jupyter.widget-view+json": {
       "model_id": "53c053b74b244ccaacddcdbf0c758258",
       "version_major": 2,
       "version_minor": 0
      },
      "text/plain": [
       "daily files to download:   0%|          | 0/3 [00:00<?, ?files/s]"
      ]
     },
     "metadata": {},
     "output_type": "display_data"
    },
    {
     "data": {
      "application/vnd.jupyter.widget-view+json": {
       "model_id": "55798a88b610416fb69ea8f664a5a4c8",
       "version_major": 2,
       "version_minor": 0
      },
      "text/plain": [
       "daily files to download:   0%|          | 0/3 [00:00<?, ?files/s]"
      ]
     },
     "metadata": {},
     "output_type": "display_data"
    },
    {
     "data": {
      "application/vnd.jupyter.widget-view+json": {
       "model_id": "ea5394ed6d184833a266ecc6ddea2f5f",
       "version_major": 2,
       "version_minor": 0
      },
      "text/plain": [
       "daily files to download:   0%|          | 0/3 [00:00<?, ?files/s]"
      ]
     },
     "metadata": {},
     "output_type": "display_data"
    },
    {
     "data": {
      "application/vnd.jupyter.widget-view+json": {
       "model_id": "22227a1cf3544608a288480e06c03193",
       "version_major": 2,
       "version_minor": 0
      },
      "text/plain": [
       "daily files to download:   0%|          | 0/3 [00:00<?, ?files/s]"
      ]
     },
     "metadata": {},
     "output_type": "display_data"
    },
    {
     "data": {
      "application/vnd.jupyter.widget-view+json": {
       "model_id": "9a1eb7010dd140bab415cf157e18ff70",
       "version_major": 2,
       "version_minor": 0
      },
      "text/plain": [
       "daily files to download:   0%|          | 0/3 [00:00<?, ?files/s]"
      ]
     },
     "metadata": {},
     "output_type": "display_data"
    },
    {
     "data": {
      "application/vnd.jupyter.widget-view+json": {
       "model_id": "1a309f9baa264ad8a034cc6b714c76b1",
       "version_major": 2,
       "version_minor": 0
      },
      "text/plain": [
       "daily files to download:   0%|          | 0/3 [00:00<?, ?files/s]"
      ]
     },
     "metadata": {},
     "output_type": "display_data"
    },
    {
     "data": {
      "application/vnd.jupyter.widget-view+json": {
       "model_id": "a70f1e5f07994103a394ae0f34d279a0",
       "version_major": 2,
       "version_minor": 0
      },
      "text/plain": [
       "daily files to download:   0%|          | 0/3 [00:00<?, ?files/s]"
      ]
     },
     "metadata": {},
     "output_type": "display_data"
    },
    {
     "data": {
      "application/vnd.jupyter.widget-view+json": {
       "model_id": "7e90febc2ec7494fa648e6338ad41ea0",
       "version_major": 2,
       "version_minor": 0
      },
      "text/plain": [
       "daily files to download:   0%|          | 0/3 [00:00<?, ?files/s]"
      ]
     },
     "metadata": {},
     "output_type": "display_data"
    },
    {
     "data": {
      "application/vnd.jupyter.widget-view+json": {
       "model_id": "2fd37fd6212a4deda67f83609e8f7031",
       "version_major": 2,
       "version_minor": 0
      },
      "text/plain": [
       "daily files to download:   0%|          | 0/3 [00:00<?, ?files/s]"
      ]
     },
     "metadata": {},
     "output_type": "display_data"
    },
    {
     "data": {
      "application/vnd.jupyter.widget-view+json": {
       "model_id": "8dd7d3d5e73c45e5afb6c128b78ba9c9",
       "version_major": 2,
       "version_minor": 0
      },
      "text/plain": [
       "daily files to download:   0%|          | 0/3 [00:00<?, ?files/s]"
      ]
     },
     "metadata": {},
     "output_type": "display_data"
    },
    {
     "data": {
      "application/vnd.jupyter.widget-view+json": {
       "model_id": "22a3a2e7c718465c98a2ff11153cf138",
       "version_major": 2,
       "version_minor": 0
      },
      "text/plain": [
       "daily files to download:   0%|          | 0/3 [00:00<?, ?files/s]"
      ]
     },
     "metadata": {},
     "output_type": "display_data"
    },
    {
     "data": {
      "application/vnd.jupyter.widget-view+json": {
       "model_id": "441355fa564e469c828a63f3888222fc",
       "version_major": 2,
       "version_minor": 0
      },
      "text/plain": [
       "daily files to download:   0%|          | 0/3 [00:00<?, ?files/s]"
      ]
     },
     "metadata": {},
     "output_type": "display_data"
    },
    {
     "data": {
      "application/vnd.jupyter.widget-view+json": {
       "model_id": "158a89d334a740d28b480126c49bb4a0",
       "version_major": 2,
       "version_minor": 0
      },
      "text/plain": [
       "daily files to download:   0%|          | 0/3 [00:00<?, ?files/s]"
      ]
     },
     "metadata": {},
     "output_type": "display_data"
    },
    {
     "data": {
      "application/vnd.jupyter.widget-view+json": {
       "model_id": "9385d2405f13434080d5ba407f6052ee",
       "version_major": 2,
       "version_minor": 0
      },
      "text/plain": [
       "daily files to download:   0%|          | 0/3 [00:00<?, ?files/s]"
      ]
     },
     "metadata": {},
     "output_type": "display_data"
    },
    {
     "data": {
      "application/vnd.jupyter.widget-view+json": {
       "model_id": "fdb9ecfaab014a5d8d213d20df3e739b",
       "version_major": 2,
       "version_minor": 0
      },
      "text/plain": [
       "daily files to download:   0%|          | 0/3 [00:00<?, ?files/s]"
      ]
     },
     "metadata": {},
     "output_type": "display_data"
    },
    {
     "data": {
      "application/vnd.jupyter.widget-view+json": {
       "model_id": "35299504a9344dd3a4864cf18a3bf204",
       "version_major": 2,
       "version_minor": 0
      },
      "text/plain": [
       "daily files to download:   0%|          | 0/3 [00:00<?, ?files/s]"
      ]
     },
     "metadata": {},
     "output_type": "display_data"
    },
    {
     "data": {
      "application/vnd.jupyter.widget-view+json": {
       "model_id": "47dc2f5f5acf4526b16f8e0df63a5c08",
       "version_major": 2,
       "version_minor": 0
      },
      "text/plain": [
       "daily files to download:   0%|          | 0/3 [00:00<?, ?files/s]"
      ]
     },
     "metadata": {},
     "output_type": "display_data"
    },
    {
     "data": {
      "application/vnd.jupyter.widget-view+json": {
       "model_id": "dc8b0585a088419b96790d42c707c0d9",
       "version_major": 2,
       "version_minor": 0
      },
      "text/plain": [
       "daily files to download:   0%|          | 0/3 [00:00<?, ?files/s]"
      ]
     },
     "metadata": {},
     "output_type": "display_data"
    },
    {
     "data": {
      "application/vnd.jupyter.widget-view+json": {
       "model_id": "5c963c82d99c49ab90705a532729d42d",
       "version_major": 2,
       "version_minor": 0
      },
      "text/plain": [
       "daily files to download:   0%|          | 0/3 [00:00<?, ?files/s]"
      ]
     },
     "metadata": {},
     "output_type": "display_data"
    },
    {
     "data": {
      "application/vnd.jupyter.widget-view+json": {
       "model_id": "835f45dc83824f928f5e321be558d461",
       "version_major": 2,
       "version_minor": 0
      },
      "text/plain": [
       "daily files to download:   0%|          | 0/3 [00:00<?, ?files/s]"
      ]
     },
     "metadata": {},
     "output_type": "display_data"
    },
    {
     "data": {
      "application/vnd.jupyter.widget-view+json": {
       "model_id": "8b28e4c089574ce8bfe6e3ddf8fbb9b2",
       "version_major": 2,
       "version_minor": 0
      },
      "text/plain": [
       "daily files to download:   0%|          | 0/3 [00:00<?, ?files/s]"
      ]
     },
     "metadata": {},
     "output_type": "display_data"
    },
    {
     "data": {
      "application/vnd.jupyter.widget-view+json": {
       "model_id": "fc00ed3b7e81463c8c2e938618c2fa20",
       "version_major": 2,
       "version_minor": 0
      },
      "text/plain": [
       "daily files to download:   0%|          | 0/3 [00:00<?, ?files/s]"
      ]
     },
     "metadata": {},
     "output_type": "display_data"
    },
    {
     "data": {
      "application/vnd.jupyter.widget-view+json": {
       "model_id": "469649ca43e5447bb9d4d249854ed6cc",
       "version_major": 2,
       "version_minor": 0
      },
      "text/plain": [
       "daily files to download:   0%|          | 0/3 [00:00<?, ?files/s]"
      ]
     },
     "metadata": {},
     "output_type": "display_data"
    },
    {
     "data": {
      "application/vnd.jupyter.widget-view+json": {
       "model_id": "fd81d9dbb9e44193931c9e65cb02236c",
       "version_major": 2,
       "version_minor": 0
      },
      "text/plain": [
       "daily files to download:   0%|          | 0/3 [00:00<?, ?files/s]"
      ]
     },
     "metadata": {},
     "output_type": "display_data"
    },
    {
     "data": {
      "application/vnd.jupyter.widget-view+json": {
       "model_id": "68c295b39a80414eb5034f86cea3d1b1",
       "version_major": 2,
       "version_minor": 0
      },
      "text/plain": [
       "daily files to download:   0%|          | 0/3 [00:00<?, ?files/s]"
      ]
     },
     "metadata": {},
     "output_type": "display_data"
    },
    {
     "data": {
      "application/vnd.jupyter.widget-view+json": {
       "model_id": "0bfb785423eb4ee282f6fe675c1bc9a5",
       "version_major": 2,
       "version_minor": 0
      },
      "text/plain": [
       "daily files to download:   0%|          | 0/3 [00:00<?, ?files/s]"
      ]
     },
     "metadata": {},
     "output_type": "display_data"
    },
    {
     "data": {
      "application/vnd.jupyter.widget-view+json": {
       "model_id": "ee79af64ae764d9db2b4cc52b89adfb8",
       "version_major": 2,
       "version_minor": 0
      },
      "text/plain": [
       "daily files to download:   0%|          | 0/3 [00:00<?, ?files/s]"
      ]
     },
     "metadata": {},
     "output_type": "display_data"
    },
    {
     "data": {
      "application/vnd.jupyter.widget-view+json": {
       "model_id": "32e20d361c63485fa50fa2d32c295531",
       "version_major": 2,
       "version_minor": 0
      },
      "text/plain": [
       "daily files to download:   0%|          | 0/3 [00:00<?, ?files/s]"
      ]
     },
     "metadata": {},
     "output_type": "display_data"
    },
    {
     "data": {
      "application/vnd.jupyter.widget-view+json": {
       "model_id": "b8eb080a6a7b4389b93f389adafef411",
       "version_major": 2,
       "version_minor": 0
      },
      "text/plain": [
       "daily files to download:   0%|          | 0/3 [00:00<?, ?files/s]"
      ]
     },
     "metadata": {},
     "output_type": "display_data"
    },
    {
     "data": {
      "application/vnd.jupyter.widget-view+json": {
       "model_id": "a85d28deed4b4a87bca165dc00c56c1e",
       "version_major": 2,
       "version_minor": 0
      },
      "text/plain": [
       "daily files to download:   0%|          | 0/3 [00:00<?, ?files/s]"
      ]
     },
     "metadata": {},
     "output_type": "display_data"
    },
    {
     "data": {
      "application/vnd.jupyter.widget-view+json": {
       "model_id": "b8b134f91e63408b8668ffd4d69fa517",
       "version_major": 2,
       "version_minor": 0
      },
      "text/plain": [
       "daily files to download:   0%|          | 0/3 [00:00<?, ?files/s]"
      ]
     },
     "metadata": {},
     "output_type": "display_data"
    },
    {
     "data": {
      "application/vnd.jupyter.widget-view+json": {
       "model_id": "52e55fe607cf4dd48d6980072b7a90ca",
       "version_major": 2,
       "version_minor": 0
      },
      "text/plain": [
       "daily files to download:   0%|          | 0/3 [00:00<?, ?files/s]"
      ]
     },
     "metadata": {},
     "output_type": "display_data"
    },
    {
     "data": {
      "application/vnd.jupyter.widget-view+json": {
       "model_id": "fa32217dfcfc47e885c9f4a3af3cf0e1",
       "version_major": 2,
       "version_minor": 0
      },
      "text/plain": [
       "daily files to download:   0%|          | 0/3 [00:00<?, ?files/s]"
      ]
     },
     "metadata": {},
     "output_type": "display_data"
    },
    {
     "data": {
      "application/vnd.jupyter.widget-view+json": {
       "model_id": "2ee34b69091444f8ac96ae3a5697eb48",
       "version_major": 2,
       "version_minor": 0
      },
      "text/plain": [
       "daily files to download:   0%|          | 0/3 [00:00<?, ?files/s]"
      ]
     },
     "metadata": {},
     "output_type": "display_data"
    },
    {
     "data": {
      "application/vnd.jupyter.widget-view+json": {
       "model_id": "070dae00eef34d44b3b220642923d34e",
       "version_major": 2,
       "version_minor": 0
      },
      "text/plain": [
       "daily files to download:   0%|          | 0/3 [00:00<?, ?files/s]"
      ]
     },
     "metadata": {},
     "output_type": "display_data"
    },
    {
     "data": {
      "application/vnd.jupyter.widget-view+json": {
       "model_id": "d47b7e1c8ecb4037b693e42e9f187e82",
       "version_major": 2,
       "version_minor": 0
      },
      "text/plain": [
       "daily files to download:   0%|          | 0/3 [00:00<?, ?files/s]"
      ]
     },
     "metadata": {},
     "output_type": "display_data"
    },
    {
     "data": {
      "application/vnd.jupyter.widget-view+json": {
       "model_id": "64cc819355474c30965417c9131e6604",
       "version_major": 2,
       "version_minor": 0
      },
      "text/plain": [
       "daily files to download:   0%|          | 0/3 [00:00<?, ?files/s]"
      ]
     },
     "metadata": {},
     "output_type": "display_data"
    },
    {
     "data": {
      "application/vnd.jupyter.widget-view+json": {
       "model_id": "9586a63003f54075b68abd99d35addc0",
       "version_major": 2,
       "version_minor": 0
      },
      "text/plain": [
       "daily files to download:   0%|          | 0/3 [00:00<?, ?files/s]"
      ]
     },
     "metadata": {},
     "output_type": "display_data"
    },
    {
     "data": {
      "application/vnd.jupyter.widget-view+json": {
       "model_id": "735717899fb94b3bb326ca8b2a4a955d",
       "version_major": 2,
       "version_minor": 0
      },
      "text/plain": [
       "daily files to download:   0%|          | 0/3 [00:00<?, ?files/s]"
      ]
     },
     "metadata": {},
     "output_type": "display_data"
    },
    {
     "data": {
      "application/vnd.jupyter.widget-view+json": {
       "model_id": "c8bab096a8434f388bf8f8a0dbd2f04c",
       "version_major": 2,
       "version_minor": 0
      },
      "text/plain": [
       "daily files to download:   0%|          | 0/3 [00:00<?, ?files/s]"
      ]
     },
     "metadata": {},
     "output_type": "display_data"
    },
    {
     "data": {
      "application/vnd.jupyter.widget-view+json": {
       "model_id": "21e885fb3d0e48cbbb5c2df4ce8ddab9",
       "version_major": 2,
       "version_minor": 0
      },
      "text/plain": [
       "daily files to download:   0%|          | 0/3 [00:00<?, ?files/s]"
      ]
     },
     "metadata": {},
     "output_type": "display_data"
    },
    {
     "data": {
      "application/vnd.jupyter.widget-view+json": {
       "model_id": "b972cea73e014b10afc2c58da411da9d",
       "version_major": 2,
       "version_minor": 0
      },
      "text/plain": [
       "daily files to download:   0%|          | 0/3 [00:00<?, ?files/s]"
      ]
     },
     "metadata": {},
     "output_type": "display_data"
    },
    {
     "data": {
      "application/vnd.jupyter.widget-view+json": {
       "model_id": "d6a1133fe9714cfea861439c28fc1f0b",
       "version_major": 2,
       "version_minor": 0
      },
      "text/plain": [
       "daily files to download:   0%|          | 0/3 [00:00<?, ?files/s]"
      ]
     },
     "metadata": {},
     "output_type": "display_data"
    },
    {
     "data": {
      "application/vnd.jupyter.widget-view+json": {
       "model_id": "1bc010c771cc4965b38be7b5aed7cee5",
       "version_major": 2,
       "version_minor": 0
      },
      "text/plain": [
       "daily files to download:   0%|          | 0/3 [00:00<?, ?files/s]"
      ]
     },
     "metadata": {},
     "output_type": "display_data"
    },
    {
     "data": {
      "application/vnd.jupyter.widget-view+json": {
       "model_id": "35d4d2068cb742cf8bb85ad6baab10d8",
       "version_major": 2,
       "version_minor": 0
      },
      "text/plain": [
       "daily files to download:   0%|          | 0/3 [00:00<?, ?files/s]"
      ]
     },
     "metadata": {},
     "output_type": "display_data"
    },
    {
     "data": {
      "application/vnd.jupyter.widget-view+json": {
       "model_id": "b0056caa50184630b084013a363bf336",
       "version_major": 2,
       "version_minor": 0
      },
      "text/plain": [
       "daily files to download:   0%|          | 0/3 [00:00<?, ?files/s]"
      ]
     },
     "metadata": {},
     "output_type": "display_data"
    },
    {
     "data": {
      "application/vnd.jupyter.widget-view+json": {
       "model_id": "c53d118b055b446cb665f9267b3a5808",
       "version_major": 2,
       "version_minor": 0
      },
      "text/plain": [
       "daily files to download:   0%|          | 0/3 [00:00<?, ?files/s]"
      ]
     },
     "metadata": {},
     "output_type": "display_data"
    },
    {
     "data": {
      "application/vnd.jupyter.widget-view+json": {
       "model_id": "a65620920b4246cfa06771db75032232",
       "version_major": 2,
       "version_minor": 0
      },
      "text/plain": [
       "daily files to download:   0%|          | 0/3 [00:00<?, ?files/s]"
      ]
     },
     "metadata": {},
     "output_type": "display_data"
    },
    {
     "data": {
      "application/vnd.jupyter.widget-view+json": {
       "model_id": "a7d050cb3f754fd9924a12685860c889",
       "version_major": 2,
       "version_minor": 0
      },
      "text/plain": [
       "daily files to download:   0%|          | 0/3 [00:00<?, ?files/s]"
      ]
     },
     "metadata": {},
     "output_type": "display_data"
    },
    {
     "data": {
      "application/vnd.jupyter.widget-view+json": {
       "model_id": "5e48bd59dda9460ea584caa793707780",
       "version_major": 2,
       "version_minor": 0
      },
      "text/plain": [
       "daily files to download:   0%|          | 0/3 [00:00<?, ?files/s]"
      ]
     },
     "metadata": {},
     "output_type": "display_data"
    },
    {
     "data": {
      "application/vnd.jupyter.widget-view+json": {
       "model_id": "9729cb2539c34978b3450107ef0a105a",
       "version_major": 2,
       "version_minor": 0
      },
      "text/plain": [
       "daily files to download:   0%|          | 0/3 [00:00<?, ?files/s]"
      ]
     },
     "metadata": {},
     "output_type": "display_data"
    },
    {
     "data": {
      "application/vnd.jupyter.widget-view+json": {
       "model_id": "5b38944c47fa455ebf13af6f00642270",
       "version_major": 2,
       "version_minor": 0
      },
      "text/plain": [
       "daily files to download:   0%|          | 0/3 [00:00<?, ?files/s]"
      ]
     },
     "metadata": {},
     "output_type": "display_data"
    }
   ],
   "source": [
    "from binance_historical_data import BinanceDataDumper\n",
    "import datetime as dt\n",
    "\n",
    "#defining time period variables\n",
    "start = dt.date(year = 2025, month = 5, day = 3)\n",
    "end = dt.date(year = 2025, month = 5, day = 4)\n",
    "\n",
    "\n",
    "#initialzise data dumper object from BinanceDataDumper\n",
    "data_dumper = BinanceDataDumper(\n",
    "    path_dir_where_to_dump=\"../data\",\n",
    "    asset_class=\"spot\",\n",
    "    data_type=\"klines\",\n",
    "    data_frequency=\"1s\"\n",
    ")\n",
    "\n",
    "#calling dump_data method to retrieve data\n",
    "data_dumper.dump_data(\n",
    "    date_start=start,\n",
    "    date_end=end,\n",
    "    is_to_update_existing=False,\n",
    "    tickers_to_exclude=None,\n",
    ")"
   ]
  }
 ],
 "metadata": {
  "kernelspec": {
   "display_name": "venv",
   "language": "python",
   "name": "python3"
  },
  "language_info": {
   "codemirror_mode": {
    "name": "ipython",
    "version": 3
   },
   "file_extension": ".py",
   "mimetype": "text/x-python",
   "name": "python",
   "nbconvert_exporter": "python",
   "pygments_lexer": "ipython3",
   "version": "3.10.12"
  }
 },
 "nbformat": 4,
 "nbformat_minor": 5
}
