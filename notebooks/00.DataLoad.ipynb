{
 "cells": [
  {
   "cell_type": "markdown",
   "id": "7b4f132a",
   "metadata": {},
   "source": [
    "# Libs"
   ]
  },
  {
   "cell_type": "code",
   "execution_count": 1,
   "id": "9b3531b4",
   "metadata": {},
   "outputs": [],
   "source": [
    "from binance_historical_data import BinanceDataDumper\n",
    "import datetime as dt\n",
    "import pandas as pd\n",
    "import glob\n",
    "import os"
   ]
  },
  {
   "cell_type": "markdown",
   "id": "7a8573a4",
   "metadata": {},
   "source": [
    "# Data Loader"
   ]
  },
  {
   "cell_type": "code",
   "execution_count": 1,
   "id": "9a7f0b7c",
   "metadata": {},
   "outputs": [
    {
     "name": "stdout",
     "output_type": "stream",
     "text": [
      "---> Found overall tickers: 3085\n",
      "---> Filter to USDT tickers\n",
      "------> Tickers left: 577\n",
      "Download full data for 577 tickers: \n",
      "---> Data will be saved here: /home/anton/repos/crypto-quant-live/data/spot\n",
      "---> Data Frequency: 1s\n",
      "---> Start Date: 20250503\n",
      "---> End Date: 20250503\n"
     ]
    },
    {
     "data": {
      "application/vnd.jupyter.widget-view+json": {
       "model_id": "335706db863848fc859272bd7f715cd1",
       "version_major": 2,
       "version_minor": 0
      },
      "text/plain": [
       "Tickers:   0%|          | 0/577 [00:00<?, ?it/s]"
      ]
     },
     "metadata": {},
     "output_type": "display_data"
    },
    {
     "data": {
      "application/vnd.jupyter.widget-view+json": {
       "model_id": "c3482511a38c4d11aa0f8e337cffe227",
       "version_major": 2,
       "version_minor": 0
      },
      "text/plain": [
       "daily files to download:   0%|          | 0/3 [00:00<?, ?files/s]"
      ]
     },
     "metadata": {},
     "output_type": "display_data"
    },
    {
     "data": {
      "application/vnd.jupyter.widget-view+json": {
       "model_id": "86939c25509d43b4b47ccc6b88d4d627",
       "version_major": 2,
       "version_minor": 0
      },
      "text/plain": [
       "daily files to download:   0%|          | 0/3 [00:00<?, ?files/s]"
      ]
     },
     "metadata": {},
     "output_type": "display_data"
    },
    {
     "data": {
      "application/vnd.jupyter.widget-view+json": {
       "model_id": "9c4e356967424d62bbd38bb3e17a45aa",
       "version_major": 2,
       "version_minor": 0
      },
      "text/plain": [
       "daily files to download:   0%|          | 0/3 [00:00<?, ?files/s]"
      ]
     },
     "metadata": {},
     "output_type": "display_data"
    },
    {
     "data": {
      "application/vnd.jupyter.widget-view+json": {
       "model_id": "1aeceabdd02b428c9ab53677c84d925e",
       "version_major": 2,
       "version_minor": 0
      },
      "text/plain": [
       "daily files to download:   0%|          | 0/3 [00:00<?, ?files/s]"
      ]
     },
     "metadata": {},
     "output_type": "display_data"
    },
    {
     "data": {
      "application/vnd.jupyter.widget-view+json": {
       "model_id": "26f9f04c31a548aeb20272685b1f26ec",
       "version_major": 2,
       "version_minor": 0
      },
      "text/plain": [
       "daily files to download:   0%|          | 0/3 [00:00<?, ?files/s]"
      ]
     },
     "metadata": {},
     "output_type": "display_data"
    },
    {
     "data": {
      "application/vnd.jupyter.widget-view+json": {
       "model_id": "2166964abcb14a0fa2bd7ec7e169cd36",
       "version_major": 2,
       "version_minor": 0
      },
      "text/plain": [
       "daily files to download:   0%|          | 0/3 [00:00<?, ?files/s]"
      ]
     },
     "metadata": {},
     "output_type": "display_data"
    },
    {
     "data": {
      "application/vnd.jupyter.widget-view+json": {
       "model_id": "5551ed00b4ee468885383f41bc3b1ade",
       "version_major": 2,
       "version_minor": 0
      },
      "text/plain": [
       "daily files to download:   0%|          | 0/3 [00:00<?, ?files/s]"
      ]
     },
     "metadata": {},
     "output_type": "display_data"
    },
    {
     "data": {
      "application/vnd.jupyter.widget-view+json": {
       "model_id": "62660f8c06cc48bbb1e31daecf030757",
       "version_major": 2,
       "version_minor": 0
      },
      "text/plain": [
       "daily files to download:   0%|          | 0/3 [00:00<?, ?files/s]"
      ]
     },
     "metadata": {},
     "output_type": "display_data"
    },
    {
     "data": {
      "application/vnd.jupyter.widget-view+json": {
       "model_id": "0d6f11f90ba5437fb92fe206548d9c8d",
       "version_major": 2,
       "version_minor": 0
      },
      "text/plain": [
       "daily files to download:   0%|          | 0/3 [00:00<?, ?files/s]"
      ]
     },
     "metadata": {},
     "output_type": "display_data"
    },
    {
     "data": {
      "application/vnd.jupyter.widget-view+json": {
       "model_id": "5fae9ebf1df840518416572c0d9bbb3a",
       "version_major": 2,
       "version_minor": 0
      },
      "text/plain": [
       "daily files to download:   0%|          | 0/3 [00:00<?, ?files/s]"
      ]
     },
     "metadata": {},
     "output_type": "display_data"
    },
    {
     "data": {
      "application/vnd.jupyter.widget-view+json": {
       "model_id": "b05da79c0980448d8843b4ad342263b9",
       "version_major": 2,
       "version_minor": 0
      },
      "text/plain": [
       "daily files to download:   0%|          | 0/3 [00:00<?, ?files/s]"
      ]
     },
     "metadata": {},
     "output_type": "display_data"
    },
    {
     "data": {
      "application/vnd.jupyter.widget-view+json": {
       "model_id": "d824c4aa3c8a48d48852879b38cc6b94",
       "version_major": 2,
       "version_minor": 0
      },
      "text/plain": [
       "daily files to download:   0%|          | 0/3 [00:00<?, ?files/s]"
      ]
     },
     "metadata": {},
     "output_type": "display_data"
    },
    {
     "data": {
      "application/vnd.jupyter.widget-view+json": {
       "model_id": "12856b0844b8487b934a29a5517a1703",
       "version_major": 2,
       "version_minor": 0
      },
      "text/plain": [
       "daily files to download:   0%|          | 0/3 [00:00<?, ?files/s]"
      ]
     },
     "metadata": {},
     "output_type": "display_data"
    },
    {
     "data": {
      "application/vnd.jupyter.widget-view+json": {
       "model_id": "2b1ebda4658f4025b64a7028bc0c48ba",
       "version_major": 2,
       "version_minor": 0
      },
      "text/plain": [
       "daily files to download:   0%|          | 0/3 [00:00<?, ?files/s]"
      ]
     },
     "metadata": {},
     "output_type": "display_data"
    },
    {
     "data": {
      "application/vnd.jupyter.widget-view+json": {
       "model_id": "7d5f86c56cc0417386ce7a4602eab566",
       "version_major": 2,
       "version_minor": 0
      },
      "text/plain": [
       "daily files to download:   0%|          | 0/3 [00:00<?, ?files/s]"
      ]
     },
     "metadata": {},
     "output_type": "display_data"
    },
    {
     "data": {
      "application/vnd.jupyter.widget-view+json": {
       "model_id": "80666d5859e2445aaa7b88414ca60565",
       "version_major": 2,
       "version_minor": 0
      },
      "text/plain": [
       "daily files to download:   0%|          | 0/3 [00:00<?, ?files/s]"
      ]
     },
     "metadata": {},
     "output_type": "display_data"
    },
    {
     "data": {
      "application/vnd.jupyter.widget-view+json": {
       "model_id": "770e075d0bdf42d08fdfe8bdca1350ff",
       "version_major": 2,
       "version_minor": 0
      },
      "text/plain": [
       "daily files to download:   0%|          | 0/3 [00:00<?, ?files/s]"
      ]
     },
     "metadata": {},
     "output_type": "display_data"
    },
    {
     "data": {
      "application/vnd.jupyter.widget-view+json": {
       "model_id": "5d8465c8a281497e90b814a1cbd5287d",
       "version_major": 2,
       "version_minor": 0
      },
      "text/plain": [
       "daily files to download:   0%|          | 0/3 [00:00<?, ?files/s]"
      ]
     },
     "metadata": {},
     "output_type": "display_data"
    },
    {
     "data": {
      "application/vnd.jupyter.widget-view+json": {
       "model_id": "669a484fb3614610a7639a8bc588a914",
       "version_major": 2,
       "version_minor": 0
      },
      "text/plain": [
       "daily files to download:   0%|          | 0/3 [00:00<?, ?files/s]"
      ]
     },
     "metadata": {},
     "output_type": "display_data"
    },
    {
     "data": {
      "application/vnd.jupyter.widget-view+json": {
       "model_id": "a6926e262160498fa884d9788a7a8250",
       "version_major": 2,
       "version_minor": 0
      },
      "text/plain": [
       "daily files to download:   0%|          | 0/3 [00:00<?, ?files/s]"
      ]
     },
     "metadata": {},
     "output_type": "display_data"
    },
    {
     "data": {
      "application/vnd.jupyter.widget-view+json": {
       "model_id": "b5f1802a1b974b1298fa333509be1bc9",
       "version_major": 2,
       "version_minor": 0
      },
      "text/plain": [
       "daily files to download:   0%|          | 0/3 [00:00<?, ?files/s]"
      ]
     },
     "metadata": {},
     "output_type": "display_data"
    },
    {
     "data": {
      "application/vnd.jupyter.widget-view+json": {
       "model_id": "ec9b4152b8ca4dae8a172a447cbc0954",
       "version_major": 2,
       "version_minor": 0
      },
      "text/plain": [
       "daily files to download:   0%|          | 0/3 [00:00<?, ?files/s]"
      ]
     },
     "metadata": {},
     "output_type": "display_data"
    },
    {
     "data": {
      "application/vnd.jupyter.widget-view+json": {
       "model_id": "d111e12c785644a49a4e197f9f465002",
       "version_major": 2,
       "version_minor": 0
      },
      "text/plain": [
       "daily files to download:   0%|          | 0/3 [00:00<?, ?files/s]"
      ]
     },
     "metadata": {},
     "output_type": "display_data"
    },
    {
     "data": {
      "application/vnd.jupyter.widget-view+json": {
       "model_id": "375abb93e89a4bb5964d93c500742503",
       "version_major": 2,
       "version_minor": 0
      },
      "text/plain": [
       "daily files to download:   0%|          | 0/3 [00:00<?, ?files/s]"
      ]
     },
     "metadata": {},
     "output_type": "display_data"
    },
    {
     "data": {
      "application/vnd.jupyter.widget-view+json": {
       "model_id": "1b7453bf76d247b681f31e92c3aa6f45",
       "version_major": 2,
       "version_minor": 0
      },
      "text/plain": [
       "daily files to download:   0%|          | 0/3 [00:00<?, ?files/s]"
      ]
     },
     "metadata": {},
     "output_type": "display_data"
    },
    {
     "data": {
      "application/vnd.jupyter.widget-view+json": {
       "model_id": "80b7d2add7894c24be72e614d12a0c4f",
       "version_major": 2,
       "version_minor": 0
      },
      "text/plain": [
       "daily files to download:   0%|          | 0/3 [00:00<?, ?files/s]"
      ]
     },
     "metadata": {},
     "output_type": "display_data"
    },
    {
     "data": {
      "application/vnd.jupyter.widget-view+json": {
       "model_id": "899273e766b941cc8a52597a3074ff02",
       "version_major": 2,
       "version_minor": 0
      },
      "text/plain": [
       "daily files to download:   0%|          | 0/3 [00:00<?, ?files/s]"
      ]
     },
     "metadata": {},
     "output_type": "display_data"
    },
    {
     "data": {
      "application/vnd.jupyter.widget-view+json": {
       "model_id": "82615512a18a4383b4b4b6c3dbf284a5",
       "version_major": 2,
       "version_minor": 0
      },
      "text/plain": [
       "daily files to download:   0%|          | 0/3 [00:00<?, ?files/s]"
      ]
     },
     "metadata": {},
     "output_type": "display_data"
    },
    {
     "data": {
      "application/vnd.jupyter.widget-view+json": {
       "model_id": "ae443a2599de42c2905fa95cb9840e62",
       "version_major": 2,
       "version_minor": 0
      },
      "text/plain": [
       "daily files to download:   0%|          | 0/3 [00:00<?, ?files/s]"
      ]
     },
     "metadata": {},
     "output_type": "display_data"
    },
    {
     "data": {
      "application/vnd.jupyter.widget-view+json": {
       "model_id": "9c8d994fef324422ae57d47ee857333a",
       "version_major": 2,
       "version_minor": 0
      },
      "text/plain": [
       "daily files to download:   0%|          | 0/3 [00:00<?, ?files/s]"
      ]
     },
     "metadata": {},
     "output_type": "display_data"
    },
    {
     "data": {
      "application/vnd.jupyter.widget-view+json": {
       "model_id": "baf7417746284f03aae1fa9ade4c57a2",
       "version_major": 2,
       "version_minor": 0
      },
      "text/plain": [
       "daily files to download:   0%|          | 0/3 [00:00<?, ?files/s]"
      ]
     },
     "metadata": {},
     "output_type": "display_data"
    },
    {
     "data": {
      "application/vnd.jupyter.widget-view+json": {
       "model_id": "a90376a3864f43b88d9e720e921e131b",
       "version_major": 2,
       "version_minor": 0
      },
      "text/plain": [
       "daily files to download:   0%|          | 0/3 [00:00<?, ?files/s]"
      ]
     },
     "metadata": {},
     "output_type": "display_data"
    },
    {
     "data": {
      "application/vnd.jupyter.widget-view+json": {
       "model_id": "4c595c6b3f364ae18914ece47d9b6d2f",
       "version_major": 2,
       "version_minor": 0
      },
      "text/plain": [
       "daily files to download:   0%|          | 0/3 [00:00<?, ?files/s]"
      ]
     },
     "metadata": {},
     "output_type": "display_data"
    },
    {
     "data": {
      "application/vnd.jupyter.widget-view+json": {
       "model_id": "a2323288743444eea01a4a68d6b2e8c7",
       "version_major": 2,
       "version_minor": 0
      },
      "text/plain": [
       "daily files to download:   0%|          | 0/3 [00:00<?, ?files/s]"
      ]
     },
     "metadata": {},
     "output_type": "display_data"
    },
    {
     "data": {
      "application/vnd.jupyter.widget-view+json": {
       "model_id": "f5ef25b46ebb40689ffef27f37a100d5",
       "version_major": 2,
       "version_minor": 0
      },
      "text/plain": [
       "daily files to download:   0%|          | 0/3 [00:00<?, ?files/s]"
      ]
     },
     "metadata": {},
     "output_type": "display_data"
    },
    {
     "data": {
      "application/vnd.jupyter.widget-view+json": {
       "model_id": "f97636cb69904b4aa43bbfac4e5c93c4",
       "version_major": 2,
       "version_minor": 0
      },
      "text/plain": [
       "daily files to download:   0%|          | 0/3 [00:00<?, ?files/s]"
      ]
     },
     "metadata": {},
     "output_type": "display_data"
    },
    {
     "data": {
      "application/vnd.jupyter.widget-view+json": {
       "model_id": "fbb2825b30d64698b66076a38dd0bbcf",
       "version_major": 2,
       "version_minor": 0
      },
      "text/plain": [
       "daily files to download:   0%|          | 0/3 [00:00<?, ?files/s]"
      ]
     },
     "metadata": {},
     "output_type": "display_data"
    },
    {
     "data": {
      "application/vnd.jupyter.widget-view+json": {
       "model_id": "b41cbe4d7255454ca1f9d77efe04fca0",
       "version_major": 2,
       "version_minor": 0
      },
      "text/plain": [
       "daily files to download:   0%|          | 0/3 [00:00<?, ?files/s]"
      ]
     },
     "metadata": {},
     "output_type": "display_data"
    },
    {
     "data": {
      "application/vnd.jupyter.widget-view+json": {
       "model_id": "48aaf2c907d04eea8bcecd766f84b22a",
       "version_major": 2,
       "version_minor": 0
      },
      "text/plain": [
       "daily files to download:   0%|          | 0/3 [00:00<?, ?files/s]"
      ]
     },
     "metadata": {},
     "output_type": "display_data"
    },
    {
     "data": {
      "application/vnd.jupyter.widget-view+json": {
       "model_id": "9d4d98ef9b1746b7b09a6c3891b318a5",
       "version_major": 2,
       "version_minor": 0
      },
      "text/plain": [
       "daily files to download:   0%|          | 0/3 [00:00<?, ?files/s]"
      ]
     },
     "metadata": {},
     "output_type": "display_data"
    },
    {
     "data": {
      "application/vnd.jupyter.widget-view+json": {
       "model_id": "d46bb291238746498b6aa4e2ee03c40f",
       "version_major": 2,
       "version_minor": 0
      },
      "text/plain": [
       "daily files to download:   0%|          | 0/3 [00:00<?, ?files/s]"
      ]
     },
     "metadata": {},
     "output_type": "display_data"
    },
    {
     "data": {
      "application/vnd.jupyter.widget-view+json": {
       "model_id": "24a5005d07be4108a4915ae2a9aa6409",
       "version_major": 2,
       "version_minor": 0
      },
      "text/plain": [
       "daily files to download:   0%|          | 0/3 [00:00<?, ?files/s]"
      ]
     },
     "metadata": {},
     "output_type": "display_data"
    },
    {
     "data": {
      "application/vnd.jupyter.widget-view+json": {
       "model_id": "a275aed457b04e358b47095dc1534372",
       "version_major": 2,
       "version_minor": 0
      },
      "text/plain": [
       "daily files to download:   0%|          | 0/3 [00:00<?, ?files/s]"
      ]
     },
     "metadata": {},
     "output_type": "display_data"
    },
    {
     "data": {
      "application/vnd.jupyter.widget-view+json": {
       "model_id": "d992d2097a7d4b5a9b77ea98d7e6c622",
       "version_major": 2,
       "version_minor": 0
      },
      "text/plain": [
       "daily files to download:   0%|          | 0/3 [00:00<?, ?files/s]"
      ]
     },
     "metadata": {},
     "output_type": "display_data"
    },
    {
     "data": {
      "application/vnd.jupyter.widget-view+json": {
       "model_id": "5d286c7de8314ac4a6251f9237582f8c",
       "version_major": 2,
       "version_minor": 0
      },
      "text/plain": [
       "daily files to download:   0%|          | 0/3 [00:00<?, ?files/s]"
      ]
     },
     "metadata": {},
     "output_type": "display_data"
    },
    {
     "data": {
      "application/vnd.jupyter.widget-view+json": {
       "model_id": "bb801f377ca443c88496a8b537aa306e",
       "version_major": 2,
       "version_minor": 0
      },
      "text/plain": [
       "daily files to download:   0%|          | 0/3 [00:00<?, ?files/s]"
      ]
     },
     "metadata": {},
     "output_type": "display_data"
    },
    {
     "data": {
      "application/vnd.jupyter.widget-view+json": {
       "model_id": "11dd73fac18f49d08749bb6bb7eef298",
       "version_major": 2,
       "version_minor": 0
      },
      "text/plain": [
       "daily files to download:   0%|          | 0/3 [00:00<?, ?files/s]"
      ]
     },
     "metadata": {},
     "output_type": "display_data"
    },
    {
     "data": {
      "application/vnd.jupyter.widget-view+json": {
       "model_id": "842d8b08a3f8471ba855491a404707ec",
       "version_major": 2,
       "version_minor": 0
      },
      "text/plain": [
       "daily files to download:   0%|          | 0/3 [00:00<?, ?files/s]"
      ]
     },
     "metadata": {},
     "output_type": "display_data"
    },
    {
     "data": {
      "application/vnd.jupyter.widget-view+json": {
       "model_id": "0324194c706644df9211250c6143bee9",
       "version_major": 2,
       "version_minor": 0
      },
      "text/plain": [
       "daily files to download:   0%|          | 0/3 [00:00<?, ?files/s]"
      ]
     },
     "metadata": {},
     "output_type": "display_data"
    },
    {
     "data": {
      "application/vnd.jupyter.widget-view+json": {
       "model_id": "6acfe851968a4bc5ba007bfb27ab1aab",
       "version_major": 2,
       "version_minor": 0
      },
      "text/plain": [
       "daily files to download:   0%|          | 0/3 [00:00<?, ?files/s]"
      ]
     },
     "metadata": {},
     "output_type": "display_data"
    },
    {
     "data": {
      "application/vnd.jupyter.widget-view+json": {
       "model_id": "9ad114f2f5b24535ab97100aa01464ae",
       "version_major": 2,
       "version_minor": 0
      },
      "text/plain": [
       "daily files to download:   0%|          | 0/3 [00:00<?, ?files/s]"
      ]
     },
     "metadata": {},
     "output_type": "display_data"
    },
    {
     "data": {
      "application/vnd.jupyter.widget-view+json": {
       "model_id": "1a3d5b1d4e79487cbe4642f46e3e95b5",
       "version_major": 2,
       "version_minor": 0
      },
      "text/plain": [
       "daily files to download:   0%|          | 0/3 [00:00<?, ?files/s]"
      ]
     },
     "metadata": {},
     "output_type": "display_data"
    },
    {
     "data": {
      "application/vnd.jupyter.widget-view+json": {
       "model_id": "f1b5f2b5971842d995b6a88ae7778f3a",
       "version_major": 2,
       "version_minor": 0
      },
      "text/plain": [
       "daily files to download:   0%|          | 0/3 [00:00<?, ?files/s]"
      ]
     },
     "metadata": {},
     "output_type": "display_data"
    },
    {
     "data": {
      "application/vnd.jupyter.widget-view+json": {
       "model_id": "53c053b74b244ccaacddcdbf0c758258",
       "version_major": 2,
       "version_minor": 0
      },
      "text/plain": [
       "daily files to download:   0%|          | 0/3 [00:00<?, ?files/s]"
      ]
     },
     "metadata": {},
     "output_type": "display_data"
    },
    {
     "data": {
      "application/vnd.jupyter.widget-view+json": {
       "model_id": "55798a88b610416fb69ea8f664a5a4c8",
       "version_major": 2,
       "version_minor": 0
      },
      "text/plain": [
       "daily files to download:   0%|          | 0/3 [00:00<?, ?files/s]"
      ]
     },
     "metadata": {},
     "output_type": "display_data"
    },
    {
     "data": {
      "application/vnd.jupyter.widget-view+json": {
       "model_id": "ea5394ed6d184833a266ecc6ddea2f5f",
       "version_major": 2,
       "version_minor": 0
      },
      "text/plain": [
       "daily files to download:   0%|          | 0/3 [00:00<?, ?files/s]"
      ]
     },
     "metadata": {},
     "output_type": "display_data"
    },
    {
     "data": {
      "application/vnd.jupyter.widget-view+json": {
       "model_id": "22227a1cf3544608a288480e06c03193",
       "version_major": 2,
       "version_minor": 0
      },
      "text/plain": [
       "daily files to download:   0%|          | 0/3 [00:00<?, ?files/s]"
      ]
     },
     "metadata": {},
     "output_type": "display_data"
    },
    {
     "data": {
      "application/vnd.jupyter.widget-view+json": {
       "model_id": "9a1eb7010dd140bab415cf157e18ff70",
       "version_major": 2,
       "version_minor": 0
      },
      "text/plain": [
       "daily files to download:   0%|          | 0/3 [00:00<?, ?files/s]"
      ]
     },
     "metadata": {},
     "output_type": "display_data"
    },
    {
     "data": {
      "application/vnd.jupyter.widget-view+json": {
       "model_id": "1a309f9baa264ad8a034cc6b714c76b1",
       "version_major": 2,
       "version_minor": 0
      },
      "text/plain": [
       "daily files to download:   0%|          | 0/3 [00:00<?, ?files/s]"
      ]
     },
     "metadata": {},
     "output_type": "display_data"
    },
    {
     "data": {
      "application/vnd.jupyter.widget-view+json": {
       "model_id": "a70f1e5f07994103a394ae0f34d279a0",
       "version_major": 2,
       "version_minor": 0
      },
      "text/plain": [
       "daily files to download:   0%|          | 0/3 [00:00<?, ?files/s]"
      ]
     },
     "metadata": {},
     "output_type": "display_data"
    },
    {
     "data": {
      "application/vnd.jupyter.widget-view+json": {
       "model_id": "7e90febc2ec7494fa648e6338ad41ea0",
       "version_major": 2,
       "version_minor": 0
      },
      "text/plain": [
       "daily files to download:   0%|          | 0/3 [00:00<?, ?files/s]"
      ]
     },
     "metadata": {},
     "output_type": "display_data"
    },
    {
     "data": {
      "application/vnd.jupyter.widget-view+json": {
       "model_id": "2fd37fd6212a4deda67f83609e8f7031",
       "version_major": 2,
       "version_minor": 0
      },
      "text/plain": [
       "daily files to download:   0%|          | 0/3 [00:00<?, ?files/s]"
      ]
     },
     "metadata": {},
     "output_type": "display_data"
    },
    {
     "data": {
      "application/vnd.jupyter.widget-view+json": {
       "model_id": "8dd7d3d5e73c45e5afb6c128b78ba9c9",
       "version_major": 2,
       "version_minor": 0
      },
      "text/plain": [
       "daily files to download:   0%|          | 0/3 [00:00<?, ?files/s]"
      ]
     },
     "metadata": {},
     "output_type": "display_data"
    },
    {
     "data": {
      "application/vnd.jupyter.widget-view+json": {
       "model_id": "22a3a2e7c718465c98a2ff11153cf138",
       "version_major": 2,
       "version_minor": 0
      },
      "text/plain": [
       "daily files to download:   0%|          | 0/3 [00:00<?, ?files/s]"
      ]
     },
     "metadata": {},
     "output_type": "display_data"
    },
    {
     "data": {
      "application/vnd.jupyter.widget-view+json": {
       "model_id": "441355fa564e469c828a63f3888222fc",
       "version_major": 2,
       "version_minor": 0
      },
      "text/plain": [
       "daily files to download:   0%|          | 0/3 [00:00<?, ?files/s]"
      ]
     },
     "metadata": {},
     "output_type": "display_data"
    },
    {
     "data": {
      "application/vnd.jupyter.widget-view+json": {
       "model_id": "158a89d334a740d28b480126c49bb4a0",
       "version_major": 2,
       "version_minor": 0
      },
      "text/plain": [
       "daily files to download:   0%|          | 0/3 [00:00<?, ?files/s]"
      ]
     },
     "metadata": {},
     "output_type": "display_data"
    },
    {
     "data": {
      "application/vnd.jupyter.widget-view+json": {
       "model_id": "9385d2405f13434080d5ba407f6052ee",
       "version_major": 2,
       "version_minor": 0
      },
      "text/plain": [
       "daily files to download:   0%|          | 0/3 [00:00<?, ?files/s]"
      ]
     },
     "metadata": {},
     "output_type": "display_data"
    },
    {
     "data": {
      "application/vnd.jupyter.widget-view+json": {
       "model_id": "fdb9ecfaab014a5d8d213d20df3e739b",
       "version_major": 2,
       "version_minor": 0
      },
      "text/plain": [
       "daily files to download:   0%|          | 0/3 [00:00<?, ?files/s]"
      ]
     },
     "metadata": {},
     "output_type": "display_data"
    },
    {
     "data": {
      "application/vnd.jupyter.widget-view+json": {
       "model_id": "35299504a9344dd3a4864cf18a3bf204",
       "version_major": 2,
       "version_minor": 0
      },
      "text/plain": [
       "daily files to download:   0%|          | 0/3 [00:00<?, ?files/s]"
      ]
     },
     "metadata": {},
     "output_type": "display_data"
    },
    {
     "data": {
      "application/vnd.jupyter.widget-view+json": {
       "model_id": "47dc2f5f5acf4526b16f8e0df63a5c08",
       "version_major": 2,
       "version_minor": 0
      },
      "text/plain": [
       "daily files to download:   0%|          | 0/3 [00:00<?, ?files/s]"
      ]
     },
     "metadata": {},
     "output_type": "display_data"
    },
    {
     "data": {
      "application/vnd.jupyter.widget-view+json": {
       "model_id": "dc8b0585a088419b96790d42c707c0d9",
       "version_major": 2,
       "version_minor": 0
      },
      "text/plain": [
       "daily files to download:   0%|          | 0/3 [00:00<?, ?files/s]"
      ]
     },
     "metadata": {},
     "output_type": "display_data"
    },
    {
     "data": {
      "application/vnd.jupyter.widget-view+json": {
       "model_id": "5c963c82d99c49ab90705a532729d42d",
       "version_major": 2,
       "version_minor": 0
      },
      "text/plain": [
       "daily files to download:   0%|          | 0/3 [00:00<?, ?files/s]"
      ]
     },
     "metadata": {},
     "output_type": "display_data"
    },
    {
     "data": {
      "application/vnd.jupyter.widget-view+json": {
       "model_id": "835f45dc83824f928f5e321be558d461",
       "version_major": 2,
       "version_minor": 0
      },
      "text/plain": [
       "daily files to download:   0%|          | 0/3 [00:00<?, ?files/s]"
      ]
     },
     "metadata": {},
     "output_type": "display_data"
    },
    {
     "data": {
      "application/vnd.jupyter.widget-view+json": {
       "model_id": "8b28e4c089574ce8bfe6e3ddf8fbb9b2",
       "version_major": 2,
       "version_minor": 0
      },
      "text/plain": [
       "daily files to download:   0%|          | 0/3 [00:00<?, ?files/s]"
      ]
     },
     "metadata": {},
     "output_type": "display_data"
    },
    {
     "data": {
      "application/vnd.jupyter.widget-view+json": {
       "model_id": "fc00ed3b7e81463c8c2e938618c2fa20",
       "version_major": 2,
       "version_minor": 0
      },
      "text/plain": [
       "daily files to download:   0%|          | 0/3 [00:00<?, ?files/s]"
      ]
     },
     "metadata": {},
     "output_type": "display_data"
    },
    {
     "data": {
      "application/vnd.jupyter.widget-view+json": {
       "model_id": "469649ca43e5447bb9d4d249854ed6cc",
       "version_major": 2,
       "version_minor": 0
      },
      "text/plain": [
       "daily files to download:   0%|          | 0/3 [00:00<?, ?files/s]"
      ]
     },
     "metadata": {},
     "output_type": "display_data"
    },
    {
     "data": {
      "application/vnd.jupyter.widget-view+json": {
       "model_id": "fd81d9dbb9e44193931c9e65cb02236c",
       "version_major": 2,
       "version_minor": 0
      },
      "text/plain": [
       "daily files to download:   0%|          | 0/3 [00:00<?, ?files/s]"
      ]
     },
     "metadata": {},
     "output_type": "display_data"
    },
    {
     "data": {
      "application/vnd.jupyter.widget-view+json": {
       "model_id": "68c295b39a80414eb5034f86cea3d1b1",
       "version_major": 2,
       "version_minor": 0
      },
      "text/plain": [
       "daily files to download:   0%|          | 0/3 [00:00<?, ?files/s]"
      ]
     },
     "metadata": {},
     "output_type": "display_data"
    },
    {
     "data": {
      "application/vnd.jupyter.widget-view+json": {
       "model_id": "0bfb785423eb4ee282f6fe675c1bc9a5",
       "version_major": 2,
       "version_minor": 0
      },
      "text/plain": [
       "daily files to download:   0%|          | 0/3 [00:00<?, ?files/s]"
      ]
     },
     "metadata": {},
     "output_type": "display_data"
    },
    {
     "data": {
      "application/vnd.jupyter.widget-view+json": {
       "model_id": "ee79af64ae764d9db2b4cc52b89adfb8",
       "version_major": 2,
       "version_minor": 0
      },
      "text/plain": [
       "daily files to download:   0%|          | 0/3 [00:00<?, ?files/s]"
      ]
     },
     "metadata": {},
     "output_type": "display_data"
    },
    {
     "data": {
      "application/vnd.jupyter.widget-view+json": {
       "model_id": "32e20d361c63485fa50fa2d32c295531",
       "version_major": 2,
       "version_minor": 0
      },
      "text/plain": [
       "daily files to download:   0%|          | 0/3 [00:00<?, ?files/s]"
      ]
     },
     "metadata": {},
     "output_type": "display_data"
    },
    {
     "data": {
      "application/vnd.jupyter.widget-view+json": {
       "model_id": "b8eb080a6a7b4389b93f389adafef411",
       "version_major": 2,
       "version_minor": 0
      },
      "text/plain": [
       "daily files to download:   0%|          | 0/3 [00:00<?, ?files/s]"
      ]
     },
     "metadata": {},
     "output_type": "display_data"
    },
    {
     "data": {
      "application/vnd.jupyter.widget-view+json": {
       "model_id": "a85d28deed4b4a87bca165dc00c56c1e",
       "version_major": 2,
       "version_minor": 0
      },
      "text/plain": [
       "daily files to download:   0%|          | 0/3 [00:00<?, ?files/s]"
      ]
     },
     "metadata": {},
     "output_type": "display_data"
    },
    {
     "data": {
      "application/vnd.jupyter.widget-view+json": {
       "model_id": "b8b134f91e63408b8668ffd4d69fa517",
       "version_major": 2,
       "version_minor": 0
      },
      "text/plain": [
       "daily files to download:   0%|          | 0/3 [00:00<?, ?files/s]"
      ]
     },
     "metadata": {},
     "output_type": "display_data"
    },
    {
     "data": {
      "application/vnd.jupyter.widget-view+json": {
       "model_id": "52e55fe607cf4dd48d6980072b7a90ca",
       "version_major": 2,
       "version_minor": 0
      },
      "text/plain": [
       "daily files to download:   0%|          | 0/3 [00:00<?, ?files/s]"
      ]
     },
     "metadata": {},
     "output_type": "display_data"
    },
    {
     "data": {
      "application/vnd.jupyter.widget-view+json": {
       "model_id": "fa32217dfcfc47e885c9f4a3af3cf0e1",
       "version_major": 2,
       "version_minor": 0
      },
      "text/plain": [
       "daily files to download:   0%|          | 0/3 [00:00<?, ?files/s]"
      ]
     },
     "metadata": {},
     "output_type": "display_data"
    },
    {
     "data": {
      "application/vnd.jupyter.widget-view+json": {
       "model_id": "2ee34b69091444f8ac96ae3a5697eb48",
       "version_major": 2,
       "version_minor": 0
      },
      "text/plain": [
       "daily files to download:   0%|          | 0/3 [00:00<?, ?files/s]"
      ]
     },
     "metadata": {},
     "output_type": "display_data"
    },
    {
     "data": {
      "application/vnd.jupyter.widget-view+json": {
       "model_id": "070dae00eef34d44b3b220642923d34e",
       "version_major": 2,
       "version_minor": 0
      },
      "text/plain": [
       "daily files to download:   0%|          | 0/3 [00:00<?, ?files/s]"
      ]
     },
     "metadata": {},
     "output_type": "display_data"
    },
    {
     "data": {
      "application/vnd.jupyter.widget-view+json": {
       "model_id": "d47b7e1c8ecb4037b693e42e9f187e82",
       "version_major": 2,
       "version_minor": 0
      },
      "text/plain": [
       "daily files to download:   0%|          | 0/3 [00:00<?, ?files/s]"
      ]
     },
     "metadata": {},
     "output_type": "display_data"
    },
    {
     "data": {
      "application/vnd.jupyter.widget-view+json": {
       "model_id": "64cc819355474c30965417c9131e6604",
       "version_major": 2,
       "version_minor": 0
      },
      "text/plain": [
       "daily files to download:   0%|          | 0/3 [00:00<?, ?files/s]"
      ]
     },
     "metadata": {},
     "output_type": "display_data"
    },
    {
     "data": {
      "application/vnd.jupyter.widget-view+json": {
       "model_id": "9586a63003f54075b68abd99d35addc0",
       "version_major": 2,
       "version_minor": 0
      },
      "text/plain": [
       "daily files to download:   0%|          | 0/3 [00:00<?, ?files/s]"
      ]
     },
     "metadata": {},
     "output_type": "display_data"
    },
    {
     "data": {
      "application/vnd.jupyter.widget-view+json": {
       "model_id": "735717899fb94b3bb326ca8b2a4a955d",
       "version_major": 2,
       "version_minor": 0
      },
      "text/plain": [
       "daily files to download:   0%|          | 0/3 [00:00<?, ?files/s]"
      ]
     },
     "metadata": {},
     "output_type": "display_data"
    },
    {
     "data": {
      "application/vnd.jupyter.widget-view+json": {
       "model_id": "c8bab096a8434f388bf8f8a0dbd2f04c",
       "version_major": 2,
       "version_minor": 0
      },
      "text/plain": [
       "daily files to download:   0%|          | 0/3 [00:00<?, ?files/s]"
      ]
     },
     "metadata": {},
     "output_type": "display_data"
    },
    {
     "data": {
      "application/vnd.jupyter.widget-view+json": {
       "model_id": "21e885fb3d0e48cbbb5c2df4ce8ddab9",
       "version_major": 2,
       "version_minor": 0
      },
      "text/plain": [
       "daily files to download:   0%|          | 0/3 [00:00<?, ?files/s]"
      ]
     },
     "metadata": {},
     "output_type": "display_data"
    },
    {
     "data": {
      "application/vnd.jupyter.widget-view+json": {
       "model_id": "b972cea73e014b10afc2c58da411da9d",
       "version_major": 2,
       "version_minor": 0
      },
      "text/plain": [
       "daily files to download:   0%|          | 0/3 [00:00<?, ?files/s]"
      ]
     },
     "metadata": {},
     "output_type": "display_data"
    },
    {
     "data": {
      "application/vnd.jupyter.widget-view+json": {
       "model_id": "d6a1133fe9714cfea861439c28fc1f0b",
       "version_major": 2,
       "version_minor": 0
      },
      "text/plain": [
       "daily files to download:   0%|          | 0/3 [00:00<?, ?files/s]"
      ]
     },
     "metadata": {},
     "output_type": "display_data"
    },
    {
     "data": {
      "application/vnd.jupyter.widget-view+json": {
       "model_id": "1bc010c771cc4965b38be7b5aed7cee5",
       "version_major": 2,
       "version_minor": 0
      },
      "text/plain": [
       "daily files to download:   0%|          | 0/3 [00:00<?, ?files/s]"
      ]
     },
     "metadata": {},
     "output_type": "display_data"
    },
    {
     "data": {
      "application/vnd.jupyter.widget-view+json": {
       "model_id": "35d4d2068cb742cf8bb85ad6baab10d8",
       "version_major": 2,
       "version_minor": 0
      },
      "text/plain": [
       "daily files to download:   0%|          | 0/3 [00:00<?, ?files/s]"
      ]
     },
     "metadata": {},
     "output_type": "display_data"
    },
    {
     "data": {
      "application/vnd.jupyter.widget-view+json": {
       "model_id": "b0056caa50184630b084013a363bf336",
       "version_major": 2,
       "version_minor": 0
      },
      "text/plain": [
       "daily files to download:   0%|          | 0/3 [00:00<?, ?files/s]"
      ]
     },
     "metadata": {},
     "output_type": "display_data"
    },
    {
     "data": {
      "application/vnd.jupyter.widget-view+json": {
       "model_id": "c53d118b055b446cb665f9267b3a5808",
       "version_major": 2,
       "version_minor": 0
      },
      "text/plain": [
       "daily files to download:   0%|          | 0/3 [00:00<?, ?files/s]"
      ]
     },
     "metadata": {},
     "output_type": "display_data"
    },
    {
     "data": {
      "application/vnd.jupyter.widget-view+json": {
       "model_id": "a65620920b4246cfa06771db75032232",
       "version_major": 2,
       "version_minor": 0
      },
      "text/plain": [
       "daily files to download:   0%|          | 0/3 [00:00<?, ?files/s]"
      ]
     },
     "metadata": {},
     "output_type": "display_data"
    },
    {
     "data": {
      "application/vnd.jupyter.widget-view+json": {
       "model_id": "a7d050cb3f754fd9924a12685860c889",
       "version_major": 2,
       "version_minor": 0
      },
      "text/plain": [
       "daily files to download:   0%|          | 0/3 [00:00<?, ?files/s]"
      ]
     },
     "metadata": {},
     "output_type": "display_data"
    },
    {
     "data": {
      "application/vnd.jupyter.widget-view+json": {
       "model_id": "5e48bd59dda9460ea584caa793707780",
       "version_major": 2,
       "version_minor": 0
      },
      "text/plain": [
       "daily files to download:   0%|          | 0/3 [00:00<?, ?files/s]"
      ]
     },
     "metadata": {},
     "output_type": "display_data"
    },
    {
     "data": {
      "application/vnd.jupyter.widget-view+json": {
       "model_id": "9729cb2539c34978b3450107ef0a105a",
       "version_major": 2,
       "version_minor": 0
      },
      "text/plain": [
       "daily files to download:   0%|          | 0/3 [00:00<?, ?files/s]"
      ]
     },
     "metadata": {},
     "output_type": "display_data"
    },
    {
     "data": {
      "application/vnd.jupyter.widget-view+json": {
       "model_id": "5b38944c47fa455ebf13af6f00642270",
       "version_major": 2,
       "version_minor": 0
      },
      "text/plain": [
       "daily files to download:   0%|          | 0/3 [00:00<?, ?files/s]"
      ]
     },
     "metadata": {},
     "output_type": "display_data"
    },
    {
     "data": {
      "application/vnd.jupyter.widget-view+json": {
       "model_id": "711256b04c184d6b84a6a966d0a22a88",
       "version_major": 2,
       "version_minor": 0
      },
      "text/plain": [
       "daily files to download:   0%|          | 0/3 [00:00<?, ?files/s]"
      ]
     },
     "metadata": {},
     "output_type": "display_data"
    },
    {
     "data": {
      "application/vnd.jupyter.widget-view+json": {
       "model_id": "4db38434c58844c4981a113d7aedf5f9",
       "version_major": 2,
       "version_minor": 0
      },
      "text/plain": [
       "daily files to download:   0%|          | 0/3 [00:00<?, ?files/s]"
      ]
     },
     "metadata": {},
     "output_type": "display_data"
    },
    {
     "data": {
      "application/vnd.jupyter.widget-view+json": {
       "model_id": "3746591e8b0b4748a929ab5e5296b0a5",
       "version_major": 2,
       "version_minor": 0
      },
      "text/plain": [
       "daily files to download:   0%|          | 0/3 [00:00<?, ?files/s]"
      ]
     },
     "metadata": {},
     "output_type": "display_data"
    },
    {
     "data": {
      "application/vnd.jupyter.widget-view+json": {
       "model_id": "da2f12b8dd5240ff9080b54729282977",
       "version_major": 2,
       "version_minor": 0
      },
      "text/plain": [
       "daily files to download:   0%|          | 0/3 [00:00<?, ?files/s]"
      ]
     },
     "metadata": {},
     "output_type": "display_data"
    },
    {
     "data": {
      "application/vnd.jupyter.widget-view+json": {
       "model_id": "cb2459e32a6044e28e49643bd93eba2f",
       "version_major": 2,
       "version_minor": 0
      },
      "text/plain": [
       "daily files to download:   0%|          | 0/3 [00:00<?, ?files/s]"
      ]
     },
     "metadata": {},
     "output_type": "display_data"
    },
    {
     "data": {
      "application/vnd.jupyter.widget-view+json": {
       "model_id": "589a9618ef08405fa98a974e4df427be",
       "version_major": 2,
       "version_minor": 0
      },
      "text/plain": [
       "daily files to download:   0%|          | 0/3 [00:00<?, ?files/s]"
      ]
     },
     "metadata": {},
     "output_type": "display_data"
    },
    {
     "data": {
      "application/vnd.jupyter.widget-view+json": {
       "model_id": "41c26b2149d2453289e8159654cc7437",
       "version_major": 2,
       "version_minor": 0
      },
      "text/plain": [
       "daily files to download:   0%|          | 0/3 [00:00<?, ?files/s]"
      ]
     },
     "metadata": {},
     "output_type": "display_data"
    },
    {
     "data": {
      "application/vnd.jupyter.widget-view+json": {
       "model_id": "1a2096bfcec84eb39f303738f8e2500f",
       "version_major": 2,
       "version_minor": 0
      },
      "text/plain": [
       "daily files to download:   0%|          | 0/3 [00:00<?, ?files/s]"
      ]
     },
     "metadata": {},
     "output_type": "display_data"
    },
    {
     "data": {
      "application/vnd.jupyter.widget-view+json": {
       "model_id": "c9477cad681b4cb0ae6cd5248f77e9d9",
       "version_major": 2,
       "version_minor": 0
      },
      "text/plain": [
       "daily files to download:   0%|          | 0/3 [00:00<?, ?files/s]"
      ]
     },
     "metadata": {},
     "output_type": "display_data"
    },
    {
     "data": {
      "application/vnd.jupyter.widget-view+json": {
       "model_id": "d678a9be3cbf404c9f1027d031c168f0",
       "version_major": 2,
       "version_minor": 0
      },
      "text/plain": [
       "daily files to download:   0%|          | 0/3 [00:00<?, ?files/s]"
      ]
     },
     "metadata": {},
     "output_type": "display_data"
    },
    {
     "data": {
      "application/vnd.jupyter.widget-view+json": {
       "model_id": "0e57d3fbd6d3470a9428b5342c3a812f",
       "version_major": 2,
       "version_minor": 0
      },
      "text/plain": [
       "daily files to download:   0%|          | 0/3 [00:00<?, ?files/s]"
      ]
     },
     "metadata": {},
     "output_type": "display_data"
    },
    {
     "data": {
      "application/vnd.jupyter.widget-view+json": {
       "model_id": "c9afee66187148c184803e0a34b0f291",
       "version_major": 2,
       "version_minor": 0
      },
      "text/plain": [
       "daily files to download:   0%|          | 0/3 [00:00<?, ?files/s]"
      ]
     },
     "metadata": {},
     "output_type": "display_data"
    },
    {
     "data": {
      "application/vnd.jupyter.widget-view+json": {
       "model_id": "c0d4b7c392db45c5a3b51aa4c379735a",
       "version_major": 2,
       "version_minor": 0
      },
      "text/plain": [
       "daily files to download:   0%|          | 0/3 [00:00<?, ?files/s]"
      ]
     },
     "metadata": {},
     "output_type": "display_data"
    },
    {
     "data": {
      "application/vnd.jupyter.widget-view+json": {
       "model_id": "e5299a88510c439083dcf6a34c7a0fb2",
       "version_major": 2,
       "version_minor": 0
      },
      "text/plain": [
       "daily files to download:   0%|          | 0/3 [00:00<?, ?files/s]"
      ]
     },
     "metadata": {},
     "output_type": "display_data"
    },
    {
     "data": {
      "application/vnd.jupyter.widget-view+json": {
       "model_id": "299d5cf061ad4c07adf10489baef44e0",
       "version_major": 2,
       "version_minor": 0
      },
      "text/plain": [
       "daily files to download:   0%|          | 0/3 [00:00<?, ?files/s]"
      ]
     },
     "metadata": {},
     "output_type": "display_data"
    },
    {
     "data": {
      "application/vnd.jupyter.widget-view+json": {
       "model_id": "fd862b4d982d4ba5b20d38b24b14eac6",
       "version_major": 2,
       "version_minor": 0
      },
      "text/plain": [
       "daily files to download:   0%|          | 0/3 [00:00<?, ?files/s]"
      ]
     },
     "metadata": {},
     "output_type": "display_data"
    },
    {
     "data": {
      "application/vnd.jupyter.widget-view+json": {
       "model_id": "b484bc95c7b24ab4a69f43a90f933a33",
       "version_major": 2,
       "version_minor": 0
      },
      "text/plain": [
       "daily files to download:   0%|          | 0/3 [00:00<?, ?files/s]"
      ]
     },
     "metadata": {},
     "output_type": "display_data"
    },
    {
     "data": {
      "application/vnd.jupyter.widget-view+json": {
       "model_id": "fe80ad4d54d14e6ca0608bdf9b69741d",
       "version_major": 2,
       "version_minor": 0
      },
      "text/plain": [
       "daily files to download:   0%|          | 0/3 [00:00<?, ?files/s]"
      ]
     },
     "metadata": {},
     "output_type": "display_data"
    },
    {
     "data": {
      "application/vnd.jupyter.widget-view+json": {
       "model_id": "279c0c30fa9c41d0b030ba1932428726",
       "version_major": 2,
       "version_minor": 0
      },
      "text/plain": [
       "daily files to download:   0%|          | 0/3 [00:00<?, ?files/s]"
      ]
     },
     "metadata": {},
     "output_type": "display_data"
    },
    {
     "data": {
      "application/vnd.jupyter.widget-view+json": {
       "model_id": "0e4b853eedc04acaae683e9f51f48067",
       "version_major": 2,
       "version_minor": 0
      },
      "text/plain": [
       "daily files to download:   0%|          | 0/3 [00:00<?, ?files/s]"
      ]
     },
     "metadata": {},
     "output_type": "display_data"
    },
    {
     "data": {
      "application/vnd.jupyter.widget-view+json": {
       "model_id": "48a536cd64f44ed0bf56e8fdd03e79eb",
       "version_major": 2,
       "version_minor": 0
      },
      "text/plain": [
       "daily files to download:   0%|          | 0/3 [00:00<?, ?files/s]"
      ]
     },
     "metadata": {},
     "output_type": "display_data"
    },
    {
     "data": {
      "application/vnd.jupyter.widget-view+json": {
       "model_id": "b19ad725341743378dd12bfdd7afc23d",
       "version_major": 2,
       "version_minor": 0
      },
      "text/plain": [
       "daily files to download:   0%|          | 0/3 [00:00<?, ?files/s]"
      ]
     },
     "metadata": {},
     "output_type": "display_data"
    },
    {
     "data": {
      "application/vnd.jupyter.widget-view+json": {
       "model_id": "0759237fa0db46f294a61eccff6fa537",
       "version_major": 2,
       "version_minor": 0
      },
      "text/plain": [
       "daily files to download:   0%|          | 0/3 [00:00<?, ?files/s]"
      ]
     },
     "metadata": {},
     "output_type": "display_data"
    },
    {
     "data": {
      "application/vnd.jupyter.widget-view+json": {
       "model_id": "545c3d30af6f40d28344cf316f7bc0ef",
       "version_major": 2,
       "version_minor": 0
      },
      "text/plain": [
       "daily files to download:   0%|          | 0/3 [00:00<?, ?files/s]"
      ]
     },
     "metadata": {},
     "output_type": "display_data"
    },
    {
     "data": {
      "application/vnd.jupyter.widget-view+json": {
       "model_id": "f2d1d817f0bb457bbf2d55d211024cfe",
       "version_major": 2,
       "version_minor": 0
      },
      "text/plain": [
       "daily files to download:   0%|          | 0/3 [00:00<?, ?files/s]"
      ]
     },
     "metadata": {},
     "output_type": "display_data"
    },
    {
     "data": {
      "application/vnd.jupyter.widget-view+json": {
       "model_id": "31ec36a511d4400e88a8915b93700ec3",
       "version_major": 2,
       "version_minor": 0
      },
      "text/plain": [
       "daily files to download:   0%|          | 0/3 [00:00<?, ?files/s]"
      ]
     },
     "metadata": {},
     "output_type": "display_data"
    },
    {
     "data": {
      "application/vnd.jupyter.widget-view+json": {
       "model_id": "dde6c94c2b094388b2b9c2bb573a5c02",
       "version_major": 2,
       "version_minor": 0
      },
      "text/plain": [
       "daily files to download:   0%|          | 0/3 [00:00<?, ?files/s]"
      ]
     },
     "metadata": {},
     "output_type": "display_data"
    },
    {
     "data": {
      "application/vnd.jupyter.widget-view+json": {
       "model_id": "7ac1e7c8f9ee471ab71a6751c1070382",
       "version_major": 2,
       "version_minor": 0
      },
      "text/plain": [
       "daily files to download:   0%|          | 0/3 [00:00<?, ?files/s]"
      ]
     },
     "metadata": {},
     "output_type": "display_data"
    },
    {
     "data": {
      "application/vnd.jupyter.widget-view+json": {
       "model_id": "bff7828efaf74bb6a9628fa07be1385e",
       "version_major": 2,
       "version_minor": 0
      },
      "text/plain": [
       "daily files to download:   0%|          | 0/3 [00:00<?, ?files/s]"
      ]
     },
     "metadata": {},
     "output_type": "display_data"
    },
    {
     "data": {
      "application/vnd.jupyter.widget-view+json": {
       "model_id": "02b767986d004826b3c403cadca6e82c",
       "version_major": 2,
       "version_minor": 0
      },
      "text/plain": [
       "daily files to download:   0%|          | 0/3 [00:00<?, ?files/s]"
      ]
     },
     "metadata": {},
     "output_type": "display_data"
    },
    {
     "data": {
      "application/vnd.jupyter.widget-view+json": {
       "model_id": "eb58fabf1ed649e89ab1b9a1472d20e5",
       "version_major": 2,
       "version_minor": 0
      },
      "text/plain": [
       "daily files to download:   0%|          | 0/3 [00:00<?, ?files/s]"
      ]
     },
     "metadata": {},
     "output_type": "display_data"
    },
    {
     "data": {
      "application/vnd.jupyter.widget-view+json": {
       "model_id": "2478d307f3034de7920b6985e5657ef4",
       "version_major": 2,
       "version_minor": 0
      },
      "text/plain": [
       "daily files to download:   0%|          | 0/3 [00:00<?, ?files/s]"
      ]
     },
     "metadata": {},
     "output_type": "display_data"
    },
    {
     "data": {
      "application/vnd.jupyter.widget-view+json": {
       "model_id": "e58e504ce1864ae7a7957dbedb15e374",
       "version_major": 2,
       "version_minor": 0
      },
      "text/plain": [
       "daily files to download:   0%|          | 0/3 [00:00<?, ?files/s]"
      ]
     },
     "metadata": {},
     "output_type": "display_data"
    },
    {
     "data": {
      "application/vnd.jupyter.widget-view+json": {
       "model_id": "a509a4ef8cdc4598a9b6c1c99e1adf67",
       "version_major": 2,
       "version_minor": 0
      },
      "text/plain": [
       "daily files to download:   0%|          | 0/3 [00:00<?, ?files/s]"
      ]
     },
     "metadata": {},
     "output_type": "display_data"
    },
    {
     "data": {
      "application/vnd.jupyter.widget-view+json": {
       "model_id": "98f83910eebd43c1bcde0a9ea2a88589",
       "version_major": 2,
       "version_minor": 0
      },
      "text/plain": [
       "daily files to download:   0%|          | 0/3 [00:00<?, ?files/s]"
      ]
     },
     "metadata": {},
     "output_type": "display_data"
    },
    {
     "data": {
      "application/vnd.jupyter.widget-view+json": {
       "model_id": "84298ffff3144fd884a91d84ce6b57d1",
       "version_major": 2,
       "version_minor": 0
      },
      "text/plain": [
       "daily files to download:   0%|          | 0/3 [00:00<?, ?files/s]"
      ]
     },
     "metadata": {},
     "output_type": "display_data"
    },
    {
     "data": {
      "application/vnd.jupyter.widget-view+json": {
       "model_id": "2e35a15f64a34f26862519d289564257",
       "version_major": 2,
       "version_minor": 0
      },
      "text/plain": [
       "daily files to download:   0%|          | 0/3 [00:00<?, ?files/s]"
      ]
     },
     "metadata": {},
     "output_type": "display_data"
    },
    {
     "data": {
      "application/vnd.jupyter.widget-view+json": {
       "model_id": "41a1c54183914c5fb19ddfb05d3a8bc2",
       "version_major": 2,
       "version_minor": 0
      },
      "text/plain": [
       "daily files to download:   0%|          | 0/3 [00:00<?, ?files/s]"
      ]
     },
     "metadata": {},
     "output_type": "display_data"
    },
    {
     "data": {
      "application/vnd.jupyter.widget-view+json": {
       "model_id": "7f80dfa73d714a1682f62915f075c342",
       "version_major": 2,
       "version_minor": 0
      },
      "text/plain": [
       "daily files to download:   0%|          | 0/3 [00:00<?, ?files/s]"
      ]
     },
     "metadata": {},
     "output_type": "display_data"
    },
    {
     "data": {
      "application/vnd.jupyter.widget-view+json": {
       "model_id": "416835b075984d9f82de45fb09b37231",
       "version_major": 2,
       "version_minor": 0
      },
      "text/plain": [
       "daily files to download:   0%|          | 0/3 [00:00<?, ?files/s]"
      ]
     },
     "metadata": {},
     "output_type": "display_data"
    },
    {
     "data": {
      "application/vnd.jupyter.widget-view+json": {
       "model_id": "fdf3785eb7b04790b4173da7c474a822",
       "version_major": 2,
       "version_minor": 0
      },
      "text/plain": [
       "daily files to download:   0%|          | 0/3 [00:00<?, ?files/s]"
      ]
     },
     "metadata": {},
     "output_type": "display_data"
    },
    {
     "data": {
      "application/vnd.jupyter.widget-view+json": {
       "model_id": "48b9c8f20b3340be9cf71ccf10aec259",
       "version_major": 2,
       "version_minor": 0
      },
      "text/plain": [
       "daily files to download:   0%|          | 0/3 [00:00<?, ?files/s]"
      ]
     },
     "metadata": {},
     "output_type": "display_data"
    },
    {
     "data": {
      "application/vnd.jupyter.widget-view+json": {
       "model_id": "18cb3da2b2cd4fb1a4202763d11381e1",
       "version_major": 2,
       "version_minor": 0
      },
      "text/plain": [
       "daily files to download:   0%|          | 0/3 [00:00<?, ?files/s]"
      ]
     },
     "metadata": {},
     "output_type": "display_data"
    },
    {
     "data": {
      "application/vnd.jupyter.widget-view+json": {
       "model_id": "2bddca8f30914370b349b294275f8175",
       "version_major": 2,
       "version_minor": 0
      },
      "text/plain": [
       "daily files to download:   0%|          | 0/3 [00:00<?, ?files/s]"
      ]
     },
     "metadata": {},
     "output_type": "display_data"
    },
    {
     "data": {
      "application/vnd.jupyter.widget-view+json": {
       "model_id": "9c495a410fb9414da1fb1899b86aa2a9",
       "version_major": 2,
       "version_minor": 0
      },
      "text/plain": [
       "daily files to download:   0%|          | 0/3 [00:00<?, ?files/s]"
      ]
     },
     "metadata": {},
     "output_type": "display_data"
    },
    {
     "data": {
      "application/vnd.jupyter.widget-view+json": {
       "model_id": "839984cb6ad84c0197095b645dad2a69",
       "version_major": 2,
       "version_minor": 0
      },
      "text/plain": [
       "daily files to download:   0%|          | 0/3 [00:00<?, ?files/s]"
      ]
     },
     "metadata": {},
     "output_type": "display_data"
    },
    {
     "data": {
      "application/vnd.jupyter.widget-view+json": {
       "model_id": "b589424935bd4702ae830f780618850c",
       "version_major": 2,
       "version_minor": 0
      },
      "text/plain": [
       "daily files to download:   0%|          | 0/3 [00:00<?, ?files/s]"
      ]
     },
     "metadata": {},
     "output_type": "display_data"
    },
    {
     "data": {
      "application/vnd.jupyter.widget-view+json": {
       "model_id": "c97189453e2945de86cbe57d4563ba1f",
       "version_major": 2,
       "version_minor": 0
      },
      "text/plain": [
       "daily files to download:   0%|          | 0/3 [00:00<?, ?files/s]"
      ]
     },
     "metadata": {},
     "output_type": "display_data"
    },
    {
     "data": {
      "application/vnd.jupyter.widget-view+json": {
       "model_id": "bb771b030dad4e2dbb3189c476ae64eb",
       "version_major": 2,
       "version_minor": 0
      },
      "text/plain": [
       "daily files to download:   0%|          | 0/3 [00:00<?, ?files/s]"
      ]
     },
     "metadata": {},
     "output_type": "display_data"
    },
    {
     "data": {
      "application/vnd.jupyter.widget-view+json": {
       "model_id": "116ae48d05a64e1fbca54c60a7553ff5",
       "version_major": 2,
       "version_minor": 0
      },
      "text/plain": [
       "daily files to download:   0%|          | 0/3 [00:00<?, ?files/s]"
      ]
     },
     "metadata": {},
     "output_type": "display_data"
    },
    {
     "data": {
      "application/vnd.jupyter.widget-view+json": {
       "model_id": "e54e6639f79149dab0ca82fd1f939998",
       "version_major": 2,
       "version_minor": 0
      },
      "text/plain": [
       "daily files to download:   0%|          | 0/3 [00:00<?, ?files/s]"
      ]
     },
     "metadata": {},
     "output_type": "display_data"
    },
    {
     "data": {
      "application/vnd.jupyter.widget-view+json": {
       "model_id": "1c4026214fbe4f6da205f26c057c11ec",
       "version_major": 2,
       "version_minor": 0
      },
      "text/plain": [
       "daily files to download:   0%|          | 0/3 [00:00<?, ?files/s]"
      ]
     },
     "metadata": {},
     "output_type": "display_data"
    },
    {
     "data": {
      "application/vnd.jupyter.widget-view+json": {
       "model_id": "4748f689a45143bdbabc4eb5f1cccdf3",
       "version_major": 2,
       "version_minor": 0
      },
      "text/plain": [
       "daily files to download:   0%|          | 0/3 [00:00<?, ?files/s]"
      ]
     },
     "metadata": {},
     "output_type": "display_data"
    },
    {
     "data": {
      "application/vnd.jupyter.widget-view+json": {
       "model_id": "a0a0e4733d8440df83e06fcd524a8533",
       "version_major": 2,
       "version_minor": 0
      },
      "text/plain": [
       "daily files to download:   0%|          | 0/3 [00:00<?, ?files/s]"
      ]
     },
     "metadata": {},
     "output_type": "display_data"
    },
    {
     "data": {
      "application/vnd.jupyter.widget-view+json": {
       "model_id": "9710cfcff5ff401188e50b5146d3a5d8",
       "version_major": 2,
       "version_minor": 0
      },
      "text/plain": [
       "daily files to download:   0%|          | 0/3 [00:00<?, ?files/s]"
      ]
     },
     "metadata": {},
     "output_type": "display_data"
    },
    {
     "data": {
      "application/vnd.jupyter.widget-view+json": {
       "model_id": "b0fd606c754e4499a866b9d4c40b66d9",
       "version_major": 2,
       "version_minor": 0
      },
      "text/plain": [
       "daily files to download:   0%|          | 0/3 [00:00<?, ?files/s]"
      ]
     },
     "metadata": {},
     "output_type": "display_data"
    },
    {
     "data": {
      "application/vnd.jupyter.widget-view+json": {
       "model_id": "5becd09278e64e21b1c938106255d97c",
       "version_major": 2,
       "version_minor": 0
      },
      "text/plain": [
       "daily files to download:   0%|          | 0/3 [00:00<?, ?files/s]"
      ]
     },
     "metadata": {},
     "output_type": "display_data"
    },
    {
     "data": {
      "application/vnd.jupyter.widget-view+json": {
       "model_id": "9f7dfefa27684935b10058f41e1adac2",
       "version_major": 2,
       "version_minor": 0
      },
      "text/plain": [
       "daily files to download:   0%|          | 0/3 [00:00<?, ?files/s]"
      ]
     },
     "metadata": {},
     "output_type": "display_data"
    },
    {
     "data": {
      "application/vnd.jupyter.widget-view+json": {
       "model_id": "57f054a7b9784eafa1d9b276dfad29f4",
       "version_major": 2,
       "version_minor": 0
      },
      "text/plain": [
       "daily files to download:   0%|          | 0/3 [00:00<?, ?files/s]"
      ]
     },
     "metadata": {},
     "output_type": "display_data"
    },
    {
     "data": {
      "application/vnd.jupyter.widget-view+json": {
       "model_id": "c75bfa8cc51c42dfb2cdb968e8a6d8da",
       "version_major": 2,
       "version_minor": 0
      },
      "text/plain": [
       "daily files to download:   0%|          | 0/3 [00:00<?, ?files/s]"
      ]
     },
     "metadata": {},
     "output_type": "display_data"
    },
    {
     "data": {
      "application/vnd.jupyter.widget-view+json": {
       "model_id": "4e93fad08a864518bf67f56b3a9b0c33",
       "version_major": 2,
       "version_minor": 0
      },
      "text/plain": [
       "daily files to download:   0%|          | 0/3 [00:00<?, ?files/s]"
      ]
     },
     "metadata": {},
     "output_type": "display_data"
    },
    {
     "data": {
      "application/vnd.jupyter.widget-view+json": {
       "model_id": "a8dcb52711e1401e89f199860adbd36c",
       "version_major": 2,
       "version_minor": 0
      },
      "text/plain": [
       "daily files to download:   0%|          | 0/3 [00:00<?, ?files/s]"
      ]
     },
     "metadata": {},
     "output_type": "display_data"
    },
    {
     "data": {
      "application/vnd.jupyter.widget-view+json": {
       "model_id": "42407d9ba083458db0ea62d5865fcee8",
       "version_major": 2,
       "version_minor": 0
      },
      "text/plain": [
       "daily files to download:   0%|          | 0/3 [00:00<?, ?files/s]"
      ]
     },
     "metadata": {},
     "output_type": "display_data"
    },
    {
     "data": {
      "application/vnd.jupyter.widget-view+json": {
       "model_id": "f0625cb6769a4cbe9dfad97450f8b225",
       "version_major": 2,
       "version_minor": 0
      },
      "text/plain": [
       "daily files to download:   0%|          | 0/3 [00:00<?, ?files/s]"
      ]
     },
     "metadata": {},
     "output_type": "display_data"
    },
    {
     "data": {
      "application/vnd.jupyter.widget-view+json": {
       "model_id": "738f5cc2ac4745af957bbde7ca87f6cc",
       "version_major": 2,
       "version_minor": 0
      },
      "text/plain": [
       "daily files to download:   0%|          | 0/3 [00:00<?, ?files/s]"
      ]
     },
     "metadata": {},
     "output_type": "display_data"
    },
    {
     "data": {
      "application/vnd.jupyter.widget-view+json": {
       "model_id": "f53d242c5f8247d8aa0110a5212bdd4a",
       "version_major": 2,
       "version_minor": 0
      },
      "text/plain": [
       "daily files to download:   0%|          | 0/3 [00:00<?, ?files/s]"
      ]
     },
     "metadata": {},
     "output_type": "display_data"
    },
    {
     "data": {
      "application/vnd.jupyter.widget-view+json": {
       "model_id": "1ba3b842f61b4689aa4cfe29af70d357",
       "version_major": 2,
       "version_minor": 0
      },
      "text/plain": [
       "daily files to download:   0%|          | 0/3 [00:00<?, ?files/s]"
      ]
     },
     "metadata": {},
     "output_type": "display_data"
    },
    {
     "data": {
      "application/vnd.jupyter.widget-view+json": {
       "model_id": "61e7af3e1941470698e73d41aee5d566",
       "version_major": 2,
       "version_minor": 0
      },
      "text/plain": [
       "daily files to download:   0%|          | 0/3 [00:00<?, ?files/s]"
      ]
     },
     "metadata": {},
     "output_type": "display_data"
    },
    {
     "data": {
      "application/vnd.jupyter.widget-view+json": {
       "model_id": "ffbb378e44ff44d1a35896096fd7adf5",
       "version_major": 2,
       "version_minor": 0
      },
      "text/plain": [
       "daily files to download:   0%|          | 0/3 [00:00<?, ?files/s]"
      ]
     },
     "metadata": {},
     "output_type": "display_data"
    },
    {
     "data": {
      "application/vnd.jupyter.widget-view+json": {
       "model_id": "f9aac9414f4e4fd29659adbcbc612dd8",
       "version_major": 2,
       "version_minor": 0
      },
      "text/plain": [
       "daily files to download:   0%|          | 0/3 [00:00<?, ?files/s]"
      ]
     },
     "metadata": {},
     "output_type": "display_data"
    },
    {
     "data": {
      "application/vnd.jupyter.widget-view+json": {
       "model_id": "b31da7d428ad4fd88b1b7fe86d1f7a1d",
       "version_major": 2,
       "version_minor": 0
      },
      "text/plain": [
       "daily files to download:   0%|          | 0/3 [00:00<?, ?files/s]"
      ]
     },
     "metadata": {},
     "output_type": "display_data"
    },
    {
     "data": {
      "application/vnd.jupyter.widget-view+json": {
       "model_id": "6bc0019efcfb4200ad007a22d16cc9e6",
       "version_major": 2,
       "version_minor": 0
      },
      "text/plain": [
       "daily files to download:   0%|          | 0/3 [00:00<?, ?files/s]"
      ]
     },
     "metadata": {},
     "output_type": "display_data"
    },
    {
     "data": {
      "application/vnd.jupyter.widget-view+json": {
       "model_id": "a734f149c04049f0abf7282ea63d428c",
       "version_major": 2,
       "version_minor": 0
      },
      "text/plain": [
       "daily files to download:   0%|          | 0/3 [00:00<?, ?files/s]"
      ]
     },
     "metadata": {},
     "output_type": "display_data"
    },
    {
     "data": {
      "application/vnd.jupyter.widget-view+json": {
       "model_id": "931e9fcb88b6476e92b6033f0f3a390f",
       "version_major": 2,
       "version_minor": 0
      },
      "text/plain": [
       "daily files to download:   0%|          | 0/3 [00:00<?, ?files/s]"
      ]
     },
     "metadata": {},
     "output_type": "display_data"
    },
    {
     "data": {
      "application/vnd.jupyter.widget-view+json": {
       "model_id": "62af7ecc155f470caebf9c2017059a84",
       "version_major": 2,
       "version_minor": 0
      },
      "text/plain": [
       "daily files to download:   0%|          | 0/3 [00:00<?, ?files/s]"
      ]
     },
     "metadata": {},
     "output_type": "display_data"
    },
    {
     "data": {
      "application/vnd.jupyter.widget-view+json": {
       "model_id": "d92cf8af5f8a46979424bbd231a8c333",
       "version_major": 2,
       "version_minor": 0
      },
      "text/plain": [
       "daily files to download:   0%|          | 0/3 [00:00<?, ?files/s]"
      ]
     },
     "metadata": {},
     "output_type": "display_data"
    },
    {
     "data": {
      "application/vnd.jupyter.widget-view+json": {
       "model_id": "7aa68c814820443ab1ee5d5de89134bc",
       "version_major": 2,
       "version_minor": 0
      },
      "text/plain": [
       "daily files to download:   0%|          | 0/3 [00:00<?, ?files/s]"
      ]
     },
     "metadata": {},
     "output_type": "display_data"
    },
    {
     "data": {
      "application/vnd.jupyter.widget-view+json": {
       "model_id": "4fbc0b7662314535a8c5962e1f466f51",
       "version_major": 2,
       "version_minor": 0
      },
      "text/plain": [
       "daily files to download:   0%|          | 0/3 [00:00<?, ?files/s]"
      ]
     },
     "metadata": {},
     "output_type": "display_data"
    },
    {
     "data": {
      "application/vnd.jupyter.widget-view+json": {
       "model_id": "1bd5c1cdbe36457f8cca92c0f9ab3e8b",
       "version_major": 2,
       "version_minor": 0
      },
      "text/plain": [
       "daily files to download:   0%|          | 0/3 [00:00<?, ?files/s]"
      ]
     },
     "metadata": {},
     "output_type": "display_data"
    },
    {
     "data": {
      "application/vnd.jupyter.widget-view+json": {
       "model_id": "975eb2e83bc34c80aa87383c49837a1c",
       "version_major": 2,
       "version_minor": 0
      },
      "text/plain": [
       "daily files to download:   0%|          | 0/3 [00:00<?, ?files/s]"
      ]
     },
     "metadata": {},
     "output_type": "display_data"
    },
    {
     "data": {
      "application/vnd.jupyter.widget-view+json": {
       "model_id": "382560f1b0a9414ea41fcf3298a257ea",
       "version_major": 2,
       "version_minor": 0
      },
      "text/plain": [
       "daily files to download:   0%|          | 0/3 [00:00<?, ?files/s]"
      ]
     },
     "metadata": {},
     "output_type": "display_data"
    },
    {
     "data": {
      "application/vnd.jupyter.widget-view+json": {
       "model_id": "a3808093803f47d99aa39b7d635bcf32",
       "version_major": 2,
       "version_minor": 0
      },
      "text/plain": [
       "daily files to download:   0%|          | 0/3 [00:00<?, ?files/s]"
      ]
     },
     "metadata": {},
     "output_type": "display_data"
    },
    {
     "data": {
      "application/vnd.jupyter.widget-view+json": {
       "model_id": "8bf63f50f287492bad7f2dca045f3dae",
       "version_major": 2,
       "version_minor": 0
      },
      "text/plain": [
       "daily files to download:   0%|          | 0/3 [00:00<?, ?files/s]"
      ]
     },
     "metadata": {},
     "output_type": "display_data"
    },
    {
     "data": {
      "application/vnd.jupyter.widget-view+json": {
       "model_id": "9dfa7ccb95bf4210a46eb8fe6d5ba481",
       "version_major": 2,
       "version_minor": 0
      },
      "text/plain": [
       "daily files to download:   0%|          | 0/3 [00:00<?, ?files/s]"
      ]
     },
     "metadata": {},
     "output_type": "display_data"
    },
    {
     "data": {
      "application/vnd.jupyter.widget-view+json": {
       "model_id": "d7d651318f784963850bb04b50f2526f",
       "version_major": 2,
       "version_minor": 0
      },
      "text/plain": [
       "daily files to download:   0%|          | 0/3 [00:00<?, ?files/s]"
      ]
     },
     "metadata": {},
     "output_type": "display_data"
    },
    {
     "data": {
      "application/vnd.jupyter.widget-view+json": {
       "model_id": "1f5f1fbf48014825889a4916b45a3b2a",
       "version_major": 2,
       "version_minor": 0
      },
      "text/plain": [
       "daily files to download:   0%|          | 0/3 [00:00<?, ?files/s]"
      ]
     },
     "metadata": {},
     "output_type": "display_data"
    },
    {
     "data": {
      "application/vnd.jupyter.widget-view+json": {
       "model_id": "2569bc22860d471aafc480af76ed6021",
       "version_major": 2,
       "version_minor": 0
      },
      "text/plain": [
       "daily files to download:   0%|          | 0/3 [00:00<?, ?files/s]"
      ]
     },
     "metadata": {},
     "output_type": "display_data"
    },
    {
     "data": {
      "application/vnd.jupyter.widget-view+json": {
       "model_id": "a70b389c07d64c20b0de4e414aa2095b",
       "version_major": 2,
       "version_minor": 0
      },
      "text/plain": [
       "daily files to download:   0%|          | 0/3 [00:00<?, ?files/s]"
      ]
     },
     "metadata": {},
     "output_type": "display_data"
    },
    {
     "data": {
      "application/vnd.jupyter.widget-view+json": {
       "model_id": "307648d580f44e8ea8748c852c41c0c7",
       "version_major": 2,
       "version_minor": 0
      },
      "text/plain": [
       "daily files to download:   0%|          | 0/3 [00:00<?, ?files/s]"
      ]
     },
     "metadata": {},
     "output_type": "display_data"
    },
    {
     "data": {
      "application/vnd.jupyter.widget-view+json": {
       "model_id": "3ed17e05ed29469891b5083d804352f0",
       "version_major": 2,
       "version_minor": 0
      },
      "text/plain": [
       "daily files to download:   0%|          | 0/3 [00:00<?, ?files/s]"
      ]
     },
     "metadata": {},
     "output_type": "display_data"
    },
    {
     "data": {
      "application/vnd.jupyter.widget-view+json": {
       "model_id": "baddfd9c8a44474b97be5be60a82d912",
       "version_major": 2,
       "version_minor": 0
      },
      "text/plain": [
       "daily files to download:   0%|          | 0/3 [00:00<?, ?files/s]"
      ]
     },
     "metadata": {},
     "output_type": "display_data"
    },
    {
     "data": {
      "application/vnd.jupyter.widget-view+json": {
       "model_id": "6bba602e0e504d01bcd395347a40d8f7",
       "version_major": 2,
       "version_minor": 0
      },
      "text/plain": [
       "daily files to download:   0%|          | 0/3 [00:00<?, ?files/s]"
      ]
     },
     "metadata": {},
     "output_type": "display_data"
    },
    {
     "data": {
      "application/vnd.jupyter.widget-view+json": {
       "model_id": "fbffc32805a640168e942a00eab49cb0",
       "version_major": 2,
       "version_minor": 0
      },
      "text/plain": [
       "daily files to download:   0%|          | 0/3 [00:00<?, ?files/s]"
      ]
     },
     "metadata": {},
     "output_type": "display_data"
    },
    {
     "data": {
      "application/vnd.jupyter.widget-view+json": {
       "model_id": "e0e5eb33b2074405a57048acd56c8d85",
       "version_major": 2,
       "version_minor": 0
      },
      "text/plain": [
       "daily files to download:   0%|          | 0/3 [00:00<?, ?files/s]"
      ]
     },
     "metadata": {},
     "output_type": "display_data"
    },
    {
     "data": {
      "application/vnd.jupyter.widget-view+json": {
       "model_id": "c98abbbcd3014675b414fc0caf8a0220",
       "version_major": 2,
       "version_minor": 0
      },
      "text/plain": [
       "daily files to download:   0%|          | 0/3 [00:00<?, ?files/s]"
      ]
     },
     "metadata": {},
     "output_type": "display_data"
    },
    {
     "data": {
      "application/vnd.jupyter.widget-view+json": {
       "model_id": "01e8727628b14fe99d57bdcfa3d0d5d4",
       "version_major": 2,
       "version_minor": 0
      },
      "text/plain": [
       "daily files to download:   0%|          | 0/3 [00:00<?, ?files/s]"
      ]
     },
     "metadata": {},
     "output_type": "display_data"
    },
    {
     "data": {
      "application/vnd.jupyter.widget-view+json": {
       "model_id": "16697e1cc6be45209a722cf189b4dbcd",
       "version_major": 2,
       "version_minor": 0
      },
      "text/plain": [
       "daily files to download:   0%|          | 0/3 [00:00<?, ?files/s]"
      ]
     },
     "metadata": {},
     "output_type": "display_data"
    },
    {
     "data": {
      "application/vnd.jupyter.widget-view+json": {
       "model_id": "369386f1b05841e79542915b7a6b4645",
       "version_major": 2,
       "version_minor": 0
      },
      "text/plain": [
       "daily files to download:   0%|          | 0/3 [00:00<?, ?files/s]"
      ]
     },
     "metadata": {},
     "output_type": "display_data"
    },
    {
     "data": {
      "application/vnd.jupyter.widget-view+json": {
       "model_id": "6b8bb178bf3648899b0f7b99c66271ff",
       "version_major": 2,
       "version_minor": 0
      },
      "text/plain": [
       "daily files to download:   0%|          | 0/3 [00:00<?, ?files/s]"
      ]
     },
     "metadata": {},
     "output_type": "display_data"
    },
    {
     "data": {
      "application/vnd.jupyter.widget-view+json": {
       "model_id": "8e88bcce87ea41d288864a3baa4078dd",
       "version_major": 2,
       "version_minor": 0
      },
      "text/plain": [
       "daily files to download:   0%|          | 0/3 [00:00<?, ?files/s]"
      ]
     },
     "metadata": {},
     "output_type": "display_data"
    },
    {
     "data": {
      "application/vnd.jupyter.widget-view+json": {
       "model_id": "89ee5721ccf14a08addd64ebcee582e0",
       "version_major": 2,
       "version_minor": 0
      },
      "text/plain": [
       "daily files to download:   0%|          | 0/3 [00:00<?, ?files/s]"
      ]
     },
     "metadata": {},
     "output_type": "display_data"
    },
    {
     "data": {
      "application/vnd.jupyter.widget-view+json": {
       "model_id": "d80424f24eb6434f99079ace4d0c5c86",
       "version_major": 2,
       "version_minor": 0
      },
      "text/plain": [
       "daily files to download:   0%|          | 0/3 [00:00<?, ?files/s]"
      ]
     },
     "metadata": {},
     "output_type": "display_data"
    },
    {
     "data": {
      "application/vnd.jupyter.widget-view+json": {
       "model_id": "d0e1d201822947a58e954b84d6f5bde0",
       "version_major": 2,
       "version_minor": 0
      },
      "text/plain": [
       "daily files to download:   0%|          | 0/3 [00:00<?, ?files/s]"
      ]
     },
     "metadata": {},
     "output_type": "display_data"
    },
    {
     "data": {
      "application/vnd.jupyter.widget-view+json": {
       "model_id": "83e40c59b86748d3a5d999b6f19ed5af",
       "version_major": 2,
       "version_minor": 0
      },
      "text/plain": [
       "daily files to download:   0%|          | 0/3 [00:00<?, ?files/s]"
      ]
     },
     "metadata": {},
     "output_type": "display_data"
    },
    {
     "data": {
      "application/vnd.jupyter.widget-view+json": {
       "model_id": "dad83f6e0de14994a5e1b9d0fa1263e9",
       "version_major": 2,
       "version_minor": 0
      },
      "text/plain": [
       "daily files to download:   0%|          | 0/3 [00:00<?, ?files/s]"
      ]
     },
     "metadata": {},
     "output_type": "display_data"
    },
    {
     "data": {
      "application/vnd.jupyter.widget-view+json": {
       "model_id": "ad2d613f00c74775abd7ead545599e73",
       "version_major": 2,
       "version_minor": 0
      },
      "text/plain": [
       "daily files to download:   0%|          | 0/3 [00:00<?, ?files/s]"
      ]
     },
     "metadata": {},
     "output_type": "display_data"
    },
    {
     "data": {
      "application/vnd.jupyter.widget-view+json": {
       "model_id": "f395e93f6d76455aa93cd6ca67b8fc5d",
       "version_major": 2,
       "version_minor": 0
      },
      "text/plain": [
       "daily files to download:   0%|          | 0/3 [00:00<?, ?files/s]"
      ]
     },
     "metadata": {},
     "output_type": "display_data"
    },
    {
     "data": {
      "application/vnd.jupyter.widget-view+json": {
       "model_id": "3843e9bd9cb441a88a9f6de1f2ef5f9e",
       "version_major": 2,
       "version_minor": 0
      },
      "text/plain": [
       "daily files to download:   0%|          | 0/3 [00:00<?, ?files/s]"
      ]
     },
     "metadata": {},
     "output_type": "display_data"
    },
    {
     "data": {
      "application/vnd.jupyter.widget-view+json": {
       "model_id": "cd181cbfbbf74f098cc302397cd0dd1c",
       "version_major": 2,
       "version_minor": 0
      },
      "text/plain": [
       "daily files to download:   0%|          | 0/3 [00:00<?, ?files/s]"
      ]
     },
     "metadata": {},
     "output_type": "display_data"
    },
    {
     "data": {
      "application/vnd.jupyter.widget-view+json": {
       "model_id": "cc137446503d482f800481bc8b602b91",
       "version_major": 2,
       "version_minor": 0
      },
      "text/plain": [
       "daily files to download:   0%|          | 0/3 [00:00<?, ?files/s]"
      ]
     },
     "metadata": {},
     "output_type": "display_data"
    },
    {
     "data": {
      "application/vnd.jupyter.widget-view+json": {
       "model_id": "95ea1d980a354a3aab8f33caf0a1b58e",
       "version_major": 2,
       "version_minor": 0
      },
      "text/plain": [
       "daily files to download:   0%|          | 0/3 [00:00<?, ?files/s]"
      ]
     },
     "metadata": {},
     "output_type": "display_data"
    },
    {
     "data": {
      "application/vnd.jupyter.widget-view+json": {
       "model_id": "4bfc557b2c954c4286960341e2abd910",
       "version_major": 2,
       "version_minor": 0
      },
      "text/plain": [
       "daily files to download:   0%|          | 0/3 [00:00<?, ?files/s]"
      ]
     },
     "metadata": {},
     "output_type": "display_data"
    },
    {
     "data": {
      "application/vnd.jupyter.widget-view+json": {
       "model_id": "b94d2b81b6264aabbc5813565c974398",
       "version_major": 2,
       "version_minor": 0
      },
      "text/plain": [
       "daily files to download:   0%|          | 0/3 [00:00<?, ?files/s]"
      ]
     },
     "metadata": {},
     "output_type": "display_data"
    },
    {
     "data": {
      "application/vnd.jupyter.widget-view+json": {
       "model_id": "3293a09a93844f45b01232dab9695f06",
       "version_major": 2,
       "version_minor": 0
      },
      "text/plain": [
       "daily files to download:   0%|          | 0/3 [00:00<?, ?files/s]"
      ]
     },
     "metadata": {},
     "output_type": "display_data"
    },
    {
     "data": {
      "application/vnd.jupyter.widget-view+json": {
       "model_id": "36ee0231d1aa46708f2cd6a93924b7ad",
       "version_major": 2,
       "version_minor": 0
      },
      "text/plain": [
       "daily files to download:   0%|          | 0/3 [00:00<?, ?files/s]"
      ]
     },
     "metadata": {},
     "output_type": "display_data"
    },
    {
     "data": {
      "application/vnd.jupyter.widget-view+json": {
       "model_id": "0dc930f3fa9040f0970e4020b7751e72",
       "version_major": 2,
       "version_minor": 0
      },
      "text/plain": [
       "daily files to download:   0%|          | 0/3 [00:00<?, ?files/s]"
      ]
     },
     "metadata": {},
     "output_type": "display_data"
    },
    {
     "data": {
      "application/vnd.jupyter.widget-view+json": {
       "model_id": "301758c92dfc476ea5bd137436d2979f",
       "version_major": 2,
       "version_minor": 0
      },
      "text/plain": [
       "daily files to download:   0%|          | 0/3 [00:00<?, ?files/s]"
      ]
     },
     "metadata": {},
     "output_type": "display_data"
    },
    {
     "data": {
      "application/vnd.jupyter.widget-view+json": {
       "model_id": "9f6ed707b11240f889288c5fbdc19d9d",
       "version_major": 2,
       "version_minor": 0
      },
      "text/plain": [
       "daily files to download:   0%|          | 0/3 [00:00<?, ?files/s]"
      ]
     },
     "metadata": {},
     "output_type": "display_data"
    },
    {
     "data": {
      "application/vnd.jupyter.widget-view+json": {
       "model_id": "e91613c5b1414a4da0d8963f2812a8a6",
       "version_major": 2,
       "version_minor": 0
      },
      "text/plain": [
       "daily files to download:   0%|          | 0/3 [00:00<?, ?files/s]"
      ]
     },
     "metadata": {},
     "output_type": "display_data"
    },
    {
     "data": {
      "application/vnd.jupyter.widget-view+json": {
       "model_id": "f46deb6633194207909a7b3729b958a7",
       "version_major": 2,
       "version_minor": 0
      },
      "text/plain": [
       "daily files to download:   0%|          | 0/3 [00:00<?, ?files/s]"
      ]
     },
     "metadata": {},
     "output_type": "display_data"
    },
    {
     "data": {
      "application/vnd.jupyter.widget-view+json": {
       "model_id": "0872f47eadf74b2290b6a697269e6d23",
       "version_major": 2,
       "version_minor": 0
      },
      "text/plain": [
       "daily files to download:   0%|          | 0/3 [00:00<?, ?files/s]"
      ]
     },
     "metadata": {},
     "output_type": "display_data"
    },
    {
     "data": {
      "application/vnd.jupyter.widget-view+json": {
       "model_id": "fdac9d82bd7a4c6fb18532aad3d531a3",
       "version_major": 2,
       "version_minor": 0
      },
      "text/plain": [
       "daily files to download:   0%|          | 0/3 [00:00<?, ?files/s]"
      ]
     },
     "metadata": {},
     "output_type": "display_data"
    },
    {
     "data": {
      "application/vnd.jupyter.widget-view+json": {
       "model_id": "9ee0b659086246b585d0e61c09ed119e",
       "version_major": 2,
       "version_minor": 0
      },
      "text/plain": [
       "daily files to download:   0%|          | 0/3 [00:00<?, ?files/s]"
      ]
     },
     "metadata": {},
     "output_type": "display_data"
    },
    {
     "data": {
      "application/vnd.jupyter.widget-view+json": {
       "model_id": "748a48e23a26442299fcb21714399878",
       "version_major": 2,
       "version_minor": 0
      },
      "text/plain": [
       "daily files to download:   0%|          | 0/3 [00:00<?, ?files/s]"
      ]
     },
     "metadata": {},
     "output_type": "display_data"
    },
    {
     "data": {
      "application/vnd.jupyter.widget-view+json": {
       "model_id": "29ab70c1c05543d79c929467fb315e13",
       "version_major": 2,
       "version_minor": 0
      },
      "text/plain": [
       "daily files to download:   0%|          | 0/3 [00:00<?, ?files/s]"
      ]
     },
     "metadata": {},
     "output_type": "display_data"
    },
    {
     "data": {
      "application/vnd.jupyter.widget-view+json": {
       "model_id": "73038926248b4ce9abf7d9f1c7a4e06f",
       "version_major": 2,
       "version_minor": 0
      },
      "text/plain": [
       "daily files to download:   0%|          | 0/3 [00:00<?, ?files/s]"
      ]
     },
     "metadata": {},
     "output_type": "display_data"
    },
    {
     "data": {
      "application/vnd.jupyter.widget-view+json": {
       "model_id": "9625757e1dff4fd2a455c53ea85dd22a",
       "version_major": 2,
       "version_minor": 0
      },
      "text/plain": [
       "daily files to download:   0%|          | 0/3 [00:00<?, ?files/s]"
      ]
     },
     "metadata": {},
     "output_type": "display_data"
    },
    {
     "data": {
      "application/vnd.jupyter.widget-view+json": {
       "model_id": "e478f44c92494a139827fdd6a961272e",
       "version_major": 2,
       "version_minor": 0
      },
      "text/plain": [
       "daily files to download:   0%|          | 0/3 [00:00<?, ?files/s]"
      ]
     },
     "metadata": {},
     "output_type": "display_data"
    },
    {
     "data": {
      "application/vnd.jupyter.widget-view+json": {
       "model_id": "ad99a948f8134945815f14ea4d669a6c",
       "version_major": 2,
       "version_minor": 0
      },
      "text/plain": [
       "daily files to download:   0%|          | 0/3 [00:00<?, ?files/s]"
      ]
     },
     "metadata": {},
     "output_type": "display_data"
    },
    {
     "data": {
      "application/vnd.jupyter.widget-view+json": {
       "model_id": "164fc2134535469db9d490a17f9bec68",
       "version_major": 2,
       "version_minor": 0
      },
      "text/plain": [
       "daily files to download:   0%|          | 0/3 [00:00<?, ?files/s]"
      ]
     },
     "metadata": {},
     "output_type": "display_data"
    },
    {
     "data": {
      "application/vnd.jupyter.widget-view+json": {
       "model_id": "92facf89d02b4f27b6f1387d8bb94e58",
       "version_major": 2,
       "version_minor": 0
      },
      "text/plain": [
       "daily files to download:   0%|          | 0/3 [00:00<?, ?files/s]"
      ]
     },
     "metadata": {},
     "output_type": "display_data"
    },
    {
     "data": {
      "application/vnd.jupyter.widget-view+json": {
       "model_id": "b8f7cb38eeef453cad2efde2f6a2f474",
       "version_major": 2,
       "version_minor": 0
      },
      "text/plain": [
       "daily files to download:   0%|          | 0/3 [00:00<?, ?files/s]"
      ]
     },
     "metadata": {},
     "output_type": "display_data"
    },
    {
     "data": {
      "application/vnd.jupyter.widget-view+json": {
       "model_id": "84903d5ada114e06afb24c990d3b14ba",
       "version_major": 2,
       "version_minor": 0
      },
      "text/plain": [
       "daily files to download:   0%|          | 0/3 [00:00<?, ?files/s]"
      ]
     },
     "metadata": {},
     "output_type": "display_data"
    },
    {
     "data": {
      "application/vnd.jupyter.widget-view+json": {
       "model_id": "f39dfb6088f647d2bb705a38debd46ef",
       "version_major": 2,
       "version_minor": 0
      },
      "text/plain": [
       "daily files to download:   0%|          | 0/3 [00:00<?, ?files/s]"
      ]
     },
     "metadata": {},
     "output_type": "display_data"
    },
    {
     "data": {
      "application/vnd.jupyter.widget-view+json": {
       "model_id": "611c36c6cf2f47ea987c2e94ddeb66b4",
       "version_major": 2,
       "version_minor": 0
      },
      "text/plain": [
       "daily files to download:   0%|          | 0/3 [00:00<?, ?files/s]"
      ]
     },
     "metadata": {},
     "output_type": "display_data"
    },
    {
     "data": {
      "application/vnd.jupyter.widget-view+json": {
       "model_id": "3165baa59e9941099c78c810f19672df",
       "version_major": 2,
       "version_minor": 0
      },
      "text/plain": [
       "daily files to download:   0%|          | 0/3 [00:00<?, ?files/s]"
      ]
     },
     "metadata": {},
     "output_type": "display_data"
    },
    {
     "data": {
      "application/vnd.jupyter.widget-view+json": {
       "model_id": "7a9294e4834d4b8b8862243bc61b4bfd",
       "version_major": 2,
       "version_minor": 0
      },
      "text/plain": [
       "daily files to download:   0%|          | 0/3 [00:00<?, ?files/s]"
      ]
     },
     "metadata": {},
     "output_type": "display_data"
    },
    {
     "data": {
      "application/vnd.jupyter.widget-view+json": {
       "model_id": "496b8518cb664216abd75794a45ff1f2",
       "version_major": 2,
       "version_minor": 0
      },
      "text/plain": [
       "daily files to download:   0%|          | 0/3 [00:00<?, ?files/s]"
      ]
     },
     "metadata": {},
     "output_type": "display_data"
    },
    {
     "data": {
      "application/vnd.jupyter.widget-view+json": {
       "model_id": "ee2b85701bc0491cb137af9fa6808c3d",
       "version_major": 2,
       "version_minor": 0
      },
      "text/plain": [
       "daily files to download:   0%|          | 0/3 [00:00<?, ?files/s]"
      ]
     },
     "metadata": {},
     "output_type": "display_data"
    },
    {
     "data": {
      "application/vnd.jupyter.widget-view+json": {
       "model_id": "9aaa63e179744f3db8faac816997c927",
       "version_major": 2,
       "version_minor": 0
      },
      "text/plain": [
       "daily files to download:   0%|          | 0/3 [00:00<?, ?files/s]"
      ]
     },
     "metadata": {},
     "output_type": "display_data"
    },
    {
     "data": {
      "application/vnd.jupyter.widget-view+json": {
       "model_id": "9dc61e797e7242499483222f61970dc4",
       "version_major": 2,
       "version_minor": 0
      },
      "text/plain": [
       "daily files to download:   0%|          | 0/3 [00:00<?, ?files/s]"
      ]
     },
     "metadata": {},
     "output_type": "display_data"
    },
    {
     "data": {
      "application/vnd.jupyter.widget-view+json": {
       "model_id": "44d88c3422ef43bbaef0b5f8f51a241e",
       "version_major": 2,
       "version_minor": 0
      },
      "text/plain": [
       "daily files to download:   0%|          | 0/3 [00:00<?, ?files/s]"
      ]
     },
     "metadata": {},
     "output_type": "display_data"
    },
    {
     "data": {
      "application/vnd.jupyter.widget-view+json": {
       "model_id": "cb09128071b54dfe9e60b837c95e9f8b",
       "version_major": 2,
       "version_minor": 0
      },
      "text/plain": [
       "daily files to download:   0%|          | 0/3 [00:00<?, ?files/s]"
      ]
     },
     "metadata": {},
     "output_type": "display_data"
    },
    {
     "data": {
      "application/vnd.jupyter.widget-view+json": {
       "model_id": "f3c438a7895244ce932afff8c04cd310",
       "version_major": 2,
       "version_minor": 0
      },
      "text/plain": [
       "daily files to download:   0%|          | 0/3 [00:00<?, ?files/s]"
      ]
     },
     "metadata": {},
     "output_type": "display_data"
    },
    {
     "data": {
      "application/vnd.jupyter.widget-view+json": {
       "model_id": "2ea9ab15e2fd4afa9be922a6fed10693",
       "version_major": 2,
       "version_minor": 0
      },
      "text/plain": [
       "daily files to download:   0%|          | 0/3 [00:00<?, ?files/s]"
      ]
     },
     "metadata": {},
     "output_type": "display_data"
    },
    {
     "data": {
      "application/vnd.jupyter.widget-view+json": {
       "model_id": "a414a6a9b262481cb33fa2bc63056632",
       "version_major": 2,
       "version_minor": 0
      },
      "text/plain": [
       "daily files to download:   0%|          | 0/3 [00:00<?, ?files/s]"
      ]
     },
     "metadata": {},
     "output_type": "display_data"
    },
    {
     "data": {
      "application/vnd.jupyter.widget-view+json": {
       "model_id": "58b1226e174e4f819f055656a4201ec0",
       "version_major": 2,
       "version_minor": 0
      },
      "text/plain": [
       "daily files to download:   0%|          | 0/3 [00:00<?, ?files/s]"
      ]
     },
     "metadata": {},
     "output_type": "display_data"
    },
    {
     "data": {
      "application/vnd.jupyter.widget-view+json": {
       "model_id": "4cda25fc48f3473bac183d6abf8a48cb",
       "version_major": 2,
       "version_minor": 0
      },
      "text/plain": [
       "daily files to download:   0%|          | 0/3 [00:00<?, ?files/s]"
      ]
     },
     "metadata": {},
     "output_type": "display_data"
    },
    {
     "data": {
      "application/vnd.jupyter.widget-view+json": {
       "model_id": "a5b49d22b2ff4b48be94f2b6fe0aa9ab",
       "version_major": 2,
       "version_minor": 0
      },
      "text/plain": [
       "daily files to download:   0%|          | 0/3 [00:00<?, ?files/s]"
      ]
     },
     "metadata": {},
     "output_type": "display_data"
    },
    {
     "data": {
      "application/vnd.jupyter.widget-view+json": {
       "model_id": "7e6b2cb6f9754ceeab8ee5670a606363",
       "version_major": 2,
       "version_minor": 0
      },
      "text/plain": [
       "daily files to download:   0%|          | 0/3 [00:00<?, ?files/s]"
      ]
     },
     "metadata": {},
     "output_type": "display_data"
    },
    {
     "data": {
      "application/vnd.jupyter.widget-view+json": {
       "model_id": "51411c9c52c5498bbd62eb1f0657bb15",
       "version_major": 2,
       "version_minor": 0
      },
      "text/plain": [
       "daily files to download:   0%|          | 0/3 [00:00<?, ?files/s]"
      ]
     },
     "metadata": {},
     "output_type": "display_data"
    },
    {
     "data": {
      "application/vnd.jupyter.widget-view+json": {
       "model_id": "b2c311868c93498b88a1a5035528da3b",
       "version_major": 2,
       "version_minor": 0
      },
      "text/plain": [
       "daily files to download:   0%|          | 0/3 [00:00<?, ?files/s]"
      ]
     },
     "metadata": {},
     "output_type": "display_data"
    },
    {
     "data": {
      "application/vnd.jupyter.widget-view+json": {
       "model_id": "e0169a6537d74e68a4bde0f86cdf5145",
       "version_major": 2,
       "version_minor": 0
      },
      "text/plain": [
       "daily files to download:   0%|          | 0/3 [00:00<?, ?files/s]"
      ]
     },
     "metadata": {},
     "output_type": "display_data"
    },
    {
     "data": {
      "application/vnd.jupyter.widget-view+json": {
       "model_id": "40bafcb0d6cb43e0b5757da6ee4f8fa8",
       "version_major": 2,
       "version_minor": 0
      },
      "text/plain": [
       "daily files to download:   0%|          | 0/3 [00:00<?, ?files/s]"
      ]
     },
     "metadata": {},
     "output_type": "display_data"
    },
    {
     "data": {
      "application/vnd.jupyter.widget-view+json": {
       "model_id": "b02cdf370bee40bb987441c863ce1911",
       "version_major": 2,
       "version_minor": 0
      },
      "text/plain": [
       "daily files to download:   0%|          | 0/3 [00:00<?, ?files/s]"
      ]
     },
     "metadata": {},
     "output_type": "display_data"
    },
    {
     "data": {
      "application/vnd.jupyter.widget-view+json": {
       "model_id": "9e29436770dd4650aadb53285df21ad4",
       "version_major": 2,
       "version_minor": 0
      },
      "text/plain": [
       "daily files to download:   0%|          | 0/3 [00:00<?, ?files/s]"
      ]
     },
     "metadata": {},
     "output_type": "display_data"
    },
    {
     "data": {
      "application/vnd.jupyter.widget-view+json": {
       "model_id": "8b805b00ef2f4c988c71faf40b8e332e",
       "version_major": 2,
       "version_minor": 0
      },
      "text/plain": [
       "daily files to download:   0%|          | 0/3 [00:00<?, ?files/s]"
      ]
     },
     "metadata": {},
     "output_type": "display_data"
    },
    {
     "data": {
      "application/vnd.jupyter.widget-view+json": {
       "model_id": "87efb846f91c4751b20b13438e28a53b",
       "version_major": 2,
       "version_minor": 0
      },
      "text/plain": [
       "daily files to download:   0%|          | 0/3 [00:00<?, ?files/s]"
      ]
     },
     "metadata": {},
     "output_type": "display_data"
    },
    {
     "data": {
      "application/vnd.jupyter.widget-view+json": {
       "model_id": "979d2144783441cf8b9e8e01c9041e7a",
       "version_major": 2,
       "version_minor": 0
      },
      "text/plain": [
       "daily files to download:   0%|          | 0/3 [00:00<?, ?files/s]"
      ]
     },
     "metadata": {},
     "output_type": "display_data"
    },
    {
     "data": {
      "application/vnd.jupyter.widget-view+json": {
       "model_id": "76532ce90f9344ba94531499f18b18cb",
       "version_major": 2,
       "version_minor": 0
      },
      "text/plain": [
       "daily files to download:   0%|          | 0/3 [00:00<?, ?files/s]"
      ]
     },
     "metadata": {},
     "output_type": "display_data"
    },
    {
     "data": {
      "application/vnd.jupyter.widget-view+json": {
       "model_id": "5f1288cedb064f3f861e695be7cd71d4",
       "version_major": 2,
       "version_minor": 0
      },
      "text/plain": [
       "daily files to download:   0%|          | 0/3 [00:00<?, ?files/s]"
      ]
     },
     "metadata": {},
     "output_type": "display_data"
    },
    {
     "data": {
      "application/vnd.jupyter.widget-view+json": {
       "model_id": "cae8cee895a14663bd4fac1e8fde069e",
       "version_major": 2,
       "version_minor": 0
      },
      "text/plain": [
       "daily files to download:   0%|          | 0/3 [00:00<?, ?files/s]"
      ]
     },
     "metadata": {},
     "output_type": "display_data"
    },
    {
     "data": {
      "application/vnd.jupyter.widget-view+json": {
       "model_id": "3430e55037674fa3b06b7fc1ee42d31a",
       "version_major": 2,
       "version_minor": 0
      },
      "text/plain": [
       "daily files to download:   0%|          | 0/3 [00:00<?, ?files/s]"
      ]
     },
     "metadata": {},
     "output_type": "display_data"
    },
    {
     "data": {
      "application/vnd.jupyter.widget-view+json": {
       "model_id": "d15d8aac555348ec898fe401f8d38142",
       "version_major": 2,
       "version_minor": 0
      },
      "text/plain": [
       "daily files to download:   0%|          | 0/3 [00:00<?, ?files/s]"
      ]
     },
     "metadata": {},
     "output_type": "display_data"
    },
    {
     "data": {
      "application/vnd.jupyter.widget-view+json": {
       "model_id": "f80d3b227e34449ab868d20cbc7cc87b",
       "version_major": 2,
       "version_minor": 0
      },
      "text/plain": [
       "daily files to download:   0%|          | 0/3 [00:00<?, ?files/s]"
      ]
     },
     "metadata": {},
     "output_type": "display_data"
    },
    {
     "data": {
      "application/vnd.jupyter.widget-view+json": {
       "model_id": "3268f736742540e88d3f08d12c68fb64",
       "version_major": 2,
       "version_minor": 0
      },
      "text/plain": [
       "daily files to download:   0%|          | 0/3 [00:00<?, ?files/s]"
      ]
     },
     "metadata": {},
     "output_type": "display_data"
    },
    {
     "data": {
      "application/vnd.jupyter.widget-view+json": {
       "model_id": "2d5f49e8226f4dd4a08e9be05003227c",
       "version_major": 2,
       "version_minor": 0
      },
      "text/plain": [
       "daily files to download:   0%|          | 0/3 [00:00<?, ?files/s]"
      ]
     },
     "metadata": {},
     "output_type": "display_data"
    },
    {
     "data": {
      "application/vnd.jupyter.widget-view+json": {
       "model_id": "06953f04e68e423ca0b857a3697cdfc7",
       "version_major": 2,
       "version_minor": 0
      },
      "text/plain": [
       "daily files to download:   0%|          | 0/3 [00:00<?, ?files/s]"
      ]
     },
     "metadata": {},
     "output_type": "display_data"
    },
    {
     "data": {
      "application/vnd.jupyter.widget-view+json": {
       "model_id": "2953abcf09f848eda598afce0a42c865",
       "version_major": 2,
       "version_minor": 0
      },
      "text/plain": [
       "daily files to download:   0%|          | 0/3 [00:00<?, ?files/s]"
      ]
     },
     "metadata": {},
     "output_type": "display_data"
    },
    {
     "data": {
      "application/vnd.jupyter.widget-view+json": {
       "model_id": "1e7685c4a607488e8e0911f60e6153e0",
       "version_major": 2,
       "version_minor": 0
      },
      "text/plain": [
       "daily files to download:   0%|          | 0/3 [00:00<?, ?files/s]"
      ]
     },
     "metadata": {},
     "output_type": "display_data"
    },
    {
     "data": {
      "application/vnd.jupyter.widget-view+json": {
       "model_id": "ca57ab734163499f9b1c7d6d7ed43ebd",
       "version_major": 2,
       "version_minor": 0
      },
      "text/plain": [
       "daily files to download:   0%|          | 0/3 [00:00<?, ?files/s]"
      ]
     },
     "metadata": {},
     "output_type": "display_data"
    },
    {
     "data": {
      "application/vnd.jupyter.widget-view+json": {
       "model_id": "38607666fe52465f915c1f7e02bb860d",
       "version_major": 2,
       "version_minor": 0
      },
      "text/plain": [
       "daily files to download:   0%|          | 0/3 [00:00<?, ?files/s]"
      ]
     },
     "metadata": {},
     "output_type": "display_data"
    },
    {
     "data": {
      "application/vnd.jupyter.widget-view+json": {
       "model_id": "f4c8188e010243bea95856a5a9110956",
       "version_major": 2,
       "version_minor": 0
      },
      "text/plain": [
       "daily files to download:   0%|          | 0/3 [00:00<?, ?files/s]"
      ]
     },
     "metadata": {},
     "output_type": "display_data"
    },
    {
     "data": {
      "application/vnd.jupyter.widget-view+json": {
       "model_id": "465459c5a30041878f2b8851cab67a0f",
       "version_major": 2,
       "version_minor": 0
      },
      "text/plain": [
       "daily files to download:   0%|          | 0/3 [00:00<?, ?files/s]"
      ]
     },
     "metadata": {},
     "output_type": "display_data"
    },
    {
     "data": {
      "application/vnd.jupyter.widget-view+json": {
       "model_id": "3d406f7262314de7871089cd8692280a",
       "version_major": 2,
       "version_minor": 0
      },
      "text/plain": [
       "daily files to download:   0%|          | 0/3 [00:00<?, ?files/s]"
      ]
     },
     "metadata": {},
     "output_type": "display_data"
    },
    {
     "data": {
      "application/vnd.jupyter.widget-view+json": {
       "model_id": "eaa2d534f2304b01ab9b4860537d4524",
       "version_major": 2,
       "version_minor": 0
      },
      "text/plain": [
       "daily files to download:   0%|          | 0/3 [00:00<?, ?files/s]"
      ]
     },
     "metadata": {},
     "output_type": "display_data"
    },
    {
     "data": {
      "application/vnd.jupyter.widget-view+json": {
       "model_id": "68dc6d088ba141c68f06aa5a75fed9d3",
       "version_major": 2,
       "version_minor": 0
      },
      "text/plain": [
       "daily files to download:   0%|          | 0/3 [00:00<?, ?files/s]"
      ]
     },
     "metadata": {},
     "output_type": "display_data"
    },
    {
     "data": {
      "application/vnd.jupyter.widget-view+json": {
       "model_id": "a785c6c9993c4bab941722c78023f6ab",
       "version_major": 2,
       "version_minor": 0
      },
      "text/plain": [
       "daily files to download:   0%|          | 0/3 [00:00<?, ?files/s]"
      ]
     },
     "metadata": {},
     "output_type": "display_data"
    },
    {
     "data": {
      "application/vnd.jupyter.widget-view+json": {
       "model_id": "b8a76aeed6b34f5ba3689b2acd444326",
       "version_major": 2,
       "version_minor": 0
      },
      "text/plain": [
       "daily files to download:   0%|          | 0/3 [00:00<?, ?files/s]"
      ]
     },
     "metadata": {},
     "output_type": "display_data"
    },
    {
     "data": {
      "application/vnd.jupyter.widget-view+json": {
       "model_id": "43ebfe63572d4127ace3b65c8aea59ea",
       "version_major": 2,
       "version_minor": 0
      },
      "text/plain": [
       "daily files to download:   0%|          | 0/3 [00:00<?, ?files/s]"
      ]
     },
     "metadata": {},
     "output_type": "display_data"
    },
    {
     "data": {
      "application/vnd.jupyter.widget-view+json": {
       "model_id": "d761d82f293c46d08ee1962849605df4",
       "version_major": 2,
       "version_minor": 0
      },
      "text/plain": [
       "daily files to download:   0%|          | 0/3 [00:00<?, ?files/s]"
      ]
     },
     "metadata": {},
     "output_type": "display_data"
    },
    {
     "data": {
      "application/vnd.jupyter.widget-view+json": {
       "model_id": "918b5450b75b45419480accc859cdcf9",
       "version_major": 2,
       "version_minor": 0
      },
      "text/plain": [
       "daily files to download:   0%|          | 0/3 [00:00<?, ?files/s]"
      ]
     },
     "metadata": {},
     "output_type": "display_data"
    },
    {
     "data": {
      "application/vnd.jupyter.widget-view+json": {
       "model_id": "02eae5fc607e433aaf6bcc6690644bb1",
       "version_major": 2,
       "version_minor": 0
      },
      "text/plain": [
       "daily files to download:   0%|          | 0/3 [00:00<?, ?files/s]"
      ]
     },
     "metadata": {},
     "output_type": "display_data"
    },
    {
     "data": {
      "application/vnd.jupyter.widget-view+json": {
       "model_id": "9866ac2074004fdcba4145acb1d4eea7",
       "version_major": 2,
       "version_minor": 0
      },
      "text/plain": [
       "daily files to download:   0%|          | 0/3 [00:00<?, ?files/s]"
      ]
     },
     "metadata": {},
     "output_type": "display_data"
    },
    {
     "data": {
      "application/vnd.jupyter.widget-view+json": {
       "model_id": "72b6fbae58904780bc1fbfa96d682c93",
       "version_major": 2,
       "version_minor": 0
      },
      "text/plain": [
       "daily files to download:   0%|          | 0/3 [00:00<?, ?files/s]"
      ]
     },
     "metadata": {},
     "output_type": "display_data"
    },
    {
     "data": {
      "application/vnd.jupyter.widget-view+json": {
       "model_id": "b205dfa654f8429ca0eb7712abdbff01",
       "version_major": 2,
       "version_minor": 0
      },
      "text/plain": [
       "daily files to download:   0%|          | 0/3 [00:00<?, ?files/s]"
      ]
     },
     "metadata": {},
     "output_type": "display_data"
    },
    {
     "data": {
      "application/vnd.jupyter.widget-view+json": {
       "model_id": "128b18d2006f44eca3a91cb51a6a706a",
       "version_major": 2,
       "version_minor": 0
      },
      "text/plain": [
       "daily files to download:   0%|          | 0/3 [00:00<?, ?files/s]"
      ]
     },
     "metadata": {},
     "output_type": "display_data"
    },
    {
     "data": {
      "application/vnd.jupyter.widget-view+json": {
       "model_id": "a861b9fe69da46d0a7b03124321e43b8",
       "version_major": 2,
       "version_minor": 0
      },
      "text/plain": [
       "daily files to download:   0%|          | 0/3 [00:00<?, ?files/s]"
      ]
     },
     "metadata": {},
     "output_type": "display_data"
    },
    {
     "data": {
      "application/vnd.jupyter.widget-view+json": {
       "model_id": "f08dc61517fa4225a460cf17dcfe680b",
       "version_major": 2,
       "version_minor": 0
      },
      "text/plain": [
       "daily files to download:   0%|          | 0/3 [00:00<?, ?files/s]"
      ]
     },
     "metadata": {},
     "output_type": "display_data"
    },
    {
     "data": {
      "application/vnd.jupyter.widget-view+json": {
       "model_id": "57abae52bc34478db50c93874bdbff9d",
       "version_major": 2,
       "version_minor": 0
      },
      "text/plain": [
       "daily files to download:   0%|          | 0/3 [00:00<?, ?files/s]"
      ]
     },
     "metadata": {},
     "output_type": "display_data"
    },
    {
     "data": {
      "application/vnd.jupyter.widget-view+json": {
       "model_id": "74be9ec993a348d086db595be07fadbb",
       "version_major": 2,
       "version_minor": 0
      },
      "text/plain": [
       "daily files to download:   0%|          | 0/3 [00:00<?, ?files/s]"
      ]
     },
     "metadata": {},
     "output_type": "display_data"
    },
    {
     "data": {
      "application/vnd.jupyter.widget-view+json": {
       "model_id": "ac91b4cb5a994e21aafc06538778cd30",
       "version_major": 2,
       "version_minor": 0
      },
      "text/plain": [
       "daily files to download:   0%|          | 0/3 [00:00<?, ?files/s]"
      ]
     },
     "metadata": {},
     "output_type": "display_data"
    },
    {
     "data": {
      "application/vnd.jupyter.widget-view+json": {
       "model_id": "cd43a855cca14264bad5d8b972422861",
       "version_major": 2,
       "version_minor": 0
      },
      "text/plain": [
       "daily files to download:   0%|          | 0/3 [00:00<?, ?files/s]"
      ]
     },
     "metadata": {},
     "output_type": "display_data"
    },
    {
     "data": {
      "application/vnd.jupyter.widget-view+json": {
       "model_id": "6694e9df42ab48a4b734d0ad20b8f5d4",
       "version_major": 2,
       "version_minor": 0
      },
      "text/plain": [
       "daily files to download:   0%|          | 0/3 [00:00<?, ?files/s]"
      ]
     },
     "metadata": {},
     "output_type": "display_data"
    },
    {
     "data": {
      "application/vnd.jupyter.widget-view+json": {
       "model_id": "f1891d68c2e94176855adcbd60511c46",
       "version_major": 2,
       "version_minor": 0
      },
      "text/plain": [
       "daily files to download:   0%|          | 0/3 [00:00<?, ?files/s]"
      ]
     },
     "metadata": {},
     "output_type": "display_data"
    },
    {
     "data": {
      "application/vnd.jupyter.widget-view+json": {
       "model_id": "e22f7a6c1c3044c29e1088487d4422c5",
       "version_major": 2,
       "version_minor": 0
      },
      "text/plain": [
       "daily files to download:   0%|          | 0/3 [00:00<?, ?files/s]"
      ]
     },
     "metadata": {},
     "output_type": "display_data"
    },
    {
     "data": {
      "application/vnd.jupyter.widget-view+json": {
       "model_id": "74e90723f3ae48c4844893338b2784c2",
       "version_major": 2,
       "version_minor": 0
      },
      "text/plain": [
       "daily files to download:   0%|          | 0/3 [00:00<?, ?files/s]"
      ]
     },
     "metadata": {},
     "output_type": "display_data"
    },
    {
     "data": {
      "application/vnd.jupyter.widget-view+json": {
       "model_id": "55c6a9c451314dc9a4d8ffe7434c4fb1",
       "version_major": 2,
       "version_minor": 0
      },
      "text/plain": [
       "daily files to download:   0%|          | 0/3 [00:00<?, ?files/s]"
      ]
     },
     "metadata": {},
     "output_type": "display_data"
    },
    {
     "data": {
      "application/vnd.jupyter.widget-view+json": {
       "model_id": "235f9a5630644d39b3b36aef61f82306",
       "version_major": 2,
       "version_minor": 0
      },
      "text/plain": [
       "daily files to download:   0%|          | 0/3 [00:00<?, ?files/s]"
      ]
     },
     "metadata": {},
     "output_type": "display_data"
    },
    {
     "data": {
      "application/vnd.jupyter.widget-view+json": {
       "model_id": "a4ff6a9c10a94588a075930c07b762f8",
       "version_major": 2,
       "version_minor": 0
      },
      "text/plain": [
       "daily files to download:   0%|          | 0/3 [00:00<?, ?files/s]"
      ]
     },
     "metadata": {},
     "output_type": "display_data"
    },
    {
     "data": {
      "application/vnd.jupyter.widget-view+json": {
       "model_id": "05e79a04522a42cbbfa5f6a41ad0db55",
       "version_major": 2,
       "version_minor": 0
      },
      "text/plain": [
       "daily files to download:   0%|          | 0/3 [00:00<?, ?files/s]"
      ]
     },
     "metadata": {},
     "output_type": "display_data"
    },
    {
     "data": {
      "application/vnd.jupyter.widget-view+json": {
       "model_id": "262fdd64d1744a0fbb9adee582536fcb",
       "version_major": 2,
       "version_minor": 0
      },
      "text/plain": [
       "daily files to download:   0%|          | 0/3 [00:00<?, ?files/s]"
      ]
     },
     "metadata": {},
     "output_type": "display_data"
    },
    {
     "data": {
      "application/vnd.jupyter.widget-view+json": {
       "model_id": "fb7e8646e7ee4e3c8a7bd9cd07f5b8aa",
       "version_major": 2,
       "version_minor": 0
      },
      "text/plain": [
       "daily files to download:   0%|          | 0/3 [00:00<?, ?files/s]"
      ]
     },
     "metadata": {},
     "output_type": "display_data"
    },
    {
     "data": {
      "application/vnd.jupyter.widget-view+json": {
       "model_id": "4d8258c6cfb049e4a32af98dfcbfbbf3",
       "version_major": 2,
       "version_minor": 0
      },
      "text/plain": [
       "daily files to download:   0%|          | 0/3 [00:00<?, ?files/s]"
      ]
     },
     "metadata": {},
     "output_type": "display_data"
    },
    {
     "data": {
      "application/vnd.jupyter.widget-view+json": {
       "model_id": "4cd688ba76af45209f1f289e74c001ab",
       "version_major": 2,
       "version_minor": 0
      },
      "text/plain": [
       "daily files to download:   0%|          | 0/3 [00:00<?, ?files/s]"
      ]
     },
     "metadata": {},
     "output_type": "display_data"
    },
    {
     "data": {
      "application/vnd.jupyter.widget-view+json": {
       "model_id": "6a14b8c950de4062a748221c66bf449f",
       "version_major": 2,
       "version_minor": 0
      },
      "text/plain": [
       "daily files to download:   0%|          | 0/3 [00:00<?, ?files/s]"
      ]
     },
     "metadata": {},
     "output_type": "display_data"
    },
    {
     "data": {
      "application/vnd.jupyter.widget-view+json": {
       "model_id": "b094e35d68624b049d434398ed1dcc99",
       "version_major": 2,
       "version_minor": 0
      },
      "text/plain": [
       "daily files to download:   0%|          | 0/3 [00:00<?, ?files/s]"
      ]
     },
     "metadata": {},
     "output_type": "display_data"
    },
    {
     "data": {
      "application/vnd.jupyter.widget-view+json": {
       "model_id": "c5ae43c525ef4730941c991ccbe2f028",
       "version_major": 2,
       "version_minor": 0
      },
      "text/plain": [
       "daily files to download:   0%|          | 0/3 [00:00<?, ?files/s]"
      ]
     },
     "metadata": {},
     "output_type": "display_data"
    },
    {
     "data": {
      "application/vnd.jupyter.widget-view+json": {
       "model_id": "31b505d49757427187f10296f5b796d8",
       "version_major": 2,
       "version_minor": 0
      },
      "text/plain": [
       "daily files to download:   0%|          | 0/3 [00:00<?, ?files/s]"
      ]
     },
     "metadata": {},
     "output_type": "display_data"
    },
    {
     "data": {
      "application/vnd.jupyter.widget-view+json": {
       "model_id": "36740f146d824243890f0f76512ebf06",
       "version_major": 2,
       "version_minor": 0
      },
      "text/plain": [
       "daily files to download:   0%|          | 0/3 [00:00<?, ?files/s]"
      ]
     },
     "metadata": {},
     "output_type": "display_data"
    },
    {
     "data": {
      "application/vnd.jupyter.widget-view+json": {
       "model_id": "b6b11cd597674f80bbc368dddb6a7bd5",
       "version_major": 2,
       "version_minor": 0
      },
      "text/plain": [
       "daily files to download:   0%|          | 0/3 [00:00<?, ?files/s]"
      ]
     },
     "metadata": {},
     "output_type": "display_data"
    },
    {
     "data": {
      "application/vnd.jupyter.widget-view+json": {
       "model_id": "21098c7785934a5f87047df13f8efe81",
       "version_major": 2,
       "version_minor": 0
      },
      "text/plain": [
       "daily files to download:   0%|          | 0/3 [00:00<?, ?files/s]"
      ]
     },
     "metadata": {},
     "output_type": "display_data"
    },
    {
     "data": {
      "application/vnd.jupyter.widget-view+json": {
       "model_id": "96e756af277146e5b82c19fe46ba0ad1",
       "version_major": 2,
       "version_minor": 0
      },
      "text/plain": [
       "daily files to download:   0%|          | 0/3 [00:00<?, ?files/s]"
      ]
     },
     "metadata": {},
     "output_type": "display_data"
    },
    {
     "data": {
      "application/vnd.jupyter.widget-view+json": {
       "model_id": "608190b72e7940e2ba96bd6f2627d116",
       "version_major": 2,
       "version_minor": 0
      },
      "text/plain": [
       "daily files to download:   0%|          | 0/3 [00:00<?, ?files/s]"
      ]
     },
     "metadata": {},
     "output_type": "display_data"
    },
    {
     "data": {
      "application/vnd.jupyter.widget-view+json": {
       "model_id": "ef8dd4a3c9864a8d80fe69a07669f32b",
       "version_major": 2,
       "version_minor": 0
      },
      "text/plain": [
       "daily files to download:   0%|          | 0/3 [00:00<?, ?files/s]"
      ]
     },
     "metadata": {},
     "output_type": "display_data"
    },
    {
     "data": {
      "application/vnd.jupyter.widget-view+json": {
       "model_id": "f0fab07584644c0cbddd4dd402c8581e",
       "version_major": 2,
       "version_minor": 0
      },
      "text/plain": [
       "daily files to download:   0%|          | 0/3 [00:00<?, ?files/s]"
      ]
     },
     "metadata": {},
     "output_type": "display_data"
    },
    {
     "data": {
      "application/vnd.jupyter.widget-view+json": {
       "model_id": "326cf04991f941708913d209a9d8d131",
       "version_major": 2,
       "version_minor": 0
      },
      "text/plain": [
       "daily files to download:   0%|          | 0/3 [00:00<?, ?files/s]"
      ]
     },
     "metadata": {},
     "output_type": "display_data"
    },
    {
     "data": {
      "application/vnd.jupyter.widget-view+json": {
       "model_id": "14c5cd99aee24d1fbb40d13b8a7bd015",
       "version_major": 2,
       "version_minor": 0
      },
      "text/plain": [
       "daily files to download:   0%|          | 0/3 [00:00<?, ?files/s]"
      ]
     },
     "metadata": {},
     "output_type": "display_data"
    },
    {
     "data": {
      "application/vnd.jupyter.widget-view+json": {
       "model_id": "3f97a3e7ba6b4baaa16151c56e272b23",
       "version_major": 2,
       "version_minor": 0
      },
      "text/plain": [
       "daily files to download:   0%|          | 0/3 [00:00<?, ?files/s]"
      ]
     },
     "metadata": {},
     "output_type": "display_data"
    },
    {
     "data": {
      "application/vnd.jupyter.widget-view+json": {
       "model_id": "15287452808d46ceba51b7ef6b0b6503",
       "version_major": 2,
       "version_minor": 0
      },
      "text/plain": [
       "daily files to download:   0%|          | 0/3 [00:00<?, ?files/s]"
      ]
     },
     "metadata": {},
     "output_type": "display_data"
    },
    {
     "data": {
      "application/vnd.jupyter.widget-view+json": {
       "model_id": "51501e48686b4e77ac5d7f8feb60e9a7",
       "version_major": 2,
       "version_minor": 0
      },
      "text/plain": [
       "daily files to download:   0%|          | 0/3 [00:00<?, ?files/s]"
      ]
     },
     "metadata": {},
     "output_type": "display_data"
    },
    {
     "data": {
      "application/vnd.jupyter.widget-view+json": {
       "model_id": "15298368d21d444f99f61a31d465fd58",
       "version_major": 2,
       "version_minor": 0
      },
      "text/plain": [
       "daily files to download:   0%|          | 0/3 [00:00<?, ?files/s]"
      ]
     },
     "metadata": {},
     "output_type": "display_data"
    },
    {
     "data": {
      "application/vnd.jupyter.widget-view+json": {
       "model_id": "69caee26a5a04d1f826dd72778efb986",
       "version_major": 2,
       "version_minor": 0
      },
      "text/plain": [
       "daily files to download:   0%|          | 0/3 [00:00<?, ?files/s]"
      ]
     },
     "metadata": {},
     "output_type": "display_data"
    },
    {
     "data": {
      "application/vnd.jupyter.widget-view+json": {
       "model_id": "f6427ce84f464b269749174e0e752d88",
       "version_major": 2,
       "version_minor": 0
      },
      "text/plain": [
       "daily files to download:   0%|          | 0/3 [00:00<?, ?files/s]"
      ]
     },
     "metadata": {},
     "output_type": "display_data"
    },
    {
     "data": {
      "application/vnd.jupyter.widget-view+json": {
       "model_id": "f03a9f55be60484fa091ab3f761c84c8",
       "version_major": 2,
       "version_minor": 0
      },
      "text/plain": [
       "daily files to download:   0%|          | 0/3 [00:00<?, ?files/s]"
      ]
     },
     "metadata": {},
     "output_type": "display_data"
    },
    {
     "data": {
      "application/vnd.jupyter.widget-view+json": {
       "model_id": "317e485775c14654b698e32ce80e5aab",
       "version_major": 2,
       "version_minor": 0
      },
      "text/plain": [
       "daily files to download:   0%|          | 0/3 [00:00<?, ?files/s]"
      ]
     },
     "metadata": {},
     "output_type": "display_data"
    },
    {
     "data": {
      "application/vnd.jupyter.widget-view+json": {
       "model_id": "f77739ae467945a6ac105c2b23c785a4",
       "version_major": 2,
       "version_minor": 0
      },
      "text/plain": [
       "daily files to download:   0%|          | 0/3 [00:00<?, ?files/s]"
      ]
     },
     "metadata": {},
     "output_type": "display_data"
    },
    {
     "data": {
      "application/vnd.jupyter.widget-view+json": {
       "model_id": "a046f60845094614834c449bdaa0501e",
       "version_major": 2,
       "version_minor": 0
      },
      "text/plain": [
       "daily files to download:   0%|          | 0/3 [00:00<?, ?files/s]"
      ]
     },
     "metadata": {},
     "output_type": "display_data"
    },
    {
     "data": {
      "application/vnd.jupyter.widget-view+json": {
       "model_id": "a88743ef39794ca4af257ff328703ffe",
       "version_major": 2,
       "version_minor": 0
      },
      "text/plain": [
       "daily files to download:   0%|          | 0/3 [00:00<?, ?files/s]"
      ]
     },
     "metadata": {},
     "output_type": "display_data"
    },
    {
     "data": {
      "application/vnd.jupyter.widget-view+json": {
       "model_id": "268b5250f84f44b3a6ffad93d59cf12a",
       "version_major": 2,
       "version_minor": 0
      },
      "text/plain": [
       "daily files to download:   0%|          | 0/3 [00:00<?, ?files/s]"
      ]
     },
     "metadata": {},
     "output_type": "display_data"
    },
    {
     "data": {
      "application/vnd.jupyter.widget-view+json": {
       "model_id": "985b18388f7d499a88af9a98e14e980a",
       "version_major": 2,
       "version_minor": 0
      },
      "text/plain": [
       "daily files to download:   0%|          | 0/3 [00:00<?, ?files/s]"
      ]
     },
     "metadata": {},
     "output_type": "display_data"
    },
    {
     "data": {
      "application/vnd.jupyter.widget-view+json": {
       "model_id": "43ba9b53b4c84a67a1988bc4a15f3315",
       "version_major": 2,
       "version_minor": 0
      },
      "text/plain": [
       "daily files to download:   0%|          | 0/3 [00:00<?, ?files/s]"
      ]
     },
     "metadata": {},
     "output_type": "display_data"
    },
    {
     "data": {
      "application/vnd.jupyter.widget-view+json": {
       "model_id": "1d483abdebe442728e79b9ea6039ad0f",
       "version_major": 2,
       "version_minor": 0
      },
      "text/plain": [
       "daily files to download:   0%|          | 0/3 [00:00<?, ?files/s]"
      ]
     },
     "metadata": {},
     "output_type": "display_data"
    },
    {
     "data": {
      "application/vnd.jupyter.widget-view+json": {
       "model_id": "322e361f78bc415b848aa8964b980d37",
       "version_major": 2,
       "version_minor": 0
      },
      "text/plain": [
       "daily files to download:   0%|          | 0/3 [00:00<?, ?files/s]"
      ]
     },
     "metadata": {},
     "output_type": "display_data"
    },
    {
     "data": {
      "application/vnd.jupyter.widget-view+json": {
       "model_id": "a294c2c29be44f4fa4326959af646ba7",
       "version_major": 2,
       "version_minor": 0
      },
      "text/plain": [
       "daily files to download:   0%|          | 0/3 [00:00<?, ?files/s]"
      ]
     },
     "metadata": {},
     "output_type": "display_data"
    },
    {
     "data": {
      "application/vnd.jupyter.widget-view+json": {
       "model_id": "43b06050e7774f88982b96b31f1864f9",
       "version_major": 2,
       "version_minor": 0
      },
      "text/plain": [
       "daily files to download:   0%|          | 0/3 [00:00<?, ?files/s]"
      ]
     },
     "metadata": {},
     "output_type": "display_data"
    },
    {
     "data": {
      "application/vnd.jupyter.widget-view+json": {
       "model_id": "9704d0893be84ce786e938e312c26b14",
       "version_major": 2,
       "version_minor": 0
      },
      "text/plain": [
       "daily files to download:   0%|          | 0/3 [00:00<?, ?files/s]"
      ]
     },
     "metadata": {},
     "output_type": "display_data"
    },
    {
     "data": {
      "application/vnd.jupyter.widget-view+json": {
       "model_id": "bd12e94ee3b64aa1a7cd7323815be6cb",
       "version_major": 2,
       "version_minor": 0
      },
      "text/plain": [
       "daily files to download:   0%|          | 0/3 [00:00<?, ?files/s]"
      ]
     },
     "metadata": {},
     "output_type": "display_data"
    },
    {
     "data": {
      "application/vnd.jupyter.widget-view+json": {
       "model_id": "954cc46c271742b68d035f43402fc93c",
       "version_major": 2,
       "version_minor": 0
      },
      "text/plain": [
       "daily files to download:   0%|          | 0/3 [00:00<?, ?files/s]"
      ]
     },
     "metadata": {},
     "output_type": "display_data"
    },
    {
     "data": {
      "application/vnd.jupyter.widget-view+json": {
       "model_id": "37d59c59e53c4d708a156b360e7178ce",
       "version_major": 2,
       "version_minor": 0
      },
      "text/plain": [
       "daily files to download:   0%|          | 0/3 [00:00<?, ?files/s]"
      ]
     },
     "metadata": {},
     "output_type": "display_data"
    },
    {
     "data": {
      "application/vnd.jupyter.widget-view+json": {
       "model_id": "9e83527429e74b608bd0cddcc7921721",
       "version_major": 2,
       "version_minor": 0
      },
      "text/plain": [
       "daily files to download:   0%|          | 0/3 [00:00<?, ?files/s]"
      ]
     },
     "metadata": {},
     "output_type": "display_data"
    },
    {
     "data": {
      "application/vnd.jupyter.widget-view+json": {
       "model_id": "e5658860147548c6b2bbd79ffafcafdd",
       "version_major": 2,
       "version_minor": 0
      },
      "text/plain": [
       "daily files to download:   0%|          | 0/3 [00:00<?, ?files/s]"
      ]
     },
     "metadata": {},
     "output_type": "display_data"
    },
    {
     "data": {
      "application/vnd.jupyter.widget-view+json": {
       "model_id": "879a53d0e3f64e36a164b50f4710e1ba",
       "version_major": 2,
       "version_minor": 0
      },
      "text/plain": [
       "daily files to download:   0%|          | 0/3 [00:00<?, ?files/s]"
      ]
     },
     "metadata": {},
     "output_type": "display_data"
    },
    {
     "data": {
      "application/vnd.jupyter.widget-view+json": {
       "model_id": "3ecb48401e2a4a4eb11d6732dc4e4ff3",
       "version_major": 2,
       "version_minor": 0
      },
      "text/plain": [
       "daily files to download:   0%|          | 0/3 [00:00<?, ?files/s]"
      ]
     },
     "metadata": {},
     "output_type": "display_data"
    },
    {
     "data": {
      "application/vnd.jupyter.widget-view+json": {
       "model_id": "e886e14630cb42e0acfcf4a1ce7514bc",
       "version_major": 2,
       "version_minor": 0
      },
      "text/plain": [
       "daily files to download:   0%|          | 0/3 [00:00<?, ?files/s]"
      ]
     },
     "metadata": {},
     "output_type": "display_data"
    },
    {
     "data": {
      "application/vnd.jupyter.widget-view+json": {
       "model_id": "1fe3b6af2a8742b19393e19e51414e8f",
       "version_major": 2,
       "version_minor": 0
      },
      "text/plain": [
       "daily files to download:   0%|          | 0/3 [00:00<?, ?files/s]"
      ]
     },
     "metadata": {},
     "output_type": "display_data"
    },
    {
     "data": {
      "application/vnd.jupyter.widget-view+json": {
       "model_id": "8c3ec8c612c9459788236a04538380c1",
       "version_major": 2,
       "version_minor": 0
      },
      "text/plain": [
       "daily files to download:   0%|          | 0/3 [00:00<?, ?files/s]"
      ]
     },
     "metadata": {},
     "output_type": "display_data"
    },
    {
     "data": {
      "application/vnd.jupyter.widget-view+json": {
       "model_id": "a59fa091cd8b4ff0b63f40044416cafc",
       "version_major": 2,
       "version_minor": 0
      },
      "text/plain": [
       "daily files to download:   0%|          | 0/3 [00:00<?, ?files/s]"
      ]
     },
     "metadata": {},
     "output_type": "display_data"
    },
    {
     "data": {
      "application/vnd.jupyter.widget-view+json": {
       "model_id": "614e7664b5d5410b8022829324218d3c",
       "version_major": 2,
       "version_minor": 0
      },
      "text/plain": [
       "daily files to download:   0%|          | 0/3 [00:00<?, ?files/s]"
      ]
     },
     "metadata": {},
     "output_type": "display_data"
    },
    {
     "data": {
      "application/vnd.jupyter.widget-view+json": {
       "model_id": "2c966dab853e43f2a085e3cca97a2f70",
       "version_major": 2,
       "version_minor": 0
      },
      "text/plain": [
       "daily files to download:   0%|          | 0/3 [00:00<?, ?files/s]"
      ]
     },
     "metadata": {},
     "output_type": "display_data"
    },
    {
     "data": {
      "application/vnd.jupyter.widget-view+json": {
       "model_id": "4fd668612ea2406ba5bf931ff5c2fe43",
       "version_major": 2,
       "version_minor": 0
      },
      "text/plain": [
       "daily files to download:   0%|          | 0/3 [00:00<?, ?files/s]"
      ]
     },
     "metadata": {},
     "output_type": "display_data"
    },
    {
     "data": {
      "application/vnd.jupyter.widget-view+json": {
       "model_id": "67585d3532f546f0bd2d471c8f08007f",
       "version_major": 2,
       "version_minor": 0
      },
      "text/plain": [
       "daily files to download:   0%|          | 0/3 [00:00<?, ?files/s]"
      ]
     },
     "metadata": {},
     "output_type": "display_data"
    },
    {
     "data": {
      "application/vnd.jupyter.widget-view+json": {
       "model_id": "815d2d54de2a41649eb197ee0f5bcaf8",
       "version_major": 2,
       "version_minor": 0
      },
      "text/plain": [
       "daily files to download:   0%|          | 0/3 [00:00<?, ?files/s]"
      ]
     },
     "metadata": {},
     "output_type": "display_data"
    },
    {
     "data": {
      "application/vnd.jupyter.widget-view+json": {
       "model_id": "330161e462e34ca2bb68853d365cd83b",
       "version_major": 2,
       "version_minor": 0
      },
      "text/plain": [
       "daily files to download:   0%|          | 0/3 [00:00<?, ?files/s]"
      ]
     },
     "metadata": {},
     "output_type": "display_data"
    },
    {
     "data": {
      "application/vnd.jupyter.widget-view+json": {
       "model_id": "ee3f42de3b7f43aa86efcfc64c1cebfc",
       "version_major": 2,
       "version_minor": 0
      },
      "text/plain": [
       "daily files to download:   0%|          | 0/3 [00:00<?, ?files/s]"
      ]
     },
     "metadata": {},
     "output_type": "display_data"
    },
    {
     "data": {
      "application/vnd.jupyter.widget-view+json": {
       "model_id": "963242321779432f8211473bae973255",
       "version_major": 2,
       "version_minor": 0
      },
      "text/plain": [
       "daily files to download:   0%|          | 0/3 [00:00<?, ?files/s]"
      ]
     },
     "metadata": {},
     "output_type": "display_data"
    },
    {
     "data": {
      "application/vnd.jupyter.widget-view+json": {
       "model_id": "c69bc15dbbbd43498e60b8701846734c",
       "version_major": 2,
       "version_minor": 0
      },
      "text/plain": [
       "daily files to download:   0%|          | 0/3 [00:00<?, ?files/s]"
      ]
     },
     "metadata": {},
     "output_type": "display_data"
    },
    {
     "data": {
      "application/vnd.jupyter.widget-view+json": {
       "model_id": "d862cf693afd4d4a814bd995d3d73131",
       "version_major": 2,
       "version_minor": 0
      },
      "text/plain": [
       "daily files to download:   0%|          | 0/3 [00:00<?, ?files/s]"
      ]
     },
     "metadata": {},
     "output_type": "display_data"
    },
    {
     "data": {
      "application/vnd.jupyter.widget-view+json": {
       "model_id": "fb8b9bf4b18b4b33862975c774488f0f",
       "version_major": 2,
       "version_minor": 0
      },
      "text/plain": [
       "daily files to download:   0%|          | 0/3 [00:00<?, ?files/s]"
      ]
     },
     "metadata": {},
     "output_type": "display_data"
    },
    {
     "data": {
      "application/vnd.jupyter.widget-view+json": {
       "model_id": "372a918bb96c4d6da94dbb7bd6f37042",
       "version_major": 2,
       "version_minor": 0
      },
      "text/plain": [
       "daily files to download:   0%|          | 0/3 [00:00<?, ?files/s]"
      ]
     },
     "metadata": {},
     "output_type": "display_data"
    },
    {
     "data": {
      "application/vnd.jupyter.widget-view+json": {
       "model_id": "f700d9f4218e4eb4b486d468ad633366",
       "version_major": 2,
       "version_minor": 0
      },
      "text/plain": [
       "daily files to download:   0%|          | 0/3 [00:00<?, ?files/s]"
      ]
     },
     "metadata": {},
     "output_type": "display_data"
    },
    {
     "data": {
      "application/vnd.jupyter.widget-view+json": {
       "model_id": "dbd05a7f3c2445159b3dd80944c9d155",
       "version_major": 2,
       "version_minor": 0
      },
      "text/plain": [
       "daily files to download:   0%|          | 0/3 [00:00<?, ?files/s]"
      ]
     },
     "metadata": {},
     "output_type": "display_data"
    },
    {
     "data": {
      "application/vnd.jupyter.widget-view+json": {
       "model_id": "b26b6c17631b4d539e37688f4eee64a6",
       "version_major": 2,
       "version_minor": 0
      },
      "text/plain": [
       "daily files to download:   0%|          | 0/3 [00:00<?, ?files/s]"
      ]
     },
     "metadata": {},
     "output_type": "display_data"
    },
    {
     "data": {
      "application/vnd.jupyter.widget-view+json": {
       "model_id": "e66dbb1ac30242bfb4469634fba38d2b",
       "version_major": 2,
       "version_minor": 0
      },
      "text/plain": [
       "daily files to download:   0%|          | 0/3 [00:00<?, ?files/s]"
      ]
     },
     "metadata": {},
     "output_type": "display_data"
    },
    {
     "data": {
      "application/vnd.jupyter.widget-view+json": {
       "model_id": "9b36f60a8fa447368ec98e8804f20695",
       "version_major": 2,
       "version_minor": 0
      },
      "text/plain": [
       "daily files to download:   0%|          | 0/3 [00:00<?, ?files/s]"
      ]
     },
     "metadata": {},
     "output_type": "display_data"
    },
    {
     "data": {
      "application/vnd.jupyter.widget-view+json": {
       "model_id": "e3361f4324bb42b19ede7bfcf36ea7bb",
       "version_major": 2,
       "version_minor": 0
      },
      "text/plain": [
       "daily files to download:   0%|          | 0/3 [00:00<?, ?files/s]"
      ]
     },
     "metadata": {},
     "output_type": "display_data"
    },
    {
     "data": {
      "application/vnd.jupyter.widget-view+json": {
       "model_id": "8ab32a47738842edb296dc00a8eb2b04",
       "version_major": 2,
       "version_minor": 0
      },
      "text/plain": [
       "daily files to download:   0%|          | 0/3 [00:00<?, ?files/s]"
      ]
     },
     "metadata": {},
     "output_type": "display_data"
    },
    {
     "data": {
      "application/vnd.jupyter.widget-view+json": {
       "model_id": "32efae7f243549c290b13a4523b66d3f",
       "version_major": 2,
       "version_minor": 0
      },
      "text/plain": [
       "daily files to download:   0%|          | 0/3 [00:00<?, ?files/s]"
      ]
     },
     "metadata": {},
     "output_type": "display_data"
    },
    {
     "data": {
      "application/vnd.jupyter.widget-view+json": {
       "model_id": "a681ec0fe30e4c6aade8ed57e25a8f2e",
       "version_major": 2,
       "version_minor": 0
      },
      "text/plain": [
       "daily files to download:   0%|          | 0/3 [00:00<?, ?files/s]"
      ]
     },
     "metadata": {},
     "output_type": "display_data"
    },
    {
     "data": {
      "application/vnd.jupyter.widget-view+json": {
       "model_id": "dcd21d0f798341d1986b2a91a163ab64",
       "version_major": 2,
       "version_minor": 0
      },
      "text/plain": [
       "daily files to download:   0%|          | 0/3 [00:00<?, ?files/s]"
      ]
     },
     "metadata": {},
     "output_type": "display_data"
    },
    {
     "data": {
      "application/vnd.jupyter.widget-view+json": {
       "model_id": "f84b089a57f54201ba9f057a0abcdcc5",
       "version_major": 2,
       "version_minor": 0
      },
      "text/plain": [
       "daily files to download:   0%|          | 0/3 [00:00<?, ?files/s]"
      ]
     },
     "metadata": {},
     "output_type": "display_data"
    },
    {
     "data": {
      "application/vnd.jupyter.widget-view+json": {
       "model_id": "e61c00a77fa44869b62e4f8bc2be077e",
       "version_major": 2,
       "version_minor": 0
      },
      "text/plain": [
       "daily files to download:   0%|          | 0/3 [00:00<?, ?files/s]"
      ]
     },
     "metadata": {},
     "output_type": "display_data"
    },
    {
     "data": {
      "application/vnd.jupyter.widget-view+json": {
       "model_id": "56a03d658551498e81ce41ee84c0c7e0",
       "version_major": 2,
       "version_minor": 0
      },
      "text/plain": [
       "daily files to download:   0%|          | 0/3 [00:00<?, ?files/s]"
      ]
     },
     "metadata": {},
     "output_type": "display_data"
    },
    {
     "data": {
      "application/vnd.jupyter.widget-view+json": {
       "model_id": "486ee80613924cf983c68dffc17f08bc",
       "version_major": 2,
       "version_minor": 0
      },
      "text/plain": [
       "daily files to download:   0%|          | 0/3 [00:00<?, ?files/s]"
      ]
     },
     "metadata": {},
     "output_type": "display_data"
    },
    {
     "data": {
      "application/vnd.jupyter.widget-view+json": {
       "model_id": "87ad92340b9241159017d53978e9faa3",
       "version_major": 2,
       "version_minor": 0
      },
      "text/plain": [
       "daily files to download:   0%|          | 0/3 [00:00<?, ?files/s]"
      ]
     },
     "metadata": {},
     "output_type": "display_data"
    },
    {
     "data": {
      "application/vnd.jupyter.widget-view+json": {
       "model_id": "0e6c706fbcc749e2a6d07f0885b6be9f",
       "version_major": 2,
       "version_minor": 0
      },
      "text/plain": [
       "daily files to download:   0%|          | 0/3 [00:00<?, ?files/s]"
      ]
     },
     "metadata": {},
     "output_type": "display_data"
    },
    {
     "data": {
      "application/vnd.jupyter.widget-view+json": {
       "model_id": "447980f624284ba4a8602923e4583102",
       "version_major": 2,
       "version_minor": 0
      },
      "text/plain": [
       "daily files to download:   0%|          | 0/3 [00:00<?, ?files/s]"
      ]
     },
     "metadata": {},
     "output_type": "display_data"
    },
    {
     "data": {
      "application/vnd.jupyter.widget-view+json": {
       "model_id": "72b14c47ab7c49fbaf22665f7dadaa85",
       "version_major": 2,
       "version_minor": 0
      },
      "text/plain": [
       "daily files to download:   0%|          | 0/3 [00:00<?, ?files/s]"
      ]
     },
     "metadata": {},
     "output_type": "display_data"
    },
    {
     "data": {
      "application/vnd.jupyter.widget-view+json": {
       "model_id": "0e532b26855945c9803d905cbdc7a09d",
       "version_major": 2,
       "version_minor": 0
      },
      "text/plain": [
       "daily files to download:   0%|          | 0/3 [00:00<?, ?files/s]"
      ]
     },
     "metadata": {},
     "output_type": "display_data"
    },
    {
     "data": {
      "application/vnd.jupyter.widget-view+json": {
       "model_id": "39ec66547074459b9c26c638c2cc7425",
       "version_major": 2,
       "version_minor": 0
      },
      "text/plain": [
       "daily files to download:   0%|          | 0/3 [00:00<?, ?files/s]"
      ]
     },
     "metadata": {},
     "output_type": "display_data"
    },
    {
     "data": {
      "application/vnd.jupyter.widget-view+json": {
       "model_id": "12cd6d362ade4458888e34c2aaa3df2c",
       "version_major": 2,
       "version_minor": 0
      },
      "text/plain": [
       "daily files to download:   0%|          | 0/3 [00:00<?, ?files/s]"
      ]
     },
     "metadata": {},
     "output_type": "display_data"
    },
    {
     "data": {
      "application/vnd.jupyter.widget-view+json": {
       "model_id": "3fa23d0fa63349269e5a2da336b542aa",
       "version_major": 2,
       "version_minor": 0
      },
      "text/plain": [
       "daily files to download:   0%|          | 0/3 [00:00<?, ?files/s]"
      ]
     },
     "metadata": {},
     "output_type": "display_data"
    },
    {
     "data": {
      "application/vnd.jupyter.widget-view+json": {
       "model_id": "93a8dd03b6ff4547a102a6779caba9cf",
       "version_major": 2,
       "version_minor": 0
      },
      "text/plain": [
       "daily files to download:   0%|          | 0/3 [00:00<?, ?files/s]"
      ]
     },
     "metadata": {},
     "output_type": "display_data"
    },
    {
     "data": {
      "application/vnd.jupyter.widget-view+json": {
       "model_id": "8d62031df9af43189bf4a23cefa487ba",
       "version_major": 2,
       "version_minor": 0
      },
      "text/plain": [
       "daily files to download:   0%|          | 0/3 [00:00<?, ?files/s]"
      ]
     },
     "metadata": {},
     "output_type": "display_data"
    },
    {
     "data": {
      "application/vnd.jupyter.widget-view+json": {
       "model_id": "c97a8f24d9f24918afcefe099e290a99",
       "version_major": 2,
       "version_minor": 0
      },
      "text/plain": [
       "daily files to download:   0%|          | 0/3 [00:00<?, ?files/s]"
      ]
     },
     "metadata": {},
     "output_type": "display_data"
    },
    {
     "data": {
      "application/vnd.jupyter.widget-view+json": {
       "model_id": "8efd40af0d9648e8b3490f4247464e6f",
       "version_major": 2,
       "version_minor": 0
      },
      "text/plain": [
       "daily files to download:   0%|          | 0/3 [00:00<?, ?files/s]"
      ]
     },
     "metadata": {},
     "output_type": "display_data"
    },
    {
     "data": {
      "application/vnd.jupyter.widget-view+json": {
       "model_id": "e69ba0e0ab8f40e195518be08ea8f53b",
       "version_major": 2,
       "version_minor": 0
      },
      "text/plain": [
       "daily files to download:   0%|          | 0/3 [00:00<?, ?files/s]"
      ]
     },
     "metadata": {},
     "output_type": "display_data"
    },
    {
     "data": {
      "application/vnd.jupyter.widget-view+json": {
       "model_id": "696260a70e2c4ca9829ce2d8cc927703",
       "version_major": 2,
       "version_minor": 0
      },
      "text/plain": [
       "daily files to download:   0%|          | 0/3 [00:00<?, ?files/s]"
      ]
     },
     "metadata": {},
     "output_type": "display_data"
    },
    {
     "data": {
      "application/vnd.jupyter.widget-view+json": {
       "model_id": "6fabbd09002a432a9e3251bc9a147f95",
       "version_major": 2,
       "version_minor": 0
      },
      "text/plain": [
       "daily files to download:   0%|          | 0/3 [00:00<?, ?files/s]"
      ]
     },
     "metadata": {},
     "output_type": "display_data"
    },
    {
     "data": {
      "application/vnd.jupyter.widget-view+json": {
       "model_id": "7c718f1b94114b30819996307e3cb165",
       "version_major": 2,
       "version_minor": 0
      },
      "text/plain": [
       "daily files to download:   0%|          | 0/3 [00:00<?, ?files/s]"
      ]
     },
     "metadata": {},
     "output_type": "display_data"
    },
    {
     "data": {
      "application/vnd.jupyter.widget-view+json": {
       "model_id": "0d91e45ed3654b7289c2c8a28adc2239",
       "version_major": 2,
       "version_minor": 0
      },
      "text/plain": [
       "daily files to download:   0%|          | 0/3 [00:00<?, ?files/s]"
      ]
     },
     "metadata": {},
     "output_type": "display_data"
    },
    {
     "data": {
      "application/vnd.jupyter.widget-view+json": {
       "model_id": "9a06cdec42e94ec6b3588749e2f4be3b",
       "version_major": 2,
       "version_minor": 0
      },
      "text/plain": [
       "daily files to download:   0%|          | 0/3 [00:00<?, ?files/s]"
      ]
     },
     "metadata": {},
     "output_type": "display_data"
    },
    {
     "data": {
      "application/vnd.jupyter.widget-view+json": {
       "model_id": "4c20dd42115a4caabb39d47873681dd8",
       "version_major": 2,
       "version_minor": 0
      },
      "text/plain": [
       "daily files to download:   0%|          | 0/3 [00:00<?, ?files/s]"
      ]
     },
     "metadata": {},
     "output_type": "display_data"
    },
    {
     "data": {
      "application/vnd.jupyter.widget-view+json": {
       "model_id": "690ac20f233648249d1d435eb7b00dad",
       "version_major": 2,
       "version_minor": 0
      },
      "text/plain": [
       "daily files to download:   0%|          | 0/3 [00:00<?, ?files/s]"
      ]
     },
     "metadata": {},
     "output_type": "display_data"
    },
    {
     "data": {
      "application/vnd.jupyter.widget-view+json": {
       "model_id": "2a6092b076444d34af88741d2c475feb",
       "version_major": 2,
       "version_minor": 0
      },
      "text/plain": [
       "daily files to download:   0%|          | 0/3 [00:00<?, ?files/s]"
      ]
     },
     "metadata": {},
     "output_type": "display_data"
    },
    {
     "data": {
      "application/vnd.jupyter.widget-view+json": {
       "model_id": "791f3497b6484b63aebf34b20eb6d7f5",
       "version_major": 2,
       "version_minor": 0
      },
      "text/plain": [
       "daily files to download:   0%|          | 0/3 [00:00<?, ?files/s]"
      ]
     },
     "metadata": {},
     "output_type": "display_data"
    },
    {
     "data": {
      "application/vnd.jupyter.widget-view+json": {
       "model_id": "0b4e1438e3184930af964387bc10b1a4",
       "version_major": 2,
       "version_minor": 0
      },
      "text/plain": [
       "daily files to download:   0%|          | 0/3 [00:00<?, ?files/s]"
      ]
     },
     "metadata": {},
     "output_type": "display_data"
    },
    {
     "data": {
      "application/vnd.jupyter.widget-view+json": {
       "model_id": "c7cec4097b3f458bbef4bf1890ea0137",
       "version_major": 2,
       "version_minor": 0
      },
      "text/plain": [
       "daily files to download:   0%|          | 0/3 [00:00<?, ?files/s]"
      ]
     },
     "metadata": {},
     "output_type": "display_data"
    },
    {
     "data": {
      "application/vnd.jupyter.widget-view+json": {
       "model_id": "0428cc5524c44e3a971a5ac07dc0629d",
       "version_major": 2,
       "version_minor": 0
      },
      "text/plain": [
       "daily files to download:   0%|          | 0/3 [00:00<?, ?files/s]"
      ]
     },
     "metadata": {},
     "output_type": "display_data"
    },
    {
     "data": {
      "application/vnd.jupyter.widget-view+json": {
       "model_id": "1258621646c642a2be6b238747d2327f",
       "version_major": 2,
       "version_minor": 0
      },
      "text/plain": [
       "daily files to download:   0%|          | 0/3 [00:00<?, ?files/s]"
      ]
     },
     "metadata": {},
     "output_type": "display_data"
    },
    {
     "data": {
      "application/vnd.jupyter.widget-view+json": {
       "model_id": "8e04d6d5df3c40ac904d84f32365c38f",
       "version_major": 2,
       "version_minor": 0
      },
      "text/plain": [
       "daily files to download:   0%|          | 0/3 [00:00<?, ?files/s]"
      ]
     },
     "metadata": {},
     "output_type": "display_data"
    },
    {
     "data": {
      "application/vnd.jupyter.widget-view+json": {
       "model_id": "b0afcbd15db149059541406b53c3e17d",
       "version_major": 2,
       "version_minor": 0
      },
      "text/plain": [
       "daily files to download:   0%|          | 0/3 [00:00<?, ?files/s]"
      ]
     },
     "metadata": {},
     "output_type": "display_data"
    },
    {
     "data": {
      "application/vnd.jupyter.widget-view+json": {
       "model_id": "2d61673cd7b54b6ab532435a61f9dc1c",
       "version_major": 2,
       "version_minor": 0
      },
      "text/plain": [
       "daily files to download:   0%|          | 0/3 [00:00<?, ?files/s]"
      ]
     },
     "metadata": {},
     "output_type": "display_data"
    },
    {
     "data": {
      "application/vnd.jupyter.widget-view+json": {
       "model_id": "a3f6f9bdf10f4023a3901665f6d229c9",
       "version_major": 2,
       "version_minor": 0
      },
      "text/plain": [
       "daily files to download:   0%|          | 0/3 [00:00<?, ?files/s]"
      ]
     },
     "metadata": {},
     "output_type": "display_data"
    },
    {
     "data": {
      "application/vnd.jupyter.widget-view+json": {
       "model_id": "45b107350dc746bd8c80eeba3a51079a",
       "version_major": 2,
       "version_minor": 0
      },
      "text/plain": [
       "daily files to download:   0%|          | 0/3 [00:00<?, ?files/s]"
      ]
     },
     "metadata": {},
     "output_type": "display_data"
    },
    {
     "data": {
      "application/vnd.jupyter.widget-view+json": {
       "model_id": "808db79b9b594bd08725f7668d79c221",
       "version_major": 2,
       "version_minor": 0
      },
      "text/plain": [
       "daily files to download:   0%|          | 0/3 [00:00<?, ?files/s]"
      ]
     },
     "metadata": {},
     "output_type": "display_data"
    },
    {
     "data": {
      "application/vnd.jupyter.widget-view+json": {
       "model_id": "b87b53a7741c4592a4aef653541e8e0c",
       "version_major": 2,
       "version_minor": 0
      },
      "text/plain": [
       "daily files to download:   0%|          | 0/3 [00:00<?, ?files/s]"
      ]
     },
     "metadata": {},
     "output_type": "display_data"
    },
    {
     "data": {
      "application/vnd.jupyter.widget-view+json": {
       "model_id": "4239381431bb4fefb73ab19a4dd03260",
       "version_major": 2,
       "version_minor": 0
      },
      "text/plain": [
       "daily files to download:   0%|          | 0/3 [00:00<?, ?files/s]"
      ]
     },
     "metadata": {},
     "output_type": "display_data"
    },
    {
     "data": {
      "application/vnd.jupyter.widget-view+json": {
       "model_id": "bdf38e3651994a5bab041a5f54d7a7c9",
       "version_major": 2,
       "version_minor": 0
      },
      "text/plain": [
       "daily files to download:   0%|          | 0/3 [00:00<?, ?files/s]"
      ]
     },
     "metadata": {},
     "output_type": "display_data"
    },
    {
     "data": {
      "application/vnd.jupyter.widget-view+json": {
       "model_id": "9b5d935ada104735b3d747c3ea22e716",
       "version_major": 2,
       "version_minor": 0
      },
      "text/plain": [
       "daily files to download:   0%|          | 0/3 [00:00<?, ?files/s]"
      ]
     },
     "metadata": {},
     "output_type": "display_data"
    },
    {
     "data": {
      "application/vnd.jupyter.widget-view+json": {
       "model_id": "e3cd4aea70f5483fb007244f8a89b226",
       "version_major": 2,
       "version_minor": 0
      },
      "text/plain": [
       "daily files to download:   0%|          | 0/3 [00:00<?, ?files/s]"
      ]
     },
     "metadata": {},
     "output_type": "display_data"
    },
    {
     "data": {
      "application/vnd.jupyter.widget-view+json": {
       "model_id": "075a27b9ad2a402f88a9f0f3bd121724",
       "version_major": 2,
       "version_minor": 0
      },
      "text/plain": [
       "daily files to download:   0%|          | 0/3 [00:00<?, ?files/s]"
      ]
     },
     "metadata": {},
     "output_type": "display_data"
    },
    {
     "data": {
      "application/vnd.jupyter.widget-view+json": {
       "model_id": "6a239c7f51c94ad599c7d976cc39f807",
       "version_major": 2,
       "version_minor": 0
      },
      "text/plain": [
       "daily files to download:   0%|          | 0/3 [00:00<?, ?files/s]"
      ]
     },
     "metadata": {},
     "output_type": "display_data"
    },
    {
     "data": {
      "application/vnd.jupyter.widget-view+json": {
       "model_id": "46aa0d53cdaa410bab46156068f90ba2",
       "version_major": 2,
       "version_minor": 0
      },
      "text/plain": [
       "daily files to download:   0%|          | 0/3 [00:00<?, ?files/s]"
      ]
     },
     "metadata": {},
     "output_type": "display_data"
    },
    {
     "data": {
      "application/vnd.jupyter.widget-view+json": {
       "model_id": "2580521b80744b80b73c6b76b0543243",
       "version_major": 2,
       "version_minor": 0
      },
      "text/plain": [
       "daily files to download:   0%|          | 0/3 [00:00<?, ?files/s]"
      ]
     },
     "metadata": {},
     "output_type": "display_data"
    },
    {
     "data": {
      "application/vnd.jupyter.widget-view+json": {
       "model_id": "d3e4f0f4ed6d42b49068b45e4ce4e944",
       "version_major": 2,
       "version_minor": 0
      },
      "text/plain": [
       "daily files to download:   0%|          | 0/3 [00:00<?, ?files/s]"
      ]
     },
     "metadata": {},
     "output_type": "display_data"
    },
    {
     "data": {
      "application/vnd.jupyter.widget-view+json": {
       "model_id": "f3d7536092114d3080dcc3ce9daa8dce",
       "version_major": 2,
       "version_minor": 0
      },
      "text/plain": [
       "daily files to download:   0%|          | 0/3 [00:00<?, ?files/s]"
      ]
     },
     "metadata": {},
     "output_type": "display_data"
    },
    {
     "data": {
      "application/vnd.jupyter.widget-view+json": {
       "model_id": "810c1654cb194403ba824d818f56bd88",
       "version_major": 2,
       "version_minor": 0
      },
      "text/plain": [
       "daily files to download:   0%|          | 0/3 [00:00<?, ?files/s]"
      ]
     },
     "metadata": {},
     "output_type": "display_data"
    },
    {
     "data": {
      "application/vnd.jupyter.widget-view+json": {
       "model_id": "5821d3d5313049de835e71c2fcdeacf0",
       "version_major": 2,
       "version_minor": 0
      },
      "text/plain": [
       "daily files to download:   0%|          | 0/3 [00:00<?, ?files/s]"
      ]
     },
     "metadata": {},
     "output_type": "display_data"
    },
    {
     "data": {
      "application/vnd.jupyter.widget-view+json": {
       "model_id": "bbd403f2429f4c48b65f96496cf71978",
       "version_major": 2,
       "version_minor": 0
      },
      "text/plain": [
       "daily files to download:   0%|          | 0/3 [00:00<?, ?files/s]"
      ]
     },
     "metadata": {},
     "output_type": "display_data"
    },
    {
     "data": {
      "application/vnd.jupyter.widget-view+json": {
       "model_id": "9bbd4217d4024563b74a9f0c6eb24c61",
       "version_major": 2,
       "version_minor": 0
      },
      "text/plain": [
       "daily files to download:   0%|          | 0/3 [00:00<?, ?files/s]"
      ]
     },
     "metadata": {},
     "output_type": "display_data"
    },
    {
     "data": {
      "application/vnd.jupyter.widget-view+json": {
       "model_id": "1a77dc08cc3a4a5a9fb451790e98baf8",
       "version_major": 2,
       "version_minor": 0
      },
      "text/plain": [
       "daily files to download:   0%|          | 0/3 [00:00<?, ?files/s]"
      ]
     },
     "metadata": {},
     "output_type": "display_data"
    },
    {
     "data": {
      "application/vnd.jupyter.widget-view+json": {
       "model_id": "c938106bc45b4a10bc1dd4ffd07c7dd4",
       "version_major": 2,
       "version_minor": 0
      },
      "text/plain": [
       "daily files to download:   0%|          | 0/3 [00:00<?, ?files/s]"
      ]
     },
     "metadata": {},
     "output_type": "display_data"
    },
    {
     "data": {
      "application/vnd.jupyter.widget-view+json": {
       "model_id": "429eed1016d04515b340aa7b98231290",
       "version_major": 2,
       "version_minor": 0
      },
      "text/plain": [
       "daily files to download:   0%|          | 0/3 [00:00<?, ?files/s]"
      ]
     },
     "metadata": {},
     "output_type": "display_data"
    },
    {
     "data": {
      "application/vnd.jupyter.widget-view+json": {
       "model_id": "c24809978608498d9f0e4cb4e9e38d5b",
       "version_major": 2,
       "version_minor": 0
      },
      "text/plain": [
       "daily files to download:   0%|          | 0/3 [00:00<?, ?files/s]"
      ]
     },
     "metadata": {},
     "output_type": "display_data"
    },
    {
     "data": {
      "application/vnd.jupyter.widget-view+json": {
       "model_id": "70bbca281f2348a4a1160845eaa50368",
       "version_major": 2,
       "version_minor": 0
      },
      "text/plain": [
       "daily files to download:   0%|          | 0/3 [00:00<?, ?files/s]"
      ]
     },
     "metadata": {},
     "output_type": "display_data"
    },
    {
     "data": {
      "application/vnd.jupyter.widget-view+json": {
       "model_id": "e264741d52c04062aa25b11c186dcd99",
       "version_major": 2,
       "version_minor": 0
      },
      "text/plain": [
       "daily files to download:   0%|          | 0/3 [00:00<?, ?files/s]"
      ]
     },
     "metadata": {},
     "output_type": "display_data"
    },
    {
     "data": {
      "application/vnd.jupyter.widget-view+json": {
       "model_id": "4112991d0b7d4b7a91bf3e28ae561c71",
       "version_major": 2,
       "version_minor": 0
      },
      "text/plain": [
       "daily files to download:   0%|          | 0/3 [00:00<?, ?files/s]"
      ]
     },
     "metadata": {},
     "output_type": "display_data"
    },
    {
     "data": {
      "application/vnd.jupyter.widget-view+json": {
       "model_id": "dbede1e02be54a6283fd2189893c737d",
       "version_major": 2,
       "version_minor": 0
      },
      "text/plain": [
       "daily files to download:   0%|          | 0/3 [00:00<?, ?files/s]"
      ]
     },
     "metadata": {},
     "output_type": "display_data"
    },
    {
     "data": {
      "application/vnd.jupyter.widget-view+json": {
       "model_id": "6ed59353eb3a42a7a2882ef50099c41c",
       "version_major": 2,
       "version_minor": 0
      },
      "text/plain": [
       "daily files to download:   0%|          | 0/3 [00:00<?, ?files/s]"
      ]
     },
     "metadata": {},
     "output_type": "display_data"
    },
    {
     "data": {
      "application/vnd.jupyter.widget-view+json": {
       "model_id": "4973a737aceb48b49784f6e24b3e146b",
       "version_major": 2,
       "version_minor": 0
      },
      "text/plain": [
       "daily files to download:   0%|          | 0/3 [00:00<?, ?files/s]"
      ]
     },
     "metadata": {},
     "output_type": "display_data"
    },
    {
     "data": {
      "application/vnd.jupyter.widget-view+json": {
       "model_id": "2caf52474d87460f9a5f7b51d7e8062b",
       "version_major": 2,
       "version_minor": 0
      },
      "text/plain": [
       "daily files to download:   0%|          | 0/3 [00:00<?, ?files/s]"
      ]
     },
     "metadata": {},
     "output_type": "display_data"
    },
    {
     "data": {
      "application/vnd.jupyter.widget-view+json": {
       "model_id": "37bfd9665339404c8661f5fb3e261d64",
       "version_major": 2,
       "version_minor": 0
      },
      "text/plain": [
       "daily files to download:   0%|          | 0/3 [00:00<?, ?files/s]"
      ]
     },
     "metadata": {},
     "output_type": "display_data"
    },
    {
     "data": {
      "application/vnd.jupyter.widget-view+json": {
       "model_id": "5bd9f44ce26648d08e18ace683b423ca",
       "version_major": 2,
       "version_minor": 0
      },
      "text/plain": [
       "daily files to download:   0%|          | 0/3 [00:00<?, ?files/s]"
      ]
     },
     "metadata": {},
     "output_type": "display_data"
    },
    {
     "data": {
      "application/vnd.jupyter.widget-view+json": {
       "model_id": "a8de2e5e878a401ca7c214aaadb9c842",
       "version_major": 2,
       "version_minor": 0
      },
      "text/plain": [
       "daily files to download:   0%|          | 0/3 [00:00<?, ?files/s]"
      ]
     },
     "metadata": {},
     "output_type": "display_data"
    },
    {
     "data": {
      "application/vnd.jupyter.widget-view+json": {
       "model_id": "4db35ec0ae8240ce9825ba8c7af33878",
       "version_major": 2,
       "version_minor": 0
      },
      "text/plain": [
       "daily files to download:   0%|          | 0/3 [00:00<?, ?files/s]"
      ]
     },
     "metadata": {},
     "output_type": "display_data"
    },
    {
     "data": {
      "application/vnd.jupyter.widget-view+json": {
       "model_id": "df663d03ca4a4f029520bf8630e20beb",
       "version_major": 2,
       "version_minor": 0
      },
      "text/plain": [
       "daily files to download:   0%|          | 0/3 [00:00<?, ?files/s]"
      ]
     },
     "metadata": {},
     "output_type": "display_data"
    },
    {
     "data": {
      "application/vnd.jupyter.widget-view+json": {
       "model_id": "fed5ce7c2da643f789d6e04fac618ec2",
       "version_major": 2,
       "version_minor": 0
      },
      "text/plain": [
       "daily files to download:   0%|          | 0/3 [00:00<?, ?files/s]"
      ]
     },
     "metadata": {},
     "output_type": "display_data"
    },
    {
     "data": {
      "application/vnd.jupyter.widget-view+json": {
       "model_id": "278c46673b094a3fa390238517892cb0",
       "version_major": 2,
       "version_minor": 0
      },
      "text/plain": [
       "daily files to download:   0%|          | 0/3 [00:00<?, ?files/s]"
      ]
     },
     "metadata": {},
     "output_type": "display_data"
    },
    {
     "data": {
      "application/vnd.jupyter.widget-view+json": {
       "model_id": "ed1db81f13954267ae9967620d1794bc",
       "version_major": 2,
       "version_minor": 0
      },
      "text/plain": [
       "daily files to download:   0%|          | 0/3 [00:00<?, ?files/s]"
      ]
     },
     "metadata": {},
     "output_type": "display_data"
    },
    {
     "data": {
      "application/vnd.jupyter.widget-view+json": {
       "model_id": "03d2705d5a0f4d33b436407572200025",
       "version_major": 2,
       "version_minor": 0
      },
      "text/plain": [
       "daily files to download:   0%|          | 0/3 [00:00<?, ?files/s]"
      ]
     },
     "metadata": {},
     "output_type": "display_data"
    },
    {
     "data": {
      "application/vnd.jupyter.widget-view+json": {
       "model_id": "127715d4153e4eaca6fd7601155eac7e",
       "version_major": 2,
       "version_minor": 0
      },
      "text/plain": [
       "daily files to download:   0%|          | 0/3 [00:00<?, ?files/s]"
      ]
     },
     "metadata": {},
     "output_type": "display_data"
    },
    {
     "data": {
      "application/vnd.jupyter.widget-view+json": {
       "model_id": "65b9f806e27647d491b60f48d6532471",
       "version_major": 2,
       "version_minor": 0
      },
      "text/plain": [
       "daily files to download:   0%|          | 0/3 [00:00<?, ?files/s]"
      ]
     },
     "metadata": {},
     "output_type": "display_data"
    },
    {
     "data": {
      "application/vnd.jupyter.widget-view+json": {
       "model_id": "2a343d79ce02463aa7b4309ec03beb10",
       "version_major": 2,
       "version_minor": 0
      },
      "text/plain": [
       "daily files to download:   0%|          | 0/3 [00:00<?, ?files/s]"
      ]
     },
     "metadata": {},
     "output_type": "display_data"
    },
    {
     "data": {
      "application/vnd.jupyter.widget-view+json": {
       "model_id": "b77c68f9cb0c4a228aa32c7172cb9623",
       "version_major": 2,
       "version_minor": 0
      },
      "text/plain": [
       "daily files to download:   0%|          | 0/3 [00:00<?, ?files/s]"
      ]
     },
     "metadata": {},
     "output_type": "display_data"
    },
    {
     "data": {
      "application/vnd.jupyter.widget-view+json": {
       "model_id": "b01f4ac0873649ca98181a33acaa93fc",
       "version_major": 2,
       "version_minor": 0
      },
      "text/plain": [
       "daily files to download:   0%|          | 0/3 [00:00<?, ?files/s]"
      ]
     },
     "metadata": {},
     "output_type": "display_data"
    },
    {
     "data": {
      "application/vnd.jupyter.widget-view+json": {
       "model_id": "0d35e383631f4634af82697f2fb51b08",
       "version_major": 2,
       "version_minor": 0
      },
      "text/plain": [
       "daily files to download:   0%|          | 0/3 [00:00<?, ?files/s]"
      ]
     },
     "metadata": {},
     "output_type": "display_data"
    },
    {
     "data": {
      "application/vnd.jupyter.widget-view+json": {
       "model_id": "8b6f63259a8140c0b8a2da7789044f17",
       "version_major": 2,
       "version_minor": 0
      },
      "text/plain": [
       "daily files to download:   0%|          | 0/3 [00:00<?, ?files/s]"
      ]
     },
     "metadata": {},
     "output_type": "display_data"
    },
    {
     "data": {
      "application/vnd.jupyter.widget-view+json": {
       "model_id": "1be06a9fc4784687862005dfe928a7d0",
       "version_major": 2,
       "version_minor": 0
      },
      "text/plain": [
       "daily files to download:   0%|          | 0/3 [00:00<?, ?files/s]"
      ]
     },
     "metadata": {},
     "output_type": "display_data"
    },
    {
     "data": {
      "application/vnd.jupyter.widget-view+json": {
       "model_id": "8bdff3eb41f64ca588e21f443bbadf61",
       "version_major": 2,
       "version_minor": 0
      },
      "text/plain": [
       "daily files to download:   0%|          | 0/3 [00:00<?, ?files/s]"
      ]
     },
     "metadata": {},
     "output_type": "display_data"
    },
    {
     "data": {
      "application/vnd.jupyter.widget-view+json": {
       "model_id": "507d658bcbe342b395283c02d737e794",
       "version_major": 2,
       "version_minor": 0
      },
      "text/plain": [
       "daily files to download:   0%|          | 0/3 [00:00<?, ?files/s]"
      ]
     },
     "metadata": {},
     "output_type": "display_data"
    },
    {
     "data": {
      "application/vnd.jupyter.widget-view+json": {
       "model_id": "939ba3db7af34aada9df42e9b25f3bd6",
       "version_major": 2,
       "version_minor": 0
      },
      "text/plain": [
       "daily files to download:   0%|          | 0/3 [00:00<?, ?files/s]"
      ]
     },
     "metadata": {},
     "output_type": "display_data"
    },
    {
     "data": {
      "application/vnd.jupyter.widget-view+json": {
       "model_id": "c7f14039e9594543b2f9e1ba2cd17aa4",
       "version_major": 2,
       "version_minor": 0
      },
      "text/plain": [
       "daily files to download:   0%|          | 0/3 [00:00<?, ?files/s]"
      ]
     },
     "metadata": {},
     "output_type": "display_data"
    },
    {
     "data": {
      "application/vnd.jupyter.widget-view+json": {
       "model_id": "f83e157dfbc34ba891028db9eaaf67ae",
       "version_major": 2,
       "version_minor": 0
      },
      "text/plain": [
       "daily files to download:   0%|          | 0/3 [00:00<?, ?files/s]"
      ]
     },
     "metadata": {},
     "output_type": "display_data"
    },
    {
     "data": {
      "application/vnd.jupyter.widget-view+json": {
       "model_id": "1deedd9eb71b40c5933e87c7746e7e70",
       "version_major": 2,
       "version_minor": 0
      },
      "text/plain": [
       "daily files to download:   0%|          | 0/3 [00:00<?, ?files/s]"
      ]
     },
     "metadata": {},
     "output_type": "display_data"
    },
    {
     "data": {
      "application/vnd.jupyter.widget-view+json": {
       "model_id": "b1b89679d4d84ab5b5f6243141fe7460",
       "version_major": 2,
       "version_minor": 0
      },
      "text/plain": [
       "daily files to download:   0%|          | 0/3 [00:00<?, ?files/s]"
      ]
     },
     "metadata": {},
     "output_type": "display_data"
    },
    {
     "data": {
      "application/vnd.jupyter.widget-view+json": {
       "model_id": "d480e3bb01a74bf2b6879a23cb22f664",
       "version_major": 2,
       "version_minor": 0
      },
      "text/plain": [
       "daily files to download:   0%|          | 0/3 [00:00<?, ?files/s]"
      ]
     },
     "metadata": {},
     "output_type": "display_data"
    },
    {
     "data": {
      "application/vnd.jupyter.widget-view+json": {
       "model_id": "becac9fa505341f3a14d1da3532cab50",
       "version_major": 2,
       "version_minor": 0
      },
      "text/plain": [
       "daily files to download:   0%|          | 0/3 [00:00<?, ?files/s]"
      ]
     },
     "metadata": {},
     "output_type": "display_data"
    },
    {
     "data": {
      "application/vnd.jupyter.widget-view+json": {
       "model_id": "635d09b7a13c43d6bd5611a2616e10bb",
       "version_major": 2,
       "version_minor": 0
      },
      "text/plain": [
       "daily files to download:   0%|          | 0/3 [00:00<?, ?files/s]"
      ]
     },
     "metadata": {},
     "output_type": "display_data"
    },
    {
     "data": {
      "application/vnd.jupyter.widget-view+json": {
       "model_id": "696144902d86475aa8799458d496a53d",
       "version_major": 2,
       "version_minor": 0
      },
      "text/plain": [
       "daily files to download:   0%|          | 0/3 [00:00<?, ?files/s]"
      ]
     },
     "metadata": {},
     "output_type": "display_data"
    },
    {
     "data": {
      "application/vnd.jupyter.widget-view+json": {
       "model_id": "963266c96ccd4cc5861bfb5c012c3c66",
       "version_major": 2,
       "version_minor": 0
      },
      "text/plain": [
       "daily files to download:   0%|          | 0/3 [00:00<?, ?files/s]"
      ]
     },
     "metadata": {},
     "output_type": "display_data"
    },
    {
     "data": {
      "application/vnd.jupyter.widget-view+json": {
       "model_id": "a816a75d202b46398fa4fea92f54248c",
       "version_major": 2,
       "version_minor": 0
      },
      "text/plain": [
       "daily files to download:   0%|          | 0/3 [00:00<?, ?files/s]"
      ]
     },
     "metadata": {},
     "output_type": "display_data"
    },
    {
     "data": {
      "application/vnd.jupyter.widget-view+json": {
       "model_id": "81a9dcb83ae04e2691327186d9f73c50",
       "version_major": 2,
       "version_minor": 0
      },
      "text/plain": [
       "daily files to download:   0%|          | 0/3 [00:00<?, ?files/s]"
      ]
     },
     "metadata": {},
     "output_type": "display_data"
    },
    {
     "data": {
      "application/vnd.jupyter.widget-view+json": {
       "model_id": "4236fed804254b9588f303d91b8d3ee5",
       "version_major": 2,
       "version_minor": 0
      },
      "text/plain": [
       "daily files to download:   0%|          | 0/3 [00:00<?, ?files/s]"
      ]
     },
     "metadata": {},
     "output_type": "display_data"
    },
    {
     "data": {
      "application/vnd.jupyter.widget-view+json": {
       "model_id": "03285b9b71d840738691ea9a16cf875d",
       "version_major": 2,
       "version_minor": 0
      },
      "text/plain": [
       "daily files to download:   0%|          | 0/3 [00:00<?, ?files/s]"
      ]
     },
     "metadata": {},
     "output_type": "display_data"
    },
    {
     "data": {
      "application/vnd.jupyter.widget-view+json": {
       "model_id": "d4770bef9a4d4df6aa5ecf133f13ec61",
       "version_major": 2,
       "version_minor": 0
      },
      "text/plain": [
       "daily files to download:   0%|          | 0/3 [00:00<?, ?files/s]"
      ]
     },
     "metadata": {},
     "output_type": "display_data"
    },
    {
     "data": {
      "application/vnd.jupyter.widget-view+json": {
       "model_id": "cbb37c83631042f4a2e98689c82626eb",
       "version_major": 2,
       "version_minor": 0
      },
      "text/plain": [
       "daily files to download:   0%|          | 0/3 [00:00<?, ?files/s]"
      ]
     },
     "metadata": {},
     "output_type": "display_data"
    },
    {
     "data": {
      "application/vnd.jupyter.widget-view+json": {
       "model_id": "d71587e425034be3b8efd8097489c5b0",
       "version_major": 2,
       "version_minor": 0
      },
      "text/plain": [
       "daily files to download:   0%|          | 0/3 [00:00<?, ?files/s]"
      ]
     },
     "metadata": {},
     "output_type": "display_data"
    },
    {
     "data": {
      "application/vnd.jupyter.widget-view+json": {
       "model_id": "de9ae70487d648e8b50efe4dde9b269f",
       "version_major": 2,
       "version_minor": 0
      },
      "text/plain": [
       "daily files to download:   0%|          | 0/3 [00:00<?, ?files/s]"
      ]
     },
     "metadata": {},
     "output_type": "display_data"
    },
    {
     "data": {
      "application/vnd.jupyter.widget-view+json": {
       "model_id": "5d38880fe2984bc4a26ad14a27fe7951",
       "version_major": 2,
       "version_minor": 0
      },
      "text/plain": [
       "daily files to download:   0%|          | 0/3 [00:00<?, ?files/s]"
      ]
     },
     "metadata": {},
     "output_type": "display_data"
    },
    {
     "data": {
      "application/vnd.jupyter.widget-view+json": {
       "model_id": "89e1df11f2f04e3f99ca16d6cc259135",
       "version_major": 2,
       "version_minor": 0
      },
      "text/plain": [
       "daily files to download:   0%|          | 0/3 [00:00<?, ?files/s]"
      ]
     },
     "metadata": {},
     "output_type": "display_data"
    },
    {
     "data": {
      "application/vnd.jupyter.widget-view+json": {
       "model_id": "28b1f06e47d742b092d0f3755df58552",
       "version_major": 2,
       "version_minor": 0
      },
      "text/plain": [
       "daily files to download:   0%|          | 0/3 [00:00<?, ?files/s]"
      ]
     },
     "metadata": {},
     "output_type": "display_data"
    },
    {
     "data": {
      "application/vnd.jupyter.widget-view+json": {
       "model_id": "b7b0f63b9aa64f45abce4872a934283d",
       "version_major": 2,
       "version_minor": 0
      },
      "text/plain": [
       "daily files to download:   0%|          | 0/3 [00:00<?, ?files/s]"
      ]
     },
     "metadata": {},
     "output_type": "display_data"
    },
    {
     "data": {
      "application/vnd.jupyter.widget-view+json": {
       "model_id": "af8559bec5e34e71b2444729356ea25c",
       "version_major": 2,
       "version_minor": 0
      },
      "text/plain": [
       "daily files to download:   0%|          | 0/3 [00:00<?, ?files/s]"
      ]
     },
     "metadata": {},
     "output_type": "display_data"
    },
    {
     "data": {
      "application/vnd.jupyter.widget-view+json": {
       "model_id": "1f409fb0aaff4fbc835a9c1f780f8ac7",
       "version_major": 2,
       "version_minor": 0
      },
      "text/plain": [
       "daily files to download:   0%|          | 0/3 [00:00<?, ?files/s]"
      ]
     },
     "metadata": {},
     "output_type": "display_data"
    },
    {
     "data": {
      "application/vnd.jupyter.widget-view+json": {
       "model_id": "5fcb734fd72b4b5b89ad8dbd607020db",
       "version_major": 2,
       "version_minor": 0
      },
      "text/plain": [
       "daily files to download:   0%|          | 0/3 [00:00<?, ?files/s]"
      ]
     },
     "metadata": {},
     "output_type": "display_data"
    },
    {
     "data": {
      "application/vnd.jupyter.widget-view+json": {
       "model_id": "7023c67022784e47afed16700f7d2884",
       "version_major": 2,
       "version_minor": 0
      },
      "text/plain": [
       "daily files to download:   0%|          | 0/3 [00:00<?, ?files/s]"
      ]
     },
     "metadata": {},
     "output_type": "display_data"
    },
    {
     "data": {
      "application/vnd.jupyter.widget-view+json": {
       "model_id": "1486bbf47ddd43c7bf17eae69eb081ad",
       "version_major": 2,
       "version_minor": 0
      },
      "text/plain": [
       "daily files to download:   0%|          | 0/3 [00:00<?, ?files/s]"
      ]
     },
     "metadata": {},
     "output_type": "display_data"
    },
    {
     "data": {
      "application/vnd.jupyter.widget-view+json": {
       "model_id": "71f03512b0d747e19e736de49004bf2d",
       "version_major": 2,
       "version_minor": 0
      },
      "text/plain": [
       "daily files to download:   0%|          | 0/3 [00:00<?, ?files/s]"
      ]
     },
     "metadata": {},
     "output_type": "display_data"
    },
    {
     "data": {
      "application/vnd.jupyter.widget-view+json": {
       "model_id": "9246614778d6427daf3f243b18980a01",
       "version_major": 2,
       "version_minor": 0
      },
      "text/plain": [
       "daily files to download:   0%|          | 0/3 [00:00<?, ?files/s]"
      ]
     },
     "metadata": {},
     "output_type": "display_data"
    },
    {
     "data": {
      "application/vnd.jupyter.widget-view+json": {
       "model_id": "67ca315869174c68b2f2b9303683437a",
       "version_major": 2,
       "version_minor": 0
      },
      "text/plain": [
       "daily files to download:   0%|          | 0/3 [00:00<?, ?files/s]"
      ]
     },
     "metadata": {},
     "output_type": "display_data"
    },
    {
     "data": {
      "application/vnd.jupyter.widget-view+json": {
       "model_id": "24c1154cc7bb4bf4b2abe754fb19e4a8",
       "version_major": 2,
       "version_minor": 0
      },
      "text/plain": [
       "daily files to download:   0%|          | 0/3 [00:00<?, ?files/s]"
      ]
     },
     "metadata": {},
     "output_type": "display_data"
    },
    {
     "data": {
      "application/vnd.jupyter.widget-view+json": {
       "model_id": "d0f7418371444ab58ecc15ce5b7af730",
       "version_major": 2,
       "version_minor": 0
      },
      "text/plain": [
       "daily files to download:   0%|          | 0/3 [00:00<?, ?files/s]"
      ]
     },
     "metadata": {},
     "output_type": "display_data"
    },
    {
     "data": {
      "application/vnd.jupyter.widget-view+json": {
       "model_id": "ce9dcfeed42144aeb7ebd23a2d34483a",
       "version_major": 2,
       "version_minor": 0
      },
      "text/plain": [
       "daily files to download:   0%|          | 0/3 [00:00<?, ?files/s]"
      ]
     },
     "metadata": {},
     "output_type": "display_data"
    },
    {
     "data": {
      "application/vnd.jupyter.widget-view+json": {
       "model_id": "158068937c194e8da8f8281ba6ebc255",
       "version_major": 2,
       "version_minor": 0
      },
      "text/plain": [
       "daily files to download:   0%|          | 0/3 [00:00<?, ?files/s]"
      ]
     },
     "metadata": {},
     "output_type": "display_data"
    },
    {
     "data": {
      "application/vnd.jupyter.widget-view+json": {
       "model_id": "bc27fa4ce40c46c48608dc638874cd6a",
       "version_major": 2,
       "version_minor": 0
      },
      "text/plain": [
       "daily files to download:   0%|          | 0/3 [00:00<?, ?files/s]"
      ]
     },
     "metadata": {},
     "output_type": "display_data"
    },
    {
     "data": {
      "application/vnd.jupyter.widget-view+json": {
       "model_id": "4caccf1180264cc5a4eb6b71c5085eab",
       "version_major": 2,
       "version_minor": 0
      },
      "text/plain": [
       "daily files to download:   0%|          | 0/3 [00:00<?, ?files/s]"
      ]
     },
     "metadata": {},
     "output_type": "display_data"
    },
    {
     "data": {
      "application/vnd.jupyter.widget-view+json": {
       "model_id": "19c9bd0bd07b4400b8d5c5d9e79b6ff0",
       "version_major": 2,
       "version_minor": 0
      },
      "text/plain": [
       "daily files to download:   0%|          | 0/3 [00:00<?, ?files/s]"
      ]
     },
     "metadata": {},
     "output_type": "display_data"
    },
    {
     "data": {
      "application/vnd.jupyter.widget-view+json": {
       "model_id": "4b3031e4c548494c9dec8830f4f58165",
       "version_major": 2,
       "version_minor": 0
      },
      "text/plain": [
       "daily files to download:   0%|          | 0/3 [00:00<?, ?files/s]"
      ]
     },
     "metadata": {},
     "output_type": "display_data"
    },
    {
     "data": {
      "application/vnd.jupyter.widget-view+json": {
       "model_id": "c5a0eb412c3f4df29adbfd4d28b98703",
       "version_major": 2,
       "version_minor": 0
      },
      "text/plain": [
       "daily files to download:   0%|          | 0/3 [00:00<?, ?files/s]"
      ]
     },
     "metadata": {},
     "output_type": "display_data"
    },
    {
     "data": {
      "application/vnd.jupyter.widget-view+json": {
       "model_id": "576b84479ed24b7c9af8c18ac9eb9719",
       "version_major": 2,
       "version_minor": 0
      },
      "text/plain": [
       "daily files to download:   0%|          | 0/3 [00:00<?, ?files/s]"
      ]
     },
     "metadata": {},
     "output_type": "display_data"
    },
    {
     "data": {
      "application/vnd.jupyter.widget-view+json": {
       "model_id": "ca1c8addc0b84b509f33e1e5174070c0",
       "version_major": 2,
       "version_minor": 0
      },
      "text/plain": [
       "daily files to download:   0%|          | 0/3 [00:00<?, ?files/s]"
      ]
     },
     "metadata": {},
     "output_type": "display_data"
    },
    {
     "data": {
      "application/vnd.jupyter.widget-view+json": {
       "model_id": "1c0b8ea44b124f158231e79921e5558d",
       "version_major": 2,
       "version_minor": 0
      },
      "text/plain": [
       "daily files to download:   0%|          | 0/3 [00:00<?, ?files/s]"
      ]
     },
     "metadata": {},
     "output_type": "display_data"
    },
    {
     "data": {
      "application/vnd.jupyter.widget-view+json": {
       "model_id": "ae036c0f30b74cd4bda960514395a1ed",
       "version_major": 2,
       "version_minor": 0
      },
      "text/plain": [
       "daily files to download:   0%|          | 0/3 [00:00<?, ?files/s]"
      ]
     },
     "metadata": {},
     "output_type": "display_data"
    },
    {
     "data": {
      "application/vnd.jupyter.widget-view+json": {
       "model_id": "bef01e3c7edd4912bf6e5c81f9f847ce",
       "version_major": 2,
       "version_minor": 0
      },
      "text/plain": [
       "daily files to download:   0%|          | 0/3 [00:00<?, ?files/s]"
      ]
     },
     "metadata": {},
     "output_type": "display_data"
    },
    {
     "data": {
      "application/vnd.jupyter.widget-view+json": {
       "model_id": "9da19be0ccbc4280aeef9f76f42725b6",
       "version_major": 2,
       "version_minor": 0
      },
      "text/plain": [
       "daily files to download:   0%|          | 0/3 [00:00<?, ?files/s]"
      ]
     },
     "metadata": {},
     "output_type": "display_data"
    },
    {
     "data": {
      "application/vnd.jupyter.widget-view+json": {
       "model_id": "20651821ca694bacb02e98ddabc29649",
       "version_major": 2,
       "version_minor": 0
      },
      "text/plain": [
       "daily files to download:   0%|          | 0/3 [00:00<?, ?files/s]"
      ]
     },
     "metadata": {},
     "output_type": "display_data"
    },
    {
     "data": {
      "application/vnd.jupyter.widget-view+json": {
       "model_id": "a191c7b12ed94ce0bd2488a445dde6a5",
       "version_major": 2,
       "version_minor": 0
      },
      "text/plain": [
       "daily files to download:   0%|          | 0/3 [00:00<?, ?files/s]"
      ]
     },
     "metadata": {},
     "output_type": "display_data"
    },
    {
     "data": {
      "application/vnd.jupyter.widget-view+json": {
       "model_id": "4585aad6cc6c45a289459e28f12c6669",
       "version_major": 2,
       "version_minor": 0
      },
      "text/plain": [
       "daily files to download:   0%|          | 0/3 [00:00<?, ?files/s]"
      ]
     },
     "metadata": {},
     "output_type": "display_data"
    },
    {
     "data": {
      "application/vnd.jupyter.widget-view+json": {
       "model_id": "29474251dcb947a291dcc96ad6f08dd1",
       "version_major": 2,
       "version_minor": 0
      },
      "text/plain": [
       "daily files to download:   0%|          | 0/3 [00:00<?, ?files/s]"
      ]
     },
     "metadata": {},
     "output_type": "display_data"
    },
    {
     "data": {
      "application/vnd.jupyter.widget-view+json": {
       "model_id": "34f565754a48412594cce9d99b7371d5",
       "version_major": 2,
       "version_minor": 0
      },
      "text/plain": [
       "daily files to download:   0%|          | 0/3 [00:00<?, ?files/s]"
      ]
     },
     "metadata": {},
     "output_type": "display_data"
    },
    {
     "data": {
      "application/vnd.jupyter.widget-view+json": {
       "model_id": "b0c0ec46e85f469a8c6a995eea5972e4",
       "version_major": 2,
       "version_minor": 0
      },
      "text/plain": [
       "daily files to download:   0%|          | 0/3 [00:00<?, ?files/s]"
      ]
     },
     "metadata": {},
     "output_type": "display_data"
    },
    {
     "data": {
      "application/vnd.jupyter.widget-view+json": {
       "model_id": "c9b35a60e30748cea5051d42d78217ee",
       "version_major": 2,
       "version_minor": 0
      },
      "text/plain": [
       "daily files to download:   0%|          | 0/3 [00:00<?, ?files/s]"
      ]
     },
     "metadata": {},
     "output_type": "display_data"
    },
    {
     "data": {
      "application/vnd.jupyter.widget-view+json": {
       "model_id": "5e1096b0afee429d98a8a839f131b95c",
       "version_major": 2,
       "version_minor": 0
      },
      "text/plain": [
       "daily files to download:   0%|          | 0/3 [00:00<?, ?files/s]"
      ]
     },
     "metadata": {},
     "output_type": "display_data"
    },
    {
     "data": {
      "application/vnd.jupyter.widget-view+json": {
       "model_id": "690c47f9ba59484a8fd6f129f53bf153",
       "version_major": 2,
       "version_minor": 0
      },
      "text/plain": [
       "daily files to download:   0%|          | 0/3 [00:00<?, ?files/s]"
      ]
     },
     "metadata": {},
     "output_type": "display_data"
    },
    {
     "data": {
      "application/vnd.jupyter.widget-view+json": {
       "model_id": "f75a07be9c18468ea9b62eb31d38c198",
       "version_major": 2,
       "version_minor": 0
      },
      "text/plain": [
       "daily files to download:   0%|          | 0/3 [00:00<?, ?files/s]"
      ]
     },
     "metadata": {},
     "output_type": "display_data"
    },
    {
     "data": {
      "application/vnd.jupyter.widget-view+json": {
       "model_id": "e45226bb5a2e405297ca8508399e9a2f",
       "version_major": 2,
       "version_minor": 0
      },
      "text/plain": [
       "daily files to download:   0%|          | 0/3 [00:00<?, ?files/s]"
      ]
     },
     "metadata": {},
     "output_type": "display_data"
    },
    {
     "data": {
      "application/vnd.jupyter.widget-view+json": {
       "model_id": "aa9563b5ef9e4d7daa0d3e2d1314c7f5",
       "version_major": 2,
       "version_minor": 0
      },
      "text/plain": [
       "daily files to download:   0%|          | 0/3 [00:00<?, ?files/s]"
      ]
     },
     "metadata": {},
     "output_type": "display_data"
    },
    {
     "data": {
      "application/vnd.jupyter.widget-view+json": {
       "model_id": "014bcf8c2116488d810719d7356d7e0f",
       "version_major": 2,
       "version_minor": 0
      },
      "text/plain": [
       "daily files to download:   0%|          | 0/3 [00:00<?, ?files/s]"
      ]
     },
     "metadata": {},
     "output_type": "display_data"
    },
    {
     "data": {
      "application/vnd.jupyter.widget-view+json": {
       "model_id": "e60a5a4a6e9d48cda9609eac9789860a",
       "version_major": 2,
       "version_minor": 0
      },
      "text/plain": [
       "daily files to download:   0%|          | 0/3 [00:00<?, ?files/s]"
      ]
     },
     "metadata": {},
     "output_type": "display_data"
    },
    {
     "data": {
      "application/vnd.jupyter.widget-view+json": {
       "model_id": "e7f35bc632a34a7e8c8d3a56cc474af7",
       "version_major": 2,
       "version_minor": 0
      },
      "text/plain": [
       "daily files to download:   0%|          | 0/3 [00:00<?, ?files/s]"
      ]
     },
     "metadata": {},
     "output_type": "display_data"
    },
    {
     "data": {
      "application/vnd.jupyter.widget-view+json": {
       "model_id": "eafec5aec5694640b356a51c5e311832",
       "version_major": 2,
       "version_minor": 0
      },
      "text/plain": [
       "daily files to download:   0%|          | 0/3 [00:00<?, ?files/s]"
      ]
     },
     "metadata": {},
     "output_type": "display_data"
    },
    {
     "data": {
      "application/vnd.jupyter.widget-view+json": {
       "model_id": "b0345d198fbc40aca516493648ea8df8",
       "version_major": 2,
       "version_minor": 0
      },
      "text/plain": [
       "daily files to download:   0%|          | 0/3 [00:00<?, ?files/s]"
      ]
     },
     "metadata": {},
     "output_type": "display_data"
    },
    {
     "data": {
      "application/vnd.jupyter.widget-view+json": {
       "model_id": "f7841cfba84d4724b733cfc1ee18f2e0",
       "version_major": 2,
       "version_minor": 0
      },
      "text/plain": [
       "daily files to download:   0%|          | 0/3 [00:00<?, ?files/s]"
      ]
     },
     "metadata": {},
     "output_type": "display_data"
    },
    {
     "data": {
      "application/vnd.jupyter.widget-view+json": {
       "model_id": "2052ab7686bb42a8b4883566ee71083b",
       "version_major": 2,
       "version_minor": 0
      },
      "text/plain": [
       "daily files to download:   0%|          | 0/3 [00:00<?, ?files/s]"
      ]
     },
     "metadata": {},
     "output_type": "display_data"
    },
    {
     "data": {
      "application/vnd.jupyter.widget-view+json": {
       "model_id": "04a7d8478082449ea7078cf57598cf5b",
       "version_major": 2,
       "version_minor": 0
      },
      "text/plain": [
       "daily files to download:   0%|          | 0/3 [00:00<?, ?files/s]"
      ]
     },
     "metadata": {},
     "output_type": "display_data"
    },
    {
     "data": {
      "application/vnd.jupyter.widget-view+json": {
       "model_id": "07626a878f404e5584424a24223af2a5",
       "version_major": 2,
       "version_minor": 0
      },
      "text/plain": [
       "daily files to download:   0%|          | 0/3 [00:00<?, ?files/s]"
      ]
     },
     "metadata": {},
     "output_type": "display_data"
    },
    {
     "data": {
      "application/vnd.jupyter.widget-view+json": {
       "model_id": "94b09ddcbbb94b96a97553adb149dbfd",
       "version_major": 2,
       "version_minor": 0
      },
      "text/plain": [
       "daily files to download:   0%|          | 0/3 [00:00<?, ?files/s]"
      ]
     },
     "metadata": {},
     "output_type": "display_data"
    },
    {
     "data": {
      "application/vnd.jupyter.widget-view+json": {
       "model_id": "51f4ad0ce634479d80804d1a618ac739",
       "version_major": 2,
       "version_minor": 0
      },
      "text/plain": [
       "daily files to download:   0%|          | 0/3 [00:00<?, ?files/s]"
      ]
     },
     "metadata": {},
     "output_type": "display_data"
    },
    {
     "data": {
      "application/vnd.jupyter.widget-view+json": {
       "model_id": "dfa9d76ee34941c19f4a8f3afe2c3885",
       "version_major": 2,
       "version_minor": 0
      },
      "text/plain": [
       "daily files to download:   0%|          | 0/3 [00:00<?, ?files/s]"
      ]
     },
     "metadata": {},
     "output_type": "display_data"
    },
    {
     "data": {
      "application/vnd.jupyter.widget-view+json": {
       "model_id": "a88d50df790f488dacc6e896a73b9cbe",
       "version_major": 2,
       "version_minor": 0
      },
      "text/plain": [
       "daily files to download:   0%|          | 0/3 [00:00<?, ?files/s]"
      ]
     },
     "metadata": {},
     "output_type": "display_data"
    },
    {
     "data": {
      "application/vnd.jupyter.widget-view+json": {
       "model_id": "9e61d7e2d15046629828e62d9e63df98",
       "version_major": 2,
       "version_minor": 0
      },
      "text/plain": [
       "daily files to download:   0%|          | 0/3 [00:00<?, ?files/s]"
      ]
     },
     "metadata": {},
     "output_type": "display_data"
    },
    {
     "data": {
      "application/vnd.jupyter.widget-view+json": {
       "model_id": "8a8c6730134a47cf85190d0f00dccb2b",
       "version_major": 2,
       "version_minor": 0
      },
      "text/plain": [
       "daily files to download:   0%|          | 0/3 [00:00<?, ?files/s]"
      ]
     },
     "metadata": {},
     "output_type": "display_data"
    },
    {
     "data": {
      "application/vnd.jupyter.widget-view+json": {
       "model_id": "c9d4d6ef406340b9b5b1f299b16fc98a",
       "version_major": 2,
       "version_minor": 0
      },
      "text/plain": [
       "daily files to download:   0%|          | 0/3 [00:00<?, ?files/s]"
      ]
     },
     "metadata": {},
     "output_type": "display_data"
    },
    {
     "data": {
      "application/vnd.jupyter.widget-view+json": {
       "model_id": "53db6947443b4ef083beb45156926d8e",
       "version_major": 2,
       "version_minor": 0
      },
      "text/plain": [
       "daily files to download:   0%|          | 0/3 [00:00<?, ?files/s]"
      ]
     },
     "metadata": {},
     "output_type": "display_data"
    },
    {
     "data": {
      "application/vnd.jupyter.widget-view+json": {
       "model_id": "2f9e899fe3454532ad44eae4e5192104",
       "version_major": 2,
       "version_minor": 0
      },
      "text/plain": [
       "daily files to download:   0%|          | 0/3 [00:00<?, ?files/s]"
      ]
     },
     "metadata": {},
     "output_type": "display_data"
    },
    {
     "data": {
      "application/vnd.jupyter.widget-view+json": {
       "model_id": "3894a4d02a354a869d5cb86e5a1e9f6d",
       "version_major": 2,
       "version_minor": 0
      },
      "text/plain": [
       "daily files to download:   0%|          | 0/3 [00:00<?, ?files/s]"
      ]
     },
     "metadata": {},
     "output_type": "display_data"
    },
    {
     "data": {
      "application/vnd.jupyter.widget-view+json": {
       "model_id": "287b278d04824dedb20e056c0e6adac6",
       "version_major": 2,
       "version_minor": 0
      },
      "text/plain": [
       "daily files to download:   0%|          | 0/3 [00:00<?, ?files/s]"
      ]
     },
     "metadata": {},
     "output_type": "display_data"
    },
    {
     "data": {
      "application/vnd.jupyter.widget-view+json": {
       "model_id": "04267bedeb7b4deeb922c16dac5d5924",
       "version_major": 2,
       "version_minor": 0
      },
      "text/plain": [
       "daily files to download:   0%|          | 0/3 [00:00<?, ?files/s]"
      ]
     },
     "metadata": {},
     "output_type": "display_data"
    },
    {
     "data": {
      "application/vnd.jupyter.widget-view+json": {
       "model_id": "bafa8f2931d447ef94d30ea447ecd733",
       "version_major": 2,
       "version_minor": 0
      },
      "text/plain": [
       "daily files to download:   0%|          | 0/3 [00:00<?, ?files/s]"
      ]
     },
     "metadata": {},
     "output_type": "display_data"
    },
    {
     "data": {
      "application/vnd.jupyter.widget-view+json": {
       "model_id": "8000fcf4bf12464394fbfb6ae663b78e",
       "version_major": 2,
       "version_minor": 0
      },
      "text/plain": [
       "daily files to download:   0%|          | 0/3 [00:00<?, ?files/s]"
      ]
     },
     "metadata": {},
     "output_type": "display_data"
    },
    {
     "data": {
      "application/vnd.jupyter.widget-view+json": {
       "model_id": "c93dfac9a1d4452b97b44e3ba8761486",
       "version_major": 2,
       "version_minor": 0
      },
      "text/plain": [
       "daily files to download:   0%|          | 0/3 [00:00<?, ?files/s]"
      ]
     },
     "metadata": {},
     "output_type": "display_data"
    },
    {
     "data": {
      "application/vnd.jupyter.widget-view+json": {
       "model_id": "45b298ce1f1a4946a07491db7a87fbd1",
       "version_major": 2,
       "version_minor": 0
      },
      "text/plain": [
       "daily files to download:   0%|          | 0/3 [00:00<?, ?files/s]"
      ]
     },
     "metadata": {},
     "output_type": "display_data"
    },
    {
     "data": {
      "application/vnd.jupyter.widget-view+json": {
       "model_id": "7e90b72f43fd461cad033cd85fde3ad7",
       "version_major": 2,
       "version_minor": 0
      },
      "text/plain": [
       "daily files to download:   0%|          | 0/3 [00:00<?, ?files/s]"
      ]
     },
     "metadata": {},
     "output_type": "display_data"
    },
    {
     "data": {
      "application/vnd.jupyter.widget-view+json": {
       "model_id": "3ea72c1095d24c8f9234c8003c46ad11",
       "version_major": 2,
       "version_minor": 0
      },
      "text/plain": [
       "daily files to download:   0%|          | 0/3 [00:00<?, ?files/s]"
      ]
     },
     "metadata": {},
     "output_type": "display_data"
    },
    {
     "data": {
      "application/vnd.jupyter.widget-view+json": {
       "model_id": "8815f780f7444866906aea7e1fb1952c",
       "version_major": 2,
       "version_minor": 0
      },
      "text/plain": [
       "daily files to download:   0%|          | 0/3 [00:00<?, ?files/s]"
      ]
     },
     "metadata": {},
     "output_type": "display_data"
    },
    {
     "data": {
      "application/vnd.jupyter.widget-view+json": {
       "model_id": "71fa664b75c940eab4d18bc82c76139f",
       "version_major": 2,
       "version_minor": 0
      },
      "text/plain": [
       "daily files to download:   0%|          | 0/3 [00:00<?, ?files/s]"
      ]
     },
     "metadata": {},
     "output_type": "display_data"
    },
    {
     "data": {
      "application/vnd.jupyter.widget-view+json": {
       "model_id": "8949914833ed46c3ab3d150023cc8edc",
       "version_major": 2,
       "version_minor": 0
      },
      "text/plain": [
       "daily files to download:   0%|          | 0/3 [00:00<?, ?files/s]"
      ]
     },
     "metadata": {},
     "output_type": "display_data"
    },
    {
     "data": {
      "application/vnd.jupyter.widget-view+json": {
       "model_id": "5622263eb4e54a17873526ed3fb2efed",
       "version_major": 2,
       "version_minor": 0
      },
      "text/plain": [
       "daily files to download:   0%|          | 0/3 [00:00<?, ?files/s]"
      ]
     },
     "metadata": {},
     "output_type": "display_data"
    },
    {
     "data": {
      "application/vnd.jupyter.widget-view+json": {
       "model_id": "8fa3fc6d98154e2f9b3cae1641731c0e",
       "version_major": 2,
       "version_minor": 0
      },
      "text/plain": [
       "daily files to download:   0%|          | 0/3 [00:00<?, ?files/s]"
      ]
     },
     "metadata": {},
     "output_type": "display_data"
    },
    {
     "data": {
      "application/vnd.jupyter.widget-view+json": {
       "model_id": "abea4aa5187342769ce11809150c5cfd",
       "version_major": 2,
       "version_minor": 0
      },
      "text/plain": [
       "daily files to download:   0%|          | 0/3 [00:00<?, ?files/s]"
      ]
     },
     "metadata": {},
     "output_type": "display_data"
    },
    {
     "data": {
      "application/vnd.jupyter.widget-view+json": {
       "model_id": "3549d475d1c649c68f5a0627657504ff",
       "version_major": 2,
       "version_minor": 0
      },
      "text/plain": [
       "daily files to download:   0%|          | 0/3 [00:00<?, ?files/s]"
      ]
     },
     "metadata": {},
     "output_type": "display_data"
    },
    {
     "data": {
      "application/vnd.jupyter.widget-view+json": {
       "model_id": "77e2a69f06a54f9c90e10ce2d55d4393",
       "version_major": 2,
       "version_minor": 0
      },
      "text/plain": [
       "daily files to download:   0%|          | 0/3 [00:00<?, ?files/s]"
      ]
     },
     "metadata": {},
     "output_type": "display_data"
    },
    {
     "data": {
      "application/vnd.jupyter.widget-view+json": {
       "model_id": "4a4d707a2c174af6ad5e4b7ff050ed29",
       "version_major": 2,
       "version_minor": 0
      },
      "text/plain": [
       "daily files to download:   0%|          | 0/3 [00:00<?, ?files/s]"
      ]
     },
     "metadata": {},
     "output_type": "display_data"
    },
    {
     "data": {
      "application/vnd.jupyter.widget-view+json": {
       "model_id": "b36fa8c9ae1b4b9ca9bc3d24ed8fbcf6",
       "version_major": 2,
       "version_minor": 0
      },
      "text/plain": [
       "daily files to download:   0%|          | 0/3 [00:00<?, ?files/s]"
      ]
     },
     "metadata": {},
     "output_type": "display_data"
    },
    {
     "data": {
      "application/vnd.jupyter.widget-view+json": {
       "model_id": "e8ba4320dbce49639fd4de9df56fc080",
       "version_major": 2,
       "version_minor": 0
      },
      "text/plain": [
       "daily files to download:   0%|          | 0/3 [00:00<?, ?files/s]"
      ]
     },
     "metadata": {},
     "output_type": "display_data"
    },
    {
     "data": {
      "application/vnd.jupyter.widget-view+json": {
       "model_id": "8fd5b99726614643a6981e2d7703e6c6",
       "version_major": 2,
       "version_minor": 0
      },
      "text/plain": [
       "daily files to download:   0%|          | 0/3 [00:00<?, ?files/s]"
      ]
     },
     "metadata": {},
     "output_type": "display_data"
    },
    {
     "data": {
      "application/vnd.jupyter.widget-view+json": {
       "model_id": "7c20feac3a62453f87c93e13fe849387",
       "version_major": 2,
       "version_minor": 0
      },
      "text/plain": [
       "daily files to download:   0%|          | 0/3 [00:00<?, ?files/s]"
      ]
     },
     "metadata": {},
     "output_type": "display_data"
    },
    {
     "data": {
      "application/vnd.jupyter.widget-view+json": {
       "model_id": "f68a09641fb443ebaf22a673ec9dcad8",
       "version_major": 2,
       "version_minor": 0
      },
      "text/plain": [
       "daily files to download:   0%|          | 0/3 [00:00<?, ?files/s]"
      ]
     },
     "metadata": {},
     "output_type": "display_data"
    },
    {
     "data": {
      "application/vnd.jupyter.widget-view+json": {
       "model_id": "73b58b227c3c4e27a2f1544937695e9a",
       "version_major": 2,
       "version_minor": 0
      },
      "text/plain": [
       "daily files to download:   0%|          | 0/3 [00:00<?, ?files/s]"
      ]
     },
     "metadata": {},
     "output_type": "display_data"
    },
    {
     "data": {
      "application/vnd.jupyter.widget-view+json": {
       "model_id": "ced7255ca8464e05b45b89572c417b6b",
       "version_major": 2,
       "version_minor": 0
      },
      "text/plain": [
       "daily files to download:   0%|          | 0/3 [00:00<?, ?files/s]"
      ]
     },
     "metadata": {},
     "output_type": "display_data"
    },
    {
     "data": {
      "application/vnd.jupyter.widget-view+json": {
       "model_id": "6e63ab3a930142248ca881bf59700ddd",
       "version_major": 2,
       "version_minor": 0
      },
      "text/plain": [
       "daily files to download:   0%|          | 0/3 [00:00<?, ?files/s]"
      ]
     },
     "metadata": {},
     "output_type": "display_data"
    },
    {
     "data": {
      "application/vnd.jupyter.widget-view+json": {
       "model_id": "d6cdd9b7bf0f43688f39514c50cb48cf",
       "version_major": 2,
       "version_minor": 0
      },
      "text/plain": [
       "daily files to download:   0%|          | 0/3 [00:00<?, ?files/s]"
      ]
     },
     "metadata": {},
     "output_type": "display_data"
    },
    {
     "data": {
      "application/vnd.jupyter.widget-view+json": {
       "model_id": "c0a7e25ea41c4cb9a972b95b5fdad805",
       "version_major": 2,
       "version_minor": 0
      },
      "text/plain": [
       "daily files to download:   0%|          | 0/3 [00:00<?, ?files/s]"
      ]
     },
     "metadata": {},
     "output_type": "display_data"
    },
    {
     "data": {
      "application/vnd.jupyter.widget-view+json": {
       "model_id": "bf3274e935d544f7806a34bf78e39eb7",
       "version_major": 2,
       "version_minor": 0
      },
      "text/plain": [
       "daily files to download:   0%|          | 0/3 [00:00<?, ?files/s]"
      ]
     },
     "metadata": {},
     "output_type": "display_data"
    },
    {
     "data": {
      "application/vnd.jupyter.widget-view+json": {
       "model_id": "12e925f9dc114aa595dc81a890bfe17c",
       "version_major": 2,
       "version_minor": 0
      },
      "text/plain": [
       "daily files to download:   0%|          | 0/3 [00:00<?, ?files/s]"
      ]
     },
     "metadata": {},
     "output_type": "display_data"
    },
    {
     "data": {
      "application/vnd.jupyter.widget-view+json": {
       "model_id": "90d7a309e9f643908c633e981cc0727d",
       "version_major": 2,
       "version_minor": 0
      },
      "text/plain": [
       "daily files to download:   0%|          | 0/3 [00:00<?, ?files/s]"
      ]
     },
     "metadata": {},
     "output_type": "display_data"
    },
    {
     "data": {
      "application/vnd.jupyter.widget-view+json": {
       "model_id": "fede4f29c6ac4b39ab4f61ad69ec710b",
       "version_major": 2,
       "version_minor": 0
      },
      "text/plain": [
       "daily files to download:   0%|          | 0/3 [00:00<?, ?files/s]"
      ]
     },
     "metadata": {},
     "output_type": "display_data"
    },
    {
     "data": {
      "application/vnd.jupyter.widget-view+json": {
       "model_id": "f2f31ea6fd3b4026847abd784882af7e",
       "version_major": 2,
       "version_minor": 0
      },
      "text/plain": [
       "daily files to download:   0%|          | 0/3 [00:00<?, ?files/s]"
      ]
     },
     "metadata": {},
     "output_type": "display_data"
    },
    {
     "data": {
      "application/vnd.jupyter.widget-view+json": {
       "model_id": "d3a1091ef49043f5aed143582e84ae1c",
       "version_major": 2,
       "version_minor": 0
      },
      "text/plain": [
       "daily files to download:   0%|          | 0/3 [00:00<?, ?files/s]"
      ]
     },
     "metadata": {},
     "output_type": "display_data"
    },
    {
     "data": {
      "application/vnd.jupyter.widget-view+json": {
       "model_id": "8f7d71e54f7143c8b04da381c5a8702d",
       "version_major": 2,
       "version_minor": 0
      },
      "text/plain": [
       "daily files to download:   0%|          | 0/3 [00:00<?, ?files/s]"
      ]
     },
     "metadata": {},
     "output_type": "display_data"
    },
    {
     "data": {
      "application/vnd.jupyter.widget-view+json": {
       "model_id": "17be4796895b46b68f3335eb343bdfe5",
       "version_major": 2,
       "version_minor": 0
      },
      "text/plain": [
       "daily files to download:   0%|          | 0/3 [00:00<?, ?files/s]"
      ]
     },
     "metadata": {},
     "output_type": "display_data"
    },
    {
     "data": {
      "application/vnd.jupyter.widget-view+json": {
       "model_id": "e5df4874dbc344f48a06dd63275482e3",
       "version_major": 2,
       "version_minor": 0
      },
      "text/plain": [
       "daily files to download:   0%|          | 0/3 [00:00<?, ?files/s]"
      ]
     },
     "metadata": {},
     "output_type": "display_data"
    },
    {
     "data": {
      "application/vnd.jupyter.widget-view+json": {
       "model_id": "9dcdf4771dbc47eb83e15d52f2588478",
       "version_major": 2,
       "version_minor": 0
      },
      "text/plain": [
       "daily files to download:   0%|          | 0/3 [00:00<?, ?files/s]"
      ]
     },
     "metadata": {},
     "output_type": "display_data"
    },
    {
     "data": {
      "application/vnd.jupyter.widget-view+json": {
       "model_id": "c87164232b3b47aca3e0b41a1e48603c",
       "version_major": 2,
       "version_minor": 0
      },
      "text/plain": [
       "daily files to download:   0%|          | 0/3 [00:00<?, ?files/s]"
      ]
     },
     "metadata": {},
     "output_type": "display_data"
    },
    {
     "data": {
      "application/vnd.jupyter.widget-view+json": {
       "model_id": "a2aa93ad5a83430a88aace0591f9e764",
       "version_major": 2,
       "version_minor": 0
      },
      "text/plain": [
       "daily files to download:   0%|          | 0/3 [00:00<?, ?files/s]"
      ]
     },
     "metadata": {},
     "output_type": "display_data"
    },
    {
     "data": {
      "application/vnd.jupyter.widget-view+json": {
       "model_id": "56d73dc36a524258bf327218de9038f6",
       "version_major": 2,
       "version_minor": 0
      },
      "text/plain": [
       "daily files to download:   0%|          | 0/3 [00:00<?, ?files/s]"
      ]
     },
     "metadata": {},
     "output_type": "display_data"
    },
    {
     "data": {
      "application/vnd.jupyter.widget-view+json": {
       "model_id": "4462d51873144e248c3ea6d8a9a90321",
       "version_major": 2,
       "version_minor": 0
      },
      "text/plain": [
       "daily files to download:   0%|          | 0/3 [00:00<?, ?files/s]"
      ]
     },
     "metadata": {},
     "output_type": "display_data"
    },
    {
     "data": {
      "application/vnd.jupyter.widget-view+json": {
       "model_id": "1987c8924a0a4c038e3622ff8288e9cd",
       "version_major": 2,
       "version_minor": 0
      },
      "text/plain": [
       "daily files to download:   0%|          | 0/3 [00:00<?, ?files/s]"
      ]
     },
     "metadata": {},
     "output_type": "display_data"
    },
    {
     "data": {
      "application/vnd.jupyter.widget-view+json": {
       "model_id": "b745ea4f6e4943339b06cd17f44baca6",
       "version_major": 2,
       "version_minor": 0
      },
      "text/plain": [
       "daily files to download:   0%|          | 0/3 [00:00<?, ?files/s]"
      ]
     },
     "metadata": {},
     "output_type": "display_data"
    },
    {
     "data": {
      "application/vnd.jupyter.widget-view+json": {
       "model_id": "371f63d95da74062a1011039fcba1293",
       "version_major": 2,
       "version_minor": 0
      },
      "text/plain": [
       "daily files to download:   0%|          | 0/3 [00:00<?, ?files/s]"
      ]
     },
     "metadata": {},
     "output_type": "display_data"
    },
    {
     "data": {
      "application/vnd.jupyter.widget-view+json": {
       "model_id": "26d6a322642f4ff482584375eee62401",
       "version_major": 2,
       "version_minor": 0
      },
      "text/plain": [
       "daily files to download:   0%|          | 0/3 [00:00<?, ?files/s]"
      ]
     },
     "metadata": {},
     "output_type": "display_data"
    },
    {
     "name": "stdout",
     "output_type": "stream",
     "text": [
      "Tried to dump data for 577 tickers:\n"
     ]
    },
    {
     "ename": "KeyError",
     "evalue": "'monthly'",
     "output_type": "error",
     "traceback": [
      "\u001b[0;31m---------------------------------------------------------------------------\u001b[0m",
      "\u001b[0;31mKeyError\u001b[0m                                  Traceback (most recent call last)",
      "Cell \u001b[0;32mIn[1], line 18\u001b[0m\n\u001b[1;32m     10\u001b[0m data_dumper \u001b[38;5;241m=\u001b[39m BinanceDataDumper(\n\u001b[1;32m     11\u001b[0m     path_dir_where_to_dump\u001b[38;5;241m=\u001b[39m\u001b[38;5;124m\"\u001b[39m\u001b[38;5;124m../data\u001b[39m\u001b[38;5;124m\"\u001b[39m,\n\u001b[1;32m     12\u001b[0m     asset_class\u001b[38;5;241m=\u001b[39m\u001b[38;5;124m\"\u001b[39m\u001b[38;5;124mspot\u001b[39m\u001b[38;5;124m\"\u001b[39m,\n\u001b[1;32m     13\u001b[0m     data_type\u001b[38;5;241m=\u001b[39m\u001b[38;5;124m\"\u001b[39m\u001b[38;5;124mklines\u001b[39m\u001b[38;5;124m\"\u001b[39m,\n\u001b[1;32m     14\u001b[0m     data_frequency\u001b[38;5;241m=\u001b[39m\u001b[38;5;124m\"\u001b[39m\u001b[38;5;124m1s\u001b[39m\u001b[38;5;124m\"\u001b[39m\n\u001b[1;32m     15\u001b[0m )\n\u001b[1;32m     17\u001b[0m \u001b[38;5;66;03m#calling dump_data method to retrieve data\u001b[39;00m\n\u001b[0;32m---> 18\u001b[0m \u001b[43mdata_dumper\u001b[49m\u001b[38;5;241;43m.\u001b[39;49m\u001b[43mdump_data\u001b[49m\u001b[43m(\u001b[49m\n\u001b[1;32m     19\u001b[0m \u001b[43m    \u001b[49m\u001b[43mdate_start\u001b[49m\u001b[38;5;241;43m=\u001b[39;49m\u001b[43mstart\u001b[49m\u001b[43m,\u001b[49m\n\u001b[1;32m     20\u001b[0m \u001b[43m    \u001b[49m\u001b[43mdate_end\u001b[49m\u001b[38;5;241;43m=\u001b[39;49m\u001b[43mend\u001b[49m\u001b[43m,\u001b[49m\n\u001b[1;32m     21\u001b[0m \u001b[43m    \u001b[49m\u001b[43mis_to_update_existing\u001b[49m\u001b[38;5;241;43m=\u001b[39;49m\u001b[38;5;28;43;01mFalse\u001b[39;49;00m\u001b[43m,\u001b[49m\n\u001b[1;32m     22\u001b[0m \u001b[43m    \u001b[49m\u001b[43mtickers_to_exclude\u001b[49m\u001b[38;5;241;43m=\u001b[39;49m\u001b[38;5;28;43;01mNone\u001b[39;49;00m\u001b[43m,\u001b[49m\n\u001b[1;32m     23\u001b[0m \u001b[43m)\u001b[49m\n",
      "File \u001b[0;32m~/repos/crypto-quant-live/venv/lib/python3.10/site-packages/char/main.py:169\u001b[0m, in \u001b[0;36mchar.<locals>.cfa_with_args.<locals>.wrapper\u001b[0;34m(*args, **kwargs)\u001b[0m\n\u001b[1;32m    161\u001b[0m             check_type_of_1_argument(\n\u001b[1;32m    162\u001b[0m                 str_function_name,\n\u001b[1;32m    163\u001b[0m                 str_argument_name,\n\u001b[1;32m    164\u001b[0m                 argument_value,\n\u001b[1;32m    165\u001b[0m                 dict_tuple_types_by_prefix_local[str_prefix]\n\u001b[1;32m    166\u001b[0m             )\n\u001b[1;32m    168\u001b[0m \u001b[38;5;66;03m#####\u001b[39;00m\n\u001b[0;32m--> 169\u001b[0m \u001b[38;5;28;01mreturn\u001b[39;00m \u001b[43mfunc_to_check\u001b[49m\u001b[43m(\u001b[49m\u001b[38;5;241;43m*\u001b[39;49m\u001b[43margs\u001b[49m\u001b[43m,\u001b[49m\u001b[43m \u001b[49m\u001b[38;5;241;43m*\u001b[39;49m\u001b[38;5;241;43m*\u001b[39;49m\u001b[43mkwargs\u001b[49m\u001b[43m)\u001b[49m\n",
      "File \u001b[0;32m~/repos/crypto-quant-live/venv/lib/python3.10/site-packages/binance_historical_data/data_dumper.py:162\u001b[0m, in \u001b[0;36mBinanceDataDumper.dump_data\u001b[0;34m(self, tickers, date_start, date_end, is_to_update_existing, int_max_tickers_to_get, tickers_to_exclude)\u001b[0m\n\u001b[1;32m    153\u001b[0m     \u001b[38;5;28mself\u001b[39m\u001b[38;5;241m.\u001b[39m_download_data_for_1_ticker(\n\u001b[1;32m    154\u001b[0m         ticker\u001b[38;5;241m=\u001b[39mticker,\n\u001b[1;32m    155\u001b[0m         date_start\u001b[38;5;241m=\u001b[39mdate_start_daily,\n\u001b[0;32m   (...)\u001b[0m\n\u001b[1;32m    158\u001b[0m         is_to_update_existing\u001b[38;5;241m=\u001b[39mis_to_update_existing,\n\u001b[1;32m    159\u001b[0m     )\n\u001b[1;32m    160\u001b[0m \u001b[38;5;66;03m#####\u001b[39;00m\n\u001b[1;32m    161\u001b[0m \u001b[38;5;66;03m# Print statistics\u001b[39;00m\n\u001b[0;32m--> 162\u001b[0m \u001b[38;5;28;43mself\u001b[39;49m\u001b[38;5;241;43m.\u001b[39;49m\u001b[43m_print_dump_statistics\u001b[49m\u001b[43m(\u001b[49m\u001b[43m)\u001b[49m\n",
      "File \u001b[0;32m~/repos/crypto-quant-live/venv/lib/python3.10/site-packages/binance_historical_data/data_dumper.py:581\u001b[0m, in \u001b[0;36mBinanceDataDumper._print_dump_statistics\u001b[0;34m(self)\u001b[0m\n\u001b[1;32m    579\u001b[0m     \u001b[38;5;28mself\u001b[39m\u001b[38;5;241m.\u001b[39m_print_full_dump_statististics()\n\u001b[1;32m    580\u001b[0m \u001b[38;5;28;01melse\u001b[39;00m:\n\u001b[0;32m--> 581\u001b[0m     \u001b[38;5;28;43mself\u001b[39;49m\u001b[38;5;241;43m.\u001b[39;49m\u001b[43m_print_short_dump_statististics\u001b[49m\u001b[43m(\u001b[49m\u001b[43m)\u001b[49m\n",
      "File \u001b[0;32m~/repos/crypto-quant-live/venv/lib/python3.10/site-packages/binance_historical_data/data_dumper.py:605\u001b[0m, in \u001b[0;36mBinanceDataDumper._print_short_dump_statististics\u001b[0;34m(self)\u001b[0m\n\u001b[1;32m    603\u001b[0m list_months_saved\u001b[38;5;241m.\u001b[39mappend(dict_stats\u001b[38;5;241m.\u001b[39mget(\u001b[38;5;124m\"\u001b[39m\u001b[38;5;124mmonthly\u001b[39m\u001b[38;5;124m\"\u001b[39m, \u001b[38;5;241m0\u001b[39m))\n\u001b[1;32m    604\u001b[0m list_days_saved\u001b[38;5;241m.\u001b[39mappend(dict_stats\u001b[38;5;241m.\u001b[39mget(\u001b[38;5;124m\"\u001b[39m\u001b[38;5;124mdaily\u001b[39m\u001b[38;5;124m\"\u001b[39m, \u001b[38;5;241m0\u001b[39m))\n\u001b[0;32m--> 605\u001b[0m \u001b[38;5;28;01mif\u001b[39;00m \u001b[43mdict_stats\u001b[49m\u001b[43m[\u001b[49m\u001b[38;5;124;43m\"\u001b[39;49m\u001b[38;5;124;43mmonthly\u001b[39;49m\u001b[38;5;124;43m\"\u001b[39;49m\u001b[43m]\u001b[49m \u001b[38;5;129;01mor\u001b[39;00m dict_stats[\u001b[38;5;124m\"\u001b[39m\u001b[38;5;124mdaily\u001b[39m\u001b[38;5;124m\"\u001b[39m]:\n\u001b[1;32m    606\u001b[0m     int_non_empty_dump_res \u001b[38;5;241m+\u001b[39m\u001b[38;5;241m=\u001b[39m \u001b[38;5;241m1\u001b[39m\n\u001b[1;32m    607\u001b[0m \u001b[38;5;28;01melse\u001b[39;00m:\n",
      "\u001b[0;31mKeyError\u001b[0m: 'monthly'"
     ]
    }
   ],
   "source": [
    "#defining time period variables\n",
    "start = dt.date(year = 2025, month = 5, day = 3)\n",
    "end = dt.date(year = 2025, month = 5, day = 4)\n",
    "\n",
    "\n",
    "#initialzise data dumper object from BinanceDataDumper\n",
    "data_dumper = BinanceDataDumper(\n",
    "    path_dir_where_to_dump=\"../data\",\n",
    "    asset_class=\"spot\",\n",
    "    data_type=\"klines\",\n",
    "    data_frequency=\"1s\"\n",
    ")\n",
    "\n",
    "#calling dump_data method to retrieve data\n",
    "data_dumper.dump_data(\n",
    "    date_start=start,\n",
    "    date_end=end,\n",
    "    is_to_update_existing=False,\n",
    "    tickers_to_exclude=None,\n",
    ")"
   ]
  },
  {
   "cell_type": "markdown",
   "id": "7327ff84",
   "metadata": {},
   "source": [
    "# Save to parquet"
   ]
  },
  {
   "cell_type": "code",
   "execution_count": 13,
   "id": "5a0d65fc",
   "metadata": {},
   "outputs": [
    {
     "name": "stdout",
     "output_type": "stream",
     "text": [
      "1: Loaded ../data/spot/daily/klines/IOTAUSDT/1s/IOTAUSDT-1s-2025-05-01.csv\n",
      "2: Loaded ../data/spot/daily/klines/IOTAUSDT/1s/IOTAUSDT-1s-2025-05-03.csv\n",
      "3: Loaded ../data/spot/daily/klines/IOTAUSDT/1s/IOTAUSDT-1s-2025-05-02.csv\n",
      "4: Loaded ../data/spot/daily/klines/BNSOLUSDT/1s/BNSOLUSDT-1s-2025-05-01.csv\n",
      "5: Loaded ../data/spot/daily/klines/BNSOLUSDT/1s/BNSOLUSDT-1s-2025-05-02.csv\n",
      "6: Loaded ../data/spot/daily/klines/BNSOLUSDT/1s/BNSOLUSDT-1s-2025-05-03.csv\n",
      "7: Loaded ../data/spot/daily/klines/GUSDT/1s/GUSDT-1s-2025-05-02.csv\n",
      "8: Loaded ../data/spot/daily/klines/GUSDT/1s/GUSDT-1s-2025-05-01.csv\n",
      "9: Loaded ../data/spot/daily/klines/GUSDT/1s/GUSDT-1s-2025-05-03.csv\n",
      "10: Loaded ../data/spot/daily/klines/COTIUSDT/1s/COTIUSDT-1s-2025-05-03.csv\n",
      "11: Loaded ../data/spot/daily/klines/COTIUSDT/1s/COTIUSDT-1s-2025-05-02.csv\n",
      "12: Loaded ../data/spot/daily/klines/COTIUSDT/1s/COTIUSDT-1s-2025-05-01.csv\n",
      "13: Loaded ../data/spot/daily/klines/FIDAUSDT/1s/FIDAUSDT-1s-2025-05-01.csv\n",
      "14: Loaded ../data/spot/daily/klines/FIDAUSDT/1s/FIDAUSDT-1s-2025-05-03.csv\n",
      "15: Loaded ../data/spot/daily/klines/FIDAUSDT/1s/FIDAUSDT-1s-2025-05-02.csv\n",
      "16: Loaded ../data/spot/daily/klines/GASUSDT/1s/GASUSDT-1s-2025-05-02.csv\n",
      "17: Loaded ../data/spot/daily/klines/GASUSDT/1s/GASUSDT-1s-2025-05-03.csv\n",
      "18: Loaded ../data/spot/daily/klines/GASUSDT/1s/GASUSDT-1s-2025-05-01.csv\n",
      "19: Loaded ../data/spot/daily/klines/DYMUSDT/1s/DYMUSDT-1s-2025-05-02.csv\n",
      "20: Loaded ../data/spot/daily/klines/DYMUSDT/1s/DYMUSDT-1s-2025-05-03.csv\n",
      "21: Loaded ../data/spot/daily/klines/DYMUSDT/1s/DYMUSDT-1s-2025-05-01.csv\n",
      "22: Loaded ../data/spot/daily/klines/PNUTUSDT/1s/PNUTUSDT-1s-2025-05-01.csv\n",
      "23: Loaded ../data/spot/daily/klines/PNUTUSDT/1s/PNUTUSDT-1s-2025-05-03.csv\n",
      "24: Loaded ../data/spot/daily/klines/PNUTUSDT/1s/PNUTUSDT-1s-2025-05-02.csv\n",
      "25: Loaded ../data/spot/daily/klines/EURUSDT/1s/EURUSDT-1s-2025-05-03.csv\n",
      "26: Loaded ../data/spot/daily/klines/EURUSDT/1s/EURUSDT-1s-2025-05-01.csv\n",
      "27: Loaded ../data/spot/daily/klines/EURUSDT/1s/EURUSDT-1s-2025-05-02.csv\n",
      "28: Loaded ../data/spot/daily/klines/ARBUSDT/1s/ARBUSDT-1s-2025-05-01.csv\n",
      "29: Loaded ../data/spot/daily/klines/ARBUSDT/1s/ARBUSDT-1s-2025-05-02.csv\n",
      "30: Loaded ../data/spot/daily/klines/ARBUSDT/1s/ARBUSDT-1s-2025-05-03.csv\n",
      "31: Loaded ../data/spot/daily/klines/OMNIUSDT/1s/OMNIUSDT-1s-2025-05-03.csv\n",
      "32: Loaded ../data/spot/daily/klines/OMNIUSDT/1s/OMNIUSDT-1s-2025-05-02.csv\n",
      "33: Loaded ../data/spot/daily/klines/OMNIUSDT/1s/OMNIUSDT-1s-2025-05-01.csv\n",
      "34: Loaded ../data/spot/daily/klines/MBLUSDT/1s/MBLUSDT-1s-2025-05-03.csv\n",
      "35: Loaded ../data/spot/daily/klines/MBLUSDT/1s/MBLUSDT-1s-2025-05-01.csv\n",
      "36: Loaded ../data/spot/daily/klines/MBLUSDT/1s/MBLUSDT-1s-2025-05-02.csv\n",
      "37: Loaded ../data/spot/daily/klines/SLFUSDT/1s/SLFUSDT-1s-2025-05-01.csv\n",
      "38: Loaded ../data/spot/daily/klines/SLFUSDT/1s/SLFUSDT-1s-2025-05-03.csv\n",
      "39: Loaded ../data/spot/daily/klines/SLFUSDT/1s/SLFUSDT-1s-2025-05-02.csv\n",
      "40: Loaded ../data/spot/daily/klines/COWUSDT/1s/COWUSDT-1s-2025-05-01.csv\n",
      "41: Loaded ../data/spot/daily/klines/COWUSDT/1s/COWUSDT-1s-2025-05-02.csv\n",
      "42: Loaded ../data/spot/daily/klines/COWUSDT/1s/COWUSDT-1s-2025-05-03.csv\n",
      "43: Loaded ../data/spot/daily/klines/CHRUSDT/1s/CHRUSDT-1s-2025-05-03.csv\n",
      "44: Loaded ../data/spot/daily/klines/CHRUSDT/1s/CHRUSDT-1s-2025-05-01.csv\n",
      "45: Loaded ../data/spot/daily/klines/CHRUSDT/1s/CHRUSDT-1s-2025-05-02.csv\n",
      "46: Loaded ../data/spot/daily/klines/ENJUSDT/1s/ENJUSDT-1s-2025-05-02.csv\n",
      "47: Loaded ../data/spot/daily/klines/ENJUSDT/1s/ENJUSDT-1s-2025-05-03.csv\n",
      "48: Loaded ../data/spot/daily/klines/ENJUSDT/1s/ENJUSDT-1s-2025-05-01.csv\n",
      "49: Loaded ../data/spot/daily/klines/AUDIOUSDT/1s/AUDIOUSDT-1s-2025-05-03.csv\n",
      "50: Loaded ../data/spot/daily/klines/AUDIOUSDT/1s/AUDIOUSDT-1s-2025-05-01.csv\n",
      "51: Loaded ../data/spot/daily/klines/AUDIOUSDT/1s/AUDIOUSDT-1s-2025-05-02.csv\n",
      "52: Loaded ../data/spot/daily/klines/JUVUSDT/1s/JUVUSDT-1s-2025-05-01.csv\n",
      "53: Loaded ../data/spot/daily/klines/JUVUSDT/1s/JUVUSDT-1s-2025-05-02.csv\n",
      "54: Loaded ../data/spot/daily/klines/JUVUSDT/1s/JUVUSDT-1s-2025-05-03.csv\n",
      "55: Loaded ../data/spot/daily/klines/RPLUSDT/1s/RPLUSDT-1s-2025-05-02.csv\n",
      "56: Loaded ../data/spot/daily/klines/RPLUSDT/1s/RPLUSDT-1s-2025-05-01.csv\n",
      "57: Loaded ../data/spot/daily/klines/RPLUSDT/1s/RPLUSDT-1s-2025-05-03.csv\n",
      "58: Loaded ../data/spot/daily/klines/APTUSDT/1s/APTUSDT-1s-2025-05-01.csv\n",
      "59: Loaded ../data/spot/daily/klines/APTUSDT/1s/APTUSDT-1s-2025-05-02.csv\n",
      "60: Loaded ../data/spot/daily/klines/APTUSDT/1s/APTUSDT-1s-2025-05-03.csv\n",
      "61: Loaded ../data/spot/daily/klines/DUSDT/1s/DUSDT-1s-2025-05-02.csv\n",
      "62: Loaded ../data/spot/daily/klines/DUSDT/1s/DUSDT-1s-2025-05-03.csv\n",
      "63: Loaded ../data/spot/daily/klines/DUSDT/1s/DUSDT-1s-2025-05-01.csv\n",
      "64: Loaded ../data/spot/daily/klines/ICXUSDT/1s/ICXUSDT-1s-2025-05-01.csv\n",
      "65: Loaded ../data/spot/daily/klines/ICXUSDT/1s/ICXUSDT-1s-2025-05-03.csv\n",
      "66: Loaded ../data/spot/daily/klines/ICXUSDT/1s/ICXUSDT-1s-2025-05-02.csv\n",
      "67: Loaded ../data/spot/daily/klines/FUNUSDT/1s/FUNUSDT-1s-2025-05-01.csv\n",
      "68: Loaded ../data/spot/daily/klines/FUNUSDT/1s/FUNUSDT-1s-2025-05-02.csv\n",
      "69: Loaded ../data/spot/daily/klines/FUNUSDT/1s/FUNUSDT-1s-2025-05-03.csv\n",
      "70: Loaded ../data/spot/daily/klines/ALICEUSDT/1s/ALICEUSDT-1s-2025-05-02.csv\n",
      "71: Loaded ../data/spot/daily/klines/ALICEUSDT/1s/ALICEUSDT-1s-2025-05-03.csv\n",
      "72: Loaded ../data/spot/daily/klines/ALICEUSDT/1s/ALICEUSDT-1s-2025-05-01.csv\n",
      "73: Loaded ../data/spot/daily/klines/KAIAUSDT/1s/KAIAUSDT-1s-2025-05-02.csv\n",
      "74: Loaded ../data/spot/daily/klines/KAIAUSDT/1s/KAIAUSDT-1s-2025-05-03.csv\n",
      "75: Loaded ../data/spot/daily/klines/KAIAUSDT/1s/KAIAUSDT-1s-2025-05-01.csv\n",
      "76: Loaded ../data/spot/daily/klines/SSVUSDT/1s/SSVUSDT-1s-2025-05-01.csv\n",
      "77: Loaded ../data/spot/daily/klines/SSVUSDT/1s/SSVUSDT-1s-2025-05-02.csv\n",
      "78: Loaded ../data/spot/daily/klines/SSVUSDT/1s/SSVUSDT-1s-2025-05-03.csv\n",
      "79: Loaded ../data/spot/daily/klines/EURIUSDT/1s/EURIUSDT-1s-2025-05-02.csv\n",
      "80: Loaded ../data/spot/daily/klines/EURIUSDT/1s/EURIUSDT-1s-2025-05-03.csv\n",
      "81: Loaded ../data/spot/daily/klines/EURIUSDT/1s/EURIUSDT-1s-2025-05-01.csv\n",
      "82: Loaded ../data/spot/daily/klines/KMDUSDT/1s/KMDUSDT-1s-2025-05-03.csv\n",
      "83: Loaded ../data/spot/daily/klines/KMDUSDT/1s/KMDUSDT-1s-2025-05-02.csv\n",
      "84: Loaded ../data/spot/daily/klines/KMDUSDT/1s/KMDUSDT-1s-2025-05-01.csv\n",
      "85: Loaded ../data/spot/daily/klines/PIVXUSDT/1s/PIVXUSDT-1s-2025-05-01.csv\n",
      "86: Loaded ../data/spot/daily/klines/PIVXUSDT/1s/PIVXUSDT-1s-2025-05-02.csv\n",
      "87: Loaded ../data/spot/daily/klines/PIVXUSDT/1s/PIVXUSDT-1s-2025-05-03.csv\n",
      "88: Loaded ../data/spot/daily/klines/WAXPUSDT/1s/WAXPUSDT-1s-2025-05-03.csv\n",
      "89: Loaded ../data/spot/daily/klines/WAXPUSDT/1s/WAXPUSDT-1s-2025-05-02.csv\n",
      "90: Loaded ../data/spot/daily/klines/WAXPUSDT/1s/WAXPUSDT-1s-2025-05-01.csv\n",
      "91: Loaded ../data/spot/daily/klines/BMTUSDT/1s/BMTUSDT-1s-2025-05-01.csv\n",
      "92: Loaded ../data/spot/daily/klines/BMTUSDT/1s/BMTUSDT-1s-2025-05-03.csv\n",
      "93: Loaded ../data/spot/daily/klines/BMTUSDT/1s/BMTUSDT-1s-2025-05-02.csv\n",
      "94: Loaded ../data/spot/daily/klines/LEVERUSDT/1s/LEVERUSDT-1s-2025-05-02.csv\n",
      "95: Loaded ../data/spot/daily/klines/LEVERUSDT/1s/LEVERUSDT-1s-2025-05-03.csv\n",
      "96: Loaded ../data/spot/daily/klines/LEVERUSDT/1s/LEVERUSDT-1s-2025-05-01.csv\n",
      "97: Loaded ../data/spot/daily/klines/EOSUSDT/1s/EOSUSDT-1s-2025-05-01.csv\n",
      "98: Loaded ../data/spot/daily/klines/EOSUSDT/1s/EOSUSDT-1s-2025-05-02.csv\n",
      "99: Loaded ../data/spot/daily/klines/EOSUSDT/1s/EOSUSDT-1s-2025-05-03.csv\n",
      "100: Loaded ../data/spot/daily/klines/BIFIUSDT/1s/BIFIUSDT-1s-2025-05-02.csv\n",
      "✅ Combined and saved to: ./all_symbols_1s_combined_sorted.parquet\n"
     ]
    }
   ],
   "source": [
    "# Root folder where all symbol folders are stored\n",
    "input_root = \"../data/spot/daily/klines/\"\n",
    "output_file = \"./all_symbols_1s_combined_sorted.parquet\"\n",
    "\n",
    "# Prepare an empty list to hold all data\n",
    "all_data = []\n",
    "\n",
    "# Iterate over all symbol folders\n",
    "symbol_dirs = glob.glob(os.path.join(input_root, \"*\"))\n",
    "\n",
    "i = 0\n",
    "for symbol_path in symbol_dirs:\n",
    "    symbol = os.path.basename(symbol_path)\n",
    "    csv_files = glob.glob(os.path.join(symbol_path, \"1s\", \"*.csv\"))\n",
    "\n",
    "    for file_path in csv_files:\n",
    "        if i >= 100:\n",
    "            break  # Stop after 100 files total\n",
    "\n",
    "        try:\n",
    "            df = pd.read_csv(\n",
    "                file_path,\n",
    "                names=[\"openTime\", \"open\", \"high\", \"low\", \"close\", \"volume\", \"closeTime\",\n",
    "                    \"quoteAssetVolume\", \"numberOfTrades\", \"takerBuyBaseAssetVolume\",\n",
    "                    \"takerBuyQuoteAssetVolume\", \"ignore\"]\n",
    "            )\n",
    "            df[\"symbol\"] = symbol\n",
    "            df[\"openTime\"] = pd.to_datetime(df[\"openTime\"], unit=\"us\")\n",
    "            df[\"closeTime\"] = pd.to_datetime(df[\"closeTime\"], unit=\"us\")\n",
    "            all_data.append(df)\n",
    "            i += 1\n",
    "            print(f\"{i}: Loaded {file_path}\")\n",
    "        except Exception as e:\n",
    "            print(f\"❌ Failed to load {file_path}: {e}\")\n",
    "\n",
    "# Concatenate everything\n",
    "combined_df = pd.concat(all_data, ignore_index=True)\n",
    "\n",
    "\n",
    "# Save to one Parquet file\n",
    "combined_df.to_parquet(output_file, index=False, compression=\"snappy\")\n",
    "\n",
    "print(f\"✅ Combined and saved to: {output_file}\")"
   ]
  },
  {
   "cell_type": "code",
   "execution_count": 14,
   "id": "e7e44fc6",
   "metadata": {},
   "outputs": [],
   "source": [
    "df = pd.read_parquet(\"all_symbols_1s_combined_sorted.parquet\",\n",
    "columns=[\n",
    "    \"symbol\",\n",
    "    \"closeTime\",\n",
    "    \"open\",\n",
    "    \"close\",\n",
    "    \"volume\"])"
   ]
  },
  {
   "cell_type": "code",
   "execution_count": 12,
   "id": "0e339088",
   "metadata": {},
   "outputs": [
    {
     "data": {
      "text/html": [
       "<div>\n",
       "<style scoped>\n",
       "    .dataframe tbody tr th:only-of-type {\n",
       "        vertical-align: middle;\n",
       "    }\n",
       "\n",
       "    .dataframe tbody tr th {\n",
       "        vertical-align: top;\n",
       "    }\n",
       "\n",
       "    .dataframe thead th {\n",
       "        text-align: right;\n",
       "    }\n",
       "</style>\n",
       "<table border=\"1\" class=\"dataframe\">\n",
       "  <thead>\n",
       "    <tr style=\"text-align: right;\">\n",
       "      <th></th>\n",
       "      <th>symbol</th>\n",
       "      <th>closeTime</th>\n",
       "      <th>open</th>\n",
       "      <th>close</th>\n",
       "      <th>volume</th>\n",
       "    </tr>\n",
       "  </thead>\n",
       "  <tbody>\n",
       "    <tr>\n",
       "      <th>0</th>\n",
       "      <td>IOTAUSDT</td>\n",
       "      <td>2025-05-01 00:00:00.999999</td>\n",
       "      <td>0.2065</td>\n",
       "      <td>0.2065</td>\n",
       "      <td>0.0</td>\n",
       "    </tr>\n",
       "    <tr>\n",
       "      <th>1</th>\n",
       "      <td>IOTAUSDT</td>\n",
       "      <td>2025-05-01 00:00:01.999999</td>\n",
       "      <td>0.2065</td>\n",
       "      <td>0.2065</td>\n",
       "      <td>0.0</td>\n",
       "    </tr>\n",
       "    <tr>\n",
       "      <th>2</th>\n",
       "      <td>IOTAUSDT</td>\n",
       "      <td>2025-05-01 00:00:02.999999</td>\n",
       "      <td>0.2065</td>\n",
       "      <td>0.2065</td>\n",
       "      <td>0.0</td>\n",
       "    </tr>\n",
       "    <tr>\n",
       "      <th>3</th>\n",
       "      <td>IOTAUSDT</td>\n",
       "      <td>2025-05-01 00:00:03.999999</td>\n",
       "      <td>0.2065</td>\n",
       "      <td>0.2065</td>\n",
       "      <td>0.0</td>\n",
       "    </tr>\n",
       "    <tr>\n",
       "      <th>4</th>\n",
       "      <td>IOTAUSDT</td>\n",
       "      <td>2025-05-01 00:00:04.999999</td>\n",
       "      <td>0.2065</td>\n",
       "      <td>0.2065</td>\n",
       "      <td>0.0</td>\n",
       "    </tr>\n",
       "    <tr>\n",
       "      <th>...</th>\n",
       "      <td>...</td>\n",
       "      <td>...</td>\n",
       "      <td>...</td>\n",
       "      <td>...</td>\n",
       "      <td>...</td>\n",
       "    </tr>\n",
       "    <tr>\n",
       "      <th>8639995</th>\n",
       "      <td>IOTAUSDT</td>\n",
       "      <td>2025-05-01 23:59:55.999999</td>\n",
       "      <td>0.2090</td>\n",
       "      <td>0.2090</td>\n",
       "      <td>0.0</td>\n",
       "    </tr>\n",
       "    <tr>\n",
       "      <th>8639996</th>\n",
       "      <td>IOTAUSDT</td>\n",
       "      <td>2025-05-01 23:59:56.999999</td>\n",
       "      <td>0.2090</td>\n",
       "      <td>0.2090</td>\n",
       "      <td>0.0</td>\n",
       "    </tr>\n",
       "    <tr>\n",
       "      <th>8639997</th>\n",
       "      <td>IOTAUSDT</td>\n",
       "      <td>2025-05-01 23:59:57.999999</td>\n",
       "      <td>0.2090</td>\n",
       "      <td>0.2090</td>\n",
       "      <td>0.0</td>\n",
       "    </tr>\n",
       "    <tr>\n",
       "      <th>8639998</th>\n",
       "      <td>IOTAUSDT</td>\n",
       "      <td>2025-05-01 23:59:58.999999</td>\n",
       "      <td>0.2090</td>\n",
       "      <td>0.2090</td>\n",
       "      <td>0.0</td>\n",
       "    </tr>\n",
       "    <tr>\n",
       "      <th>8639999</th>\n",
       "      <td>IOTAUSDT</td>\n",
       "      <td>2025-05-01 23:59:59.999999</td>\n",
       "      <td>0.2090</td>\n",
       "      <td>0.2090</td>\n",
       "      <td>0.0</td>\n",
       "    </tr>\n",
       "  </tbody>\n",
       "</table>\n",
       "<p>8640000 rows × 5 columns</p>\n",
       "</div>"
      ],
      "text/plain": [
       "           symbol                  closeTime    open   close  volume\n",
       "0        IOTAUSDT 2025-05-01 00:00:00.999999  0.2065  0.2065     0.0\n",
       "1        IOTAUSDT 2025-05-01 00:00:01.999999  0.2065  0.2065     0.0\n",
       "2        IOTAUSDT 2025-05-01 00:00:02.999999  0.2065  0.2065     0.0\n",
       "3        IOTAUSDT 2025-05-01 00:00:03.999999  0.2065  0.2065     0.0\n",
       "4        IOTAUSDT 2025-05-01 00:00:04.999999  0.2065  0.2065     0.0\n",
       "...           ...                        ...     ...     ...     ...\n",
       "8639995  IOTAUSDT 2025-05-01 23:59:55.999999  0.2090  0.2090     0.0\n",
       "8639996  IOTAUSDT 2025-05-01 23:59:56.999999  0.2090  0.2090     0.0\n",
       "8639997  IOTAUSDT 2025-05-01 23:59:57.999999  0.2090  0.2090     0.0\n",
       "8639998  IOTAUSDT 2025-05-01 23:59:58.999999  0.2090  0.2090     0.0\n",
       "8639999  IOTAUSDT 2025-05-01 23:59:59.999999  0.2090  0.2090     0.0\n",
       "\n",
       "[8640000 rows x 5 columns]"
      ]
     },
     "execution_count": 12,
     "metadata": {},
     "output_type": "execute_result"
    }
   ],
   "source": [
    "df[df[\"symbol\"]==\"IOTAUSDT\"]"
   ]
  }
 ],
 "metadata": {
  "kernelspec": {
   "display_name": "venv",
   "language": "python",
   "name": "python3"
  },
  "language_info": {
   "codemirror_mode": {
    "name": "ipython",
    "version": 3
   },
   "file_extension": ".py",
   "mimetype": "text/x-python",
   "name": "python",
   "nbconvert_exporter": "python",
   "pygments_lexer": "ipython3",
   "version": "3.10.12"
  }
 },
 "nbformat": 4,
 "nbformat_minor": 5
}
